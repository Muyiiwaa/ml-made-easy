{
 "cells": [
  {
   "cell_type": "markdown",
   "metadata": {},
   "source": [
    "### CROSS VALIDATION"
   ]
  },
  {
   "cell_type": "code",
   "execution_count": 2,
   "metadata": {},
   "outputs": [],
   "source": [
    "import pandas as pd\n",
    "import numpy as np\n",
    "\n",
    "import matplotlib.pyplot as plt\n",
    "import seaborn as sns\n",
    "import plotly.express as px\n",
    "\n",
    "from xgboost import XGBClassifier,XGBRegressor\n",
    "from sklearn.metrics import mean_squared_error,confusion_matrix,f1_score\n",
    "from sklearn.model_selection import train_test_split,KFold\n",
    "from sklearn import datasets"
   ]
  },
  {
   "cell_type": "code",
   "execution_count": 13,
   "metadata": {},
   "outputs": [],
   "source": [
    "# loading the dataset\n",
    "X = datasets.load_breast_cancer(as_frame=True)['data']\n",
    "y = datasets.load_breast_cancer()['target']\n"
   ]
  },
  {
   "cell_type": "code",
   "execution_count": 15,
   "metadata": {},
   "outputs": [],
   "source": [
    "y = pd.DataFrame(data=y,columns=['target'])"
   ]
  },
  {
   "cell_type": "code",
   "execution_count": null,
   "metadata": {},
   "outputs": [],
   "source": [
    "# create a function for our model.\n",
    "\n",
    "\n",
    "def classifier_model(X, y, **params):\n",
    "    X_train, X_test, y_train, y_test = train_test_split(X,y, test_size= 0.2)\n",
    "    xgb = XGBClassifier(random_state = 42)\n",
    "    model = xgb.fit(X_train, y_train)\n",
    "    test_pred = model.predict(X_test)\n",
    "    train_pred = model.predict(X_train)\n",
    "    test_score = f1_score(y_test, test_pred)\n",
    "    train_score = f1_score(y_train, train_pred)\n",
    "    \n",
    "    return model, test_score, train_score\n",
    "\n",
    "random = list(range(20,300,20))\n",
    "\n",
    "models = []\n",
    "test_scores = []\n",
    "train_scores = []\n",
    "\n",
    "for i in random:\n",
    "    model, test_score, train_score = classifier_model(X, y, n_estimators = 2,\n",
    "                                                      random_state = i)\n",
    "    models.append(model)\n",
    "    test_scores.append(test_score)\n",
    "    train_scores.append(train_score)\n",
    "    \n",
    "    print(f'train score: {train_score}, test score : {test_score}, random state: {i}')"
   ]
  },
  {
   "cell_type": "code",
   "execution_count": 20,
   "metadata": {},
   "outputs": [
    {
     "name": "stderr",
     "output_type": "stream",
     "text": [
      "c:\\Users\\hp\\anaconda3\\Lib\\site-packages\\sklearn\\metrics\\_classification.py:1757: UndefinedMetricWarning:\n",
      "\n",
      "F-score is ill-defined and being set to 0.0 due to no true nor predicted samples. Use `zero_division` parameter to control this behavior.\n",
      "\n"
     ]
    },
    {
     "name": "stdout",
     "output_type": "stream",
     "text": [
      "train score: 1.0, test score : 0.0, random state: 280\n",
      "train score: 1.0, test score : 1.0, random state: 280\n",
      "train score: 1.0, test score : 0.8750000000000001, random state: 280\n",
      "train score: 1.0, test score : 0.9565217391304348, random state: 280\n",
      "train score: 1.0, test score : 0.9, random state: 280\n",
      "train score: 1.0, test score : 1.0, random state: 280\n",
      "train score: 1.0, test score : 1.0, random state: 280\n",
      "train score: 1.0, test score : 0.896551724137931, random state: 280\n",
      "train score: 1.0, test score : 0.9600000000000001, random state: 280\n",
      "train score: 1.0, test score : 1.0, random state: 280\n",
      "train score: 1.0, test score : 1.0, random state: 280\n",
      "train score: 1.0, test score : 1.0, random state: 280\n",
      "train score: 1.0, test score : 1.0, random state: 280\n",
      "train score: 1.0, test score : 0.888888888888889, random state: 280\n",
      "train score: 1.0, test score : 1.0, random state: 280\n",
      "train score: 1.0, test score : 0.9696969696969697, random state: 280\n",
      "train score: 1.0, test score : 1.0, random state: 280\n",
      "train score: 1.0, test score : 1.0, random state: 280\n",
      "train score: 1.0, test score : 1.0, random state: 280\n",
      "train score: 1.0, test score : 1.0, random state: 280\n",
      "train score: 1.0, test score : 0.967741935483871, random state: 280\n",
      "train score: 1.0, test score : 1.0, random state: 280\n",
      "train score: 1.0, test score : 1.0, random state: 280\n",
      "train score: 1.0, test score : 1.0, random state: 280\n",
      "train score: 1.0, test score : 1.0, random state: 280\n",
      "train score: 1.0, test score : 0.9285714285714286, random state: 280\n",
      "train score: 1.0, test score : 1.0, random state: 280\n",
      "train score: 1.0, test score : 1.0, random state: 280\n",
      "train score: 1.0, test score : 1.0, random state: 280\n",
      "train score: 1.0, test score : 1.0, random state: 280\n",
      "=========================================================================\n",
      "Overall average f1_score is 0.9447657561969841\n"
     ]
    }
   ],
   "source": [
    "def classifier_model(X_train,X_test,y_train, y_test, **params):\n",
    "    xgb = XGBClassifier(random_state = 42)\n",
    "    model = xgb.fit(X_train, y_train)\n",
    "    test_pred = model.predict(X_test)\n",
    "    train_pred = model.predict(X_train)\n",
    "    test_score = f1_score(y_test, test_pred)\n",
    "    train_score = f1_score(y_train, train_pred)\n",
    "    \n",
    "    return model, test_score, train_score\n",
    "\n",
    "kfold = KFold(n_splits=30)\n",
    "\n",
    "train_f1 = []\n",
    "test_f1 = []\n",
    "model_cls = []\n",
    "\n",
    "for train_idxs, test_idxs in kfold.split(X):\n",
    "    x_train, y_train = X.iloc[train_idxs], y.iloc[train_idxs]\n",
    "    x_test, y_test = X.iloc[test_idxs], y.iloc[test_idxs]\n",
    "    \n",
    "    model, test_score, train_score = classifier_model(x_train,x_test,y_train, y_test,\n",
    "                                                              n_estimators = 3, max_depth = 2)\n",
    "    \n",
    "    model_cls.append(model)\n",
    "    test_f1.append(test_score)\n",
    "    train_f1.append(train_score)\n",
    "    print(f'train score: {train_score}, test score : {test_score}, random state: {i}')\n",
    "    \n",
    "print('=========================================================================')\n",
    "print(f'Overall average f1_score is {sum(test_f1)/len(test_f1)}')"
   ]
  },
  {
   "cell_type": "code",
   "execution_count": null,
   "metadata": {},
   "outputs": [],
   "source": []
  }
 ],
 "metadata": {
  "kernelspec": {
   "display_name": "base",
   "language": "python",
   "name": "python3"
  },
  "language_info": {
   "codemirror_mode": {
    "name": "ipython",
    "version": 3
   },
   "file_extension": ".py",
   "mimetype": "text/x-python",
   "name": "python",
   "nbconvert_exporter": "python",
   "pygments_lexer": "ipython3",
   "version": "0.0.0"
  }
 },
 "nbformat": 4,
 "nbformat_minor": 2
}
