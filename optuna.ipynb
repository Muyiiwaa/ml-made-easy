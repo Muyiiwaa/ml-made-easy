{
 "cells": [
  {
   "cell_type": "markdown",
   "metadata": {},
   "source": [
    "### TUNING WITH OPTUNA"
   ]
  },
  {
   "cell_type": "code",
   "execution_count": 2,
   "metadata": {},
   "outputs": [],
   "source": [
    "import pandas as pd\n",
    "import numpy as np\n",
    "\n",
    "import seaborn as sns\n",
    "import matplotlib.pyplot as plt\n",
    "\n",
    "\n",
    "from sklearn import datasets\n",
    "from sklearn.ensemble import RandomForestClassifier,RandomForestRegressor\n",
    "from sklearn.model_selection import train_test_split, cross_val_score\n",
    "\n",
    "\n",
    "import optuna"
   ]
  },
  {
   "cell_type": "code",
   "execution_count": 4,
   "metadata": {},
   "outputs": [
    {
     "name": "stderr",
     "output_type": "stream",
     "text": [
      "[I 2024-02-23 11:57:58,149] A new study created in memory with name: no-name-900b4d7a-b9ff-44fb-8382-405ba8f0fb44\n"
     ]
    },
    {
     "name": "stderr",
     "output_type": "stream",
     "text": [
      "[I 2024-02-23 11:58:12,941] Trial 0 finished with value: 57.13817060849559 and parameters: {'n_estimators': 520, 'max_depth': 95, 'min_samples_leaf': 23, 'min_samples_split': 10}. Best is trial 0 with value: 57.13817060849559.\n",
      "[I 2024-02-23 11:58:20,904] Trial 1 finished with value: 56.099419192521694 and parameters: {'n_estimators': 225, 'max_depth': 69, 'min_samples_leaf': 6, 'min_samples_split': 13}. Best is trial 1 with value: 56.099419192521694.\n",
      "[I 2024-02-23 11:58:43,326] Trial 2 finished with value: 56.20191806882586 and parameters: {'n_estimators': 620, 'max_depth': 42, 'min_samples_leaf': 1, 'min_samples_split': 27}. Best is trial 1 with value: 56.099419192521694.\n",
      "[I 2024-02-23 11:59:13,223] Trial 3 finished with value: 56.63243037343328 and parameters: {'n_estimators': 886, 'max_depth': 31, 'min_samples_leaf': 18, 'min_samples_split': 30}. Best is trial 1 with value: 56.099419192521694.\n",
      "[I 2024-02-23 11:59:46,774] Trial 4 finished with value: 55.748657670083404 and parameters: {'n_estimators': 846, 'max_depth': 7, 'min_samples_leaf': 9, 'min_samples_split': 10}. Best is trial 4 with value: 55.748657670083404.\n",
      "[I 2024-02-23 12:00:25,521] Trial 5 finished with value: 56.12924583020698 and parameters: {'n_estimators': 824, 'max_depth': 63, 'min_samples_leaf': 4, 'min_samples_split': 2}. Best is trial 4 with value: 55.748657670083404.\n",
      "[I 2024-02-23 12:00:55,857] Trial 6 finished with value: 56.04497795238963 and parameters: {'n_estimators': 943, 'max_depth': 15, 'min_samples_leaf': 13, 'min_samples_split': 12}. Best is trial 4 with value: 55.748657670083404.\n",
      "[I 2024-02-23 12:01:21,353] Trial 7 finished with value: 57.374293748298854 and parameters: {'n_estimators': 871, 'max_depth': 43, 'min_samples_leaf': 25, 'min_samples_split': 22}. Best is trial 4 with value: 55.748657670083404.\n",
      "[I 2024-02-23 12:01:26,755] Trial 8 finished with value: 56.51018806842909 and parameters: {'n_estimators': 123, 'max_depth': 60, 'min_samples_leaf': 4, 'min_samples_split': 4}. Best is trial 4 with value: 55.748657670083404.\n",
      "[I 2024-02-23 12:01:59,947] Trial 9 finished with value: 55.91502805773945 and parameters: {'n_estimators': 832, 'max_depth': 47, 'min_samples_leaf': 5, 'min_samples_split': 17}. Best is trial 4 with value: 55.748657670083404.\n",
      "[I 2024-02-23 12:02:18,950] Trial 10 finished with value: 56.669585651385866 and parameters: {'n_estimators': 591, 'max_depth': 78, 'min_samples_leaf': 20, 'min_samples_split': 18}. Best is trial 4 with value: 55.748657670083404.\n",
      "[I 2024-02-23 12:02:24,810] Trial 11 finished with value: 56.30894986092689 and parameters: {'n_estimators': 182, 'max_depth': 25, 'min_samples_leaf': 16, 'min_samples_split': 13}. Best is trial 4 with value: 55.748657670083404.\n",
      "[I 2024-02-23 12:02:39,172] Trial 12 finished with value: 57.77390441646147 and parameters: {'n_estimators': 486, 'max_depth': 96, 'min_samples_leaf': 28, 'min_samples_split': 16}. Best is trial 4 with value: 55.748657670083404.\n",
      "[I 2024-02-23 12:03:11,805] Trial 13 finished with value: 55.84809713814154 and parameters: {'n_estimators': 822, 'max_depth': 83, 'min_samples_leaf': 7, 'min_samples_split': 4}. Best is trial 4 with value: 55.748657670083404.\n",
      "[I 2024-02-23 12:03:32,017] Trial 14 finished with value: 56.159127437743415 and parameters: {'n_estimators': 468, 'max_depth': 88, 'min_samples_leaf': 5, 'min_samples_split': 8}. Best is trial 4 with value: 55.748657670083404.\n",
      "[I 2024-02-23 12:04:03,222] Trial 15 finished with value: 57.73099576827157 and parameters: {'n_estimators': 919, 'max_depth': 13, 'min_samples_leaf': 28, 'min_samples_split': 8}. Best is trial 4 with value: 55.748657670083404.\n",
      "[I 2024-02-23 12:04:24,575] Trial 16 finished with value: 55.83270189591717 and parameters: {'n_estimators': 618, 'max_depth': 96, 'min_samples_leaf': 8, 'min_samples_split': 15}. Best is trial 4 with value: 55.748657670083404.\n",
      "[I 2024-02-23 12:04:59,770] Trial 17 finished with value: 56.033495409752355 and parameters: {'n_estimators': 973, 'max_depth': 24, 'min_samples_leaf': 6, 'min_samples_split': 21}. Best is trial 4 with value: 55.748657670083404.\n",
      "[I 2024-02-23 12:05:29,080] Trial 18 finished with value: 55.973849111048935 and parameters: {'n_estimators': 846, 'max_depth': 46, 'min_samples_leaf': 4, 'min_samples_split': 20}. Best is trial 4 with value: 55.748657670083404.\n",
      "[I 2024-02-23 12:05:31,664] Trial 19 finished with value: 55.951702863267904 and parameters: {'n_estimators': 88, 'max_depth': 6, 'min_samples_leaf': 11, 'min_samples_split': 28}. Best is trial 4 with value: 55.748657670083404.\n"
     ]
    }
   ],
   "source": [
    "X = datasets.load_diabetes(as_frame= True)['data']\n",
    "y = datasets.load_diabetes()['target']\n",
    "\n",
    "\n",
    "X_train, X_test, y_train, y_test = train_test_split(X, y, test_size=0.2, \n",
    "                                                    random_state= 23)\n",
    "\n",
    "\n",
    "def objective(trials):\n",
    "    \n",
    "    n_estimators = trials.suggest_int('n_estimators', 5, 1000)\n",
    "    max_depth = trials.suggest_int('max_depth', 1, 100)\n",
    "    min_samples_leaf = trials.suggest_int('min_samples_leaf', 1, 30)\n",
    "    min_samples_split = trials.suggest_int('min_samples_split', 2, 30)\n",
    "    \n",
    "    model = RandomForestRegressor(n_estimators= n_estimators,max_depth=max_depth,\n",
    "                                  min_samples_leaf=min_samples_leaf, \n",
    "                                  min_samples_split=min_samples_split)\n",
    "    score = -cross_val_score(estimator=model, X=X_train,\n",
    "                            y=y_train, cv = 5, scoring= 'neg_root_mean_squared_error').mean()\n",
    "    \n",
    "    return score\n",
    "\n",
    "study = optuna.create_study(direction= 'minimize', \n",
    "                            sampler= optuna.samplers.RandomSampler(seed=23))\n",
    "study.optimize(objective, n_trials= 20)"
   ]
  },
  {
   "cell_type": "code",
   "execution_count": 5,
   "metadata": {},
   "outputs": [
    {
     "data": {
      "text/plain": [
       "{'n_estimators': 846,\n",
       " 'max_depth': 7,\n",
       " 'min_samples_leaf': 9,\n",
       " 'min_samples_split': 10}"
      ]
     },
     "execution_count": 5,
     "metadata": {},
     "output_type": "execute_result"
    }
   ],
   "source": [
    "study.best_params"
   ]
  },
  {
   "cell_type": "markdown",
   "metadata": {},
   "source": [
    "### visualizing the output of the Tuning"
   ]
  },
  {
   "cell_type": "code",
   "execution_count": 6,
   "metadata": {},
   "outputs": [
    {
     "data": {
      "application/vnd.plotly.v1+json": {
       "config": {
        "plotlyServerURL": "https://plot.ly"
       },
       "data": [
        {
         "mode": "markers",
         "name": "Objective Value",
         "type": "scatter",
         "x": [
          0,
          1,
          2,
          3,
          4,
          5,
          6,
          7,
          8,
          9,
          10,
          11,
          12,
          13,
          14,
          15,
          16,
          17,
          18,
          19
         ],
         "y": [
          57.13817060849559,
          56.099419192521694,
          56.20191806882586,
          56.63243037343328,
          55.748657670083404,
          56.12924583020698,
          56.04497795238963,
          57.374293748298854,
          56.51018806842909,
          55.91502805773945,
          56.669585651385866,
          56.30894986092689,
          57.77390441646147,
          55.84809713814154,
          56.159127437743415,
          57.73099576827157,
          55.83270189591717,
          56.033495409752355,
          55.973849111048935,
          55.951702863267904
         ]
        },
        {
         "mode": "lines",
         "name": "Best Value",
         "type": "scatter",
         "x": [
          0,
          1,
          2,
          3,
          4,
          5,
          6,
          7,
          8,
          9,
          10,
          11,
          12,
          13,
          14,
          15,
          16,
          17,
          18,
          19
         ],
         "y": [
          57.13817060849559,
          56.099419192521694,
          56.099419192521694,
          56.099419192521694,
          55.748657670083404,
          55.748657670083404,
          55.748657670083404,
          55.748657670083404,
          55.748657670083404,
          55.748657670083404,
          55.748657670083404,
          55.748657670083404,
          55.748657670083404,
          55.748657670083404,
          55.748657670083404,
          55.748657670083404,
          55.748657670083404,
          55.748657670083404,
          55.748657670083404,
          55.748657670083404
         ]
        },
        {
         "marker": {
          "color": "#cccccc"
         },
         "mode": "markers",
         "name": "Infeasible Trial",
         "showlegend": false,
         "type": "scatter",
         "x": [],
         "y": []
        }
       ],
       "layout": {
        "template": {
         "data": {
          "bar": [
           {
            "error_x": {
             "color": "#2a3f5f"
            },
            "error_y": {
             "color": "#2a3f5f"
            },
            "marker": {
             "line": {
              "color": "#E5ECF6",
              "width": 0.5
             },
             "pattern": {
              "fillmode": "overlay",
              "size": 10,
              "solidity": 0.2
             }
            },
            "type": "bar"
           }
          ],
          "barpolar": [
           {
            "marker": {
             "line": {
              "color": "#E5ECF6",
              "width": 0.5
             },
             "pattern": {
              "fillmode": "overlay",
              "size": 10,
              "solidity": 0.2
             }
            },
            "type": "barpolar"
           }
          ],
          "carpet": [
           {
            "aaxis": {
             "endlinecolor": "#2a3f5f",
             "gridcolor": "white",
             "linecolor": "white",
             "minorgridcolor": "white",
             "startlinecolor": "#2a3f5f"
            },
            "baxis": {
             "endlinecolor": "#2a3f5f",
             "gridcolor": "white",
             "linecolor": "white",
             "minorgridcolor": "white",
             "startlinecolor": "#2a3f5f"
            },
            "type": "carpet"
           }
          ],
          "choropleth": [
           {
            "colorbar": {
             "outlinewidth": 0,
             "ticks": ""
            },
            "type": "choropleth"
           }
          ],
          "contour": [
           {
            "colorbar": {
             "outlinewidth": 0,
             "ticks": ""
            },
            "colorscale": [
             [
              0,
              "#0d0887"
             ],
             [
              0.1111111111111111,
              "#46039f"
             ],
             [
              0.2222222222222222,
              "#7201a8"
             ],
             [
              0.3333333333333333,
              "#9c179e"
             ],
             [
              0.4444444444444444,
              "#bd3786"
             ],
             [
              0.5555555555555556,
              "#d8576b"
             ],
             [
              0.6666666666666666,
              "#ed7953"
             ],
             [
              0.7777777777777778,
              "#fb9f3a"
             ],
             [
              0.8888888888888888,
              "#fdca26"
             ],
             [
              1,
              "#f0f921"
             ]
            ],
            "type": "contour"
           }
          ],
          "contourcarpet": [
           {
            "colorbar": {
             "outlinewidth": 0,
             "ticks": ""
            },
            "type": "contourcarpet"
           }
          ],
          "heatmap": [
           {
            "colorbar": {
             "outlinewidth": 0,
             "ticks": ""
            },
            "colorscale": [
             [
              0,
              "#0d0887"
             ],
             [
              0.1111111111111111,
              "#46039f"
             ],
             [
              0.2222222222222222,
              "#7201a8"
             ],
             [
              0.3333333333333333,
              "#9c179e"
             ],
             [
              0.4444444444444444,
              "#bd3786"
             ],
             [
              0.5555555555555556,
              "#d8576b"
             ],
             [
              0.6666666666666666,
              "#ed7953"
             ],
             [
              0.7777777777777778,
              "#fb9f3a"
             ],
             [
              0.8888888888888888,
              "#fdca26"
             ],
             [
              1,
              "#f0f921"
             ]
            ],
            "type": "heatmap"
           }
          ],
          "heatmapgl": [
           {
            "colorbar": {
             "outlinewidth": 0,
             "ticks": ""
            },
            "colorscale": [
             [
              0,
              "#0d0887"
             ],
             [
              0.1111111111111111,
              "#46039f"
             ],
             [
              0.2222222222222222,
              "#7201a8"
             ],
             [
              0.3333333333333333,
              "#9c179e"
             ],
             [
              0.4444444444444444,
              "#bd3786"
             ],
             [
              0.5555555555555556,
              "#d8576b"
             ],
             [
              0.6666666666666666,
              "#ed7953"
             ],
             [
              0.7777777777777778,
              "#fb9f3a"
             ],
             [
              0.8888888888888888,
              "#fdca26"
             ],
             [
              1,
              "#f0f921"
             ]
            ],
            "type": "heatmapgl"
           }
          ],
          "histogram": [
           {
            "marker": {
             "pattern": {
              "fillmode": "overlay",
              "size": 10,
              "solidity": 0.2
             }
            },
            "type": "histogram"
           }
          ],
          "histogram2d": [
           {
            "colorbar": {
             "outlinewidth": 0,
             "ticks": ""
            },
            "colorscale": [
             [
              0,
              "#0d0887"
             ],
             [
              0.1111111111111111,
              "#46039f"
             ],
             [
              0.2222222222222222,
              "#7201a8"
             ],
             [
              0.3333333333333333,
              "#9c179e"
             ],
             [
              0.4444444444444444,
              "#bd3786"
             ],
             [
              0.5555555555555556,
              "#d8576b"
             ],
             [
              0.6666666666666666,
              "#ed7953"
             ],
             [
              0.7777777777777778,
              "#fb9f3a"
             ],
             [
              0.8888888888888888,
              "#fdca26"
             ],
             [
              1,
              "#f0f921"
             ]
            ],
            "type": "histogram2d"
           }
          ],
          "histogram2dcontour": [
           {
            "colorbar": {
             "outlinewidth": 0,
             "ticks": ""
            },
            "colorscale": [
             [
              0,
              "#0d0887"
             ],
             [
              0.1111111111111111,
              "#46039f"
             ],
             [
              0.2222222222222222,
              "#7201a8"
             ],
             [
              0.3333333333333333,
              "#9c179e"
             ],
             [
              0.4444444444444444,
              "#bd3786"
             ],
             [
              0.5555555555555556,
              "#d8576b"
             ],
             [
              0.6666666666666666,
              "#ed7953"
             ],
             [
              0.7777777777777778,
              "#fb9f3a"
             ],
             [
              0.8888888888888888,
              "#fdca26"
             ],
             [
              1,
              "#f0f921"
             ]
            ],
            "type": "histogram2dcontour"
           }
          ],
          "mesh3d": [
           {
            "colorbar": {
             "outlinewidth": 0,
             "ticks": ""
            },
            "type": "mesh3d"
           }
          ],
          "parcoords": [
           {
            "line": {
             "colorbar": {
              "outlinewidth": 0,
              "ticks": ""
             }
            },
            "type": "parcoords"
           }
          ],
          "pie": [
           {
            "automargin": true,
            "type": "pie"
           }
          ],
          "scatter": [
           {
            "fillpattern": {
             "fillmode": "overlay",
             "size": 10,
             "solidity": 0.2
            },
            "type": "scatter"
           }
          ],
          "scatter3d": [
           {
            "line": {
             "colorbar": {
              "outlinewidth": 0,
              "ticks": ""
             }
            },
            "marker": {
             "colorbar": {
              "outlinewidth": 0,
              "ticks": ""
             }
            },
            "type": "scatter3d"
           }
          ],
          "scattercarpet": [
           {
            "marker": {
             "colorbar": {
              "outlinewidth": 0,
              "ticks": ""
             }
            },
            "type": "scattercarpet"
           }
          ],
          "scattergeo": [
           {
            "marker": {
             "colorbar": {
              "outlinewidth": 0,
              "ticks": ""
             }
            },
            "type": "scattergeo"
           }
          ],
          "scattergl": [
           {
            "marker": {
             "colorbar": {
              "outlinewidth": 0,
              "ticks": ""
             }
            },
            "type": "scattergl"
           }
          ],
          "scattermapbox": [
           {
            "marker": {
             "colorbar": {
              "outlinewidth": 0,
              "ticks": ""
             }
            },
            "type": "scattermapbox"
           }
          ],
          "scatterpolar": [
           {
            "marker": {
             "colorbar": {
              "outlinewidth": 0,
              "ticks": ""
             }
            },
            "type": "scatterpolar"
           }
          ],
          "scatterpolargl": [
           {
            "marker": {
             "colorbar": {
              "outlinewidth": 0,
              "ticks": ""
             }
            },
            "type": "scatterpolargl"
           }
          ],
          "scatterternary": [
           {
            "marker": {
             "colorbar": {
              "outlinewidth": 0,
              "ticks": ""
             }
            },
            "type": "scatterternary"
           }
          ],
          "surface": [
           {
            "colorbar": {
             "outlinewidth": 0,
             "ticks": ""
            },
            "colorscale": [
             [
              0,
              "#0d0887"
             ],
             [
              0.1111111111111111,
              "#46039f"
             ],
             [
              0.2222222222222222,
              "#7201a8"
             ],
             [
              0.3333333333333333,
              "#9c179e"
             ],
             [
              0.4444444444444444,
              "#bd3786"
             ],
             [
              0.5555555555555556,
              "#d8576b"
             ],
             [
              0.6666666666666666,
              "#ed7953"
             ],
             [
              0.7777777777777778,
              "#fb9f3a"
             ],
             [
              0.8888888888888888,
              "#fdca26"
             ],
             [
              1,
              "#f0f921"
             ]
            ],
            "type": "surface"
           }
          ],
          "table": [
           {
            "cells": {
             "fill": {
              "color": "#EBF0F8"
             },
             "line": {
              "color": "white"
             }
            },
            "header": {
             "fill": {
              "color": "#C8D4E3"
             },
             "line": {
              "color": "white"
             }
            },
            "type": "table"
           }
          ]
         },
         "layout": {
          "annotationdefaults": {
           "arrowcolor": "#2a3f5f",
           "arrowhead": 0,
           "arrowwidth": 1
          },
          "autotypenumbers": "strict",
          "coloraxis": {
           "colorbar": {
            "outlinewidth": 0,
            "ticks": ""
           }
          },
          "colorscale": {
           "diverging": [
            [
             0,
             "#8e0152"
            ],
            [
             0.1,
             "#c51b7d"
            ],
            [
             0.2,
             "#de77ae"
            ],
            [
             0.3,
             "#f1b6da"
            ],
            [
             0.4,
             "#fde0ef"
            ],
            [
             0.5,
             "#f7f7f7"
            ],
            [
             0.6,
             "#e6f5d0"
            ],
            [
             0.7,
             "#b8e186"
            ],
            [
             0.8,
             "#7fbc41"
            ],
            [
             0.9,
             "#4d9221"
            ],
            [
             1,
             "#276419"
            ]
           ],
           "sequential": [
            [
             0,
             "#0d0887"
            ],
            [
             0.1111111111111111,
             "#46039f"
            ],
            [
             0.2222222222222222,
             "#7201a8"
            ],
            [
             0.3333333333333333,
             "#9c179e"
            ],
            [
             0.4444444444444444,
             "#bd3786"
            ],
            [
             0.5555555555555556,
             "#d8576b"
            ],
            [
             0.6666666666666666,
             "#ed7953"
            ],
            [
             0.7777777777777778,
             "#fb9f3a"
            ],
            [
             0.8888888888888888,
             "#fdca26"
            ],
            [
             1,
             "#f0f921"
            ]
           ],
           "sequentialminus": [
            [
             0,
             "#0d0887"
            ],
            [
             0.1111111111111111,
             "#46039f"
            ],
            [
             0.2222222222222222,
             "#7201a8"
            ],
            [
             0.3333333333333333,
             "#9c179e"
            ],
            [
             0.4444444444444444,
             "#bd3786"
            ],
            [
             0.5555555555555556,
             "#d8576b"
            ],
            [
             0.6666666666666666,
             "#ed7953"
            ],
            [
             0.7777777777777778,
             "#fb9f3a"
            ],
            [
             0.8888888888888888,
             "#fdca26"
            ],
            [
             1,
             "#f0f921"
            ]
           ]
          },
          "colorway": [
           "#636efa",
           "#EF553B",
           "#00cc96",
           "#ab63fa",
           "#FFA15A",
           "#19d3f3",
           "#FF6692",
           "#B6E880",
           "#FF97FF",
           "#FECB52"
          ],
          "font": {
           "color": "#2a3f5f"
          },
          "geo": {
           "bgcolor": "white",
           "lakecolor": "white",
           "landcolor": "#E5ECF6",
           "showlakes": true,
           "showland": true,
           "subunitcolor": "white"
          },
          "hoverlabel": {
           "align": "left"
          },
          "hovermode": "closest",
          "mapbox": {
           "style": "light"
          },
          "paper_bgcolor": "white",
          "plot_bgcolor": "#E5ECF6",
          "polar": {
           "angularaxis": {
            "gridcolor": "white",
            "linecolor": "white",
            "ticks": ""
           },
           "bgcolor": "#E5ECF6",
           "radialaxis": {
            "gridcolor": "white",
            "linecolor": "white",
            "ticks": ""
           }
          },
          "scene": {
           "xaxis": {
            "backgroundcolor": "#E5ECF6",
            "gridcolor": "white",
            "gridwidth": 2,
            "linecolor": "white",
            "showbackground": true,
            "ticks": "",
            "zerolinecolor": "white"
           },
           "yaxis": {
            "backgroundcolor": "#E5ECF6",
            "gridcolor": "white",
            "gridwidth": 2,
            "linecolor": "white",
            "showbackground": true,
            "ticks": "",
            "zerolinecolor": "white"
           },
           "zaxis": {
            "backgroundcolor": "#E5ECF6",
            "gridcolor": "white",
            "gridwidth": 2,
            "linecolor": "white",
            "showbackground": true,
            "ticks": "",
            "zerolinecolor": "white"
           }
          },
          "shapedefaults": {
           "line": {
            "color": "#2a3f5f"
           }
          },
          "ternary": {
           "aaxis": {
            "gridcolor": "white",
            "linecolor": "white",
            "ticks": ""
           },
           "baxis": {
            "gridcolor": "white",
            "linecolor": "white",
            "ticks": ""
           },
           "bgcolor": "#E5ECF6",
           "caxis": {
            "gridcolor": "white",
            "linecolor": "white",
            "ticks": ""
           }
          },
          "title": {
           "x": 0.05
          },
          "xaxis": {
           "automargin": true,
           "gridcolor": "white",
           "linecolor": "white",
           "ticks": "",
           "title": {
            "standoff": 15
           },
           "zerolinecolor": "white",
           "zerolinewidth": 2
          },
          "yaxis": {
           "automargin": true,
           "gridcolor": "white",
           "linecolor": "white",
           "ticks": "",
           "title": {
            "standoff": 15
           },
           "zerolinecolor": "white",
           "zerolinewidth": 2
          }
         }
        },
        "title": {
         "text": "Optimization History Plot"
        },
        "xaxis": {
         "title": {
          "text": "Trial"
         }
        },
        "yaxis": {
         "title": {
          "text": "Objective Value"
         }
        }
       }
      }
     },
     "metadata": {},
     "output_type": "display_data"
    }
   ],
   "source": [
    "optuna.visualization.plot_optimization_history(study)"
   ]
  },
  {
   "cell_type": "code",
   "execution_count": 8,
   "metadata": {},
   "outputs": [
    {
     "data": {
      "application/vnd.plotly.v1+json": {
       "config": {
        "plotlyServerURL": "https://plot.ly"
       },
       "data": [
        {
         "cliponaxis": false,
         "hovertemplate": [
          "min_samples_split (IntDistribution): 0.006805199274533697<extra></extra>",
          "max_depth (IntDistribution): 0.0071391908330328165<extra></extra>",
          "n_estimators (IntDistribution): 0.01680198193661655<extra></extra>",
          "min_samples_leaf (IntDistribution): 0.9692536279558169<extra></extra>"
         ],
         "name": "Objective Value",
         "orientation": "h",
         "text": [
          "<0.01",
          "<0.01",
          "0.02",
          "0.97"
         ],
         "textposition": "outside",
         "type": "bar",
         "x": [
          0.006805199274533697,
          0.0071391908330328165,
          0.01680198193661655,
          0.9692536279558169
         ],
         "y": [
          "min_samples_split",
          "max_depth",
          "n_estimators",
          "min_samples_leaf"
         ]
        }
       ],
       "layout": {
        "template": {
         "data": {
          "bar": [
           {
            "error_x": {
             "color": "#2a3f5f"
            },
            "error_y": {
             "color": "#2a3f5f"
            },
            "marker": {
             "line": {
              "color": "#E5ECF6",
              "width": 0.5
             },
             "pattern": {
              "fillmode": "overlay",
              "size": 10,
              "solidity": 0.2
             }
            },
            "type": "bar"
           }
          ],
          "barpolar": [
           {
            "marker": {
             "line": {
              "color": "#E5ECF6",
              "width": 0.5
             },
             "pattern": {
              "fillmode": "overlay",
              "size": 10,
              "solidity": 0.2
             }
            },
            "type": "barpolar"
           }
          ],
          "carpet": [
           {
            "aaxis": {
             "endlinecolor": "#2a3f5f",
             "gridcolor": "white",
             "linecolor": "white",
             "minorgridcolor": "white",
             "startlinecolor": "#2a3f5f"
            },
            "baxis": {
             "endlinecolor": "#2a3f5f",
             "gridcolor": "white",
             "linecolor": "white",
             "minorgridcolor": "white",
             "startlinecolor": "#2a3f5f"
            },
            "type": "carpet"
           }
          ],
          "choropleth": [
           {
            "colorbar": {
             "outlinewidth": 0,
             "ticks": ""
            },
            "type": "choropleth"
           }
          ],
          "contour": [
           {
            "colorbar": {
             "outlinewidth": 0,
             "ticks": ""
            },
            "colorscale": [
             [
              0,
              "#0d0887"
             ],
             [
              0.1111111111111111,
              "#46039f"
             ],
             [
              0.2222222222222222,
              "#7201a8"
             ],
             [
              0.3333333333333333,
              "#9c179e"
             ],
             [
              0.4444444444444444,
              "#bd3786"
             ],
             [
              0.5555555555555556,
              "#d8576b"
             ],
             [
              0.6666666666666666,
              "#ed7953"
             ],
             [
              0.7777777777777778,
              "#fb9f3a"
             ],
             [
              0.8888888888888888,
              "#fdca26"
             ],
             [
              1,
              "#f0f921"
             ]
            ],
            "type": "contour"
           }
          ],
          "contourcarpet": [
           {
            "colorbar": {
             "outlinewidth": 0,
             "ticks": ""
            },
            "type": "contourcarpet"
           }
          ],
          "heatmap": [
           {
            "colorbar": {
             "outlinewidth": 0,
             "ticks": ""
            },
            "colorscale": [
             [
              0,
              "#0d0887"
             ],
             [
              0.1111111111111111,
              "#46039f"
             ],
             [
              0.2222222222222222,
              "#7201a8"
             ],
             [
              0.3333333333333333,
              "#9c179e"
             ],
             [
              0.4444444444444444,
              "#bd3786"
             ],
             [
              0.5555555555555556,
              "#d8576b"
             ],
             [
              0.6666666666666666,
              "#ed7953"
             ],
             [
              0.7777777777777778,
              "#fb9f3a"
             ],
             [
              0.8888888888888888,
              "#fdca26"
             ],
             [
              1,
              "#f0f921"
             ]
            ],
            "type": "heatmap"
           }
          ],
          "heatmapgl": [
           {
            "colorbar": {
             "outlinewidth": 0,
             "ticks": ""
            },
            "colorscale": [
             [
              0,
              "#0d0887"
             ],
             [
              0.1111111111111111,
              "#46039f"
             ],
             [
              0.2222222222222222,
              "#7201a8"
             ],
             [
              0.3333333333333333,
              "#9c179e"
             ],
             [
              0.4444444444444444,
              "#bd3786"
             ],
             [
              0.5555555555555556,
              "#d8576b"
             ],
             [
              0.6666666666666666,
              "#ed7953"
             ],
             [
              0.7777777777777778,
              "#fb9f3a"
             ],
             [
              0.8888888888888888,
              "#fdca26"
             ],
             [
              1,
              "#f0f921"
             ]
            ],
            "type": "heatmapgl"
           }
          ],
          "histogram": [
           {
            "marker": {
             "pattern": {
              "fillmode": "overlay",
              "size": 10,
              "solidity": 0.2
             }
            },
            "type": "histogram"
           }
          ],
          "histogram2d": [
           {
            "colorbar": {
             "outlinewidth": 0,
             "ticks": ""
            },
            "colorscale": [
             [
              0,
              "#0d0887"
             ],
             [
              0.1111111111111111,
              "#46039f"
             ],
             [
              0.2222222222222222,
              "#7201a8"
             ],
             [
              0.3333333333333333,
              "#9c179e"
             ],
             [
              0.4444444444444444,
              "#bd3786"
             ],
             [
              0.5555555555555556,
              "#d8576b"
             ],
             [
              0.6666666666666666,
              "#ed7953"
             ],
             [
              0.7777777777777778,
              "#fb9f3a"
             ],
             [
              0.8888888888888888,
              "#fdca26"
             ],
             [
              1,
              "#f0f921"
             ]
            ],
            "type": "histogram2d"
           }
          ],
          "histogram2dcontour": [
           {
            "colorbar": {
             "outlinewidth": 0,
             "ticks": ""
            },
            "colorscale": [
             [
              0,
              "#0d0887"
             ],
             [
              0.1111111111111111,
              "#46039f"
             ],
             [
              0.2222222222222222,
              "#7201a8"
             ],
             [
              0.3333333333333333,
              "#9c179e"
             ],
             [
              0.4444444444444444,
              "#bd3786"
             ],
             [
              0.5555555555555556,
              "#d8576b"
             ],
             [
              0.6666666666666666,
              "#ed7953"
             ],
             [
              0.7777777777777778,
              "#fb9f3a"
             ],
             [
              0.8888888888888888,
              "#fdca26"
             ],
             [
              1,
              "#f0f921"
             ]
            ],
            "type": "histogram2dcontour"
           }
          ],
          "mesh3d": [
           {
            "colorbar": {
             "outlinewidth": 0,
             "ticks": ""
            },
            "type": "mesh3d"
           }
          ],
          "parcoords": [
           {
            "line": {
             "colorbar": {
              "outlinewidth": 0,
              "ticks": ""
             }
            },
            "type": "parcoords"
           }
          ],
          "pie": [
           {
            "automargin": true,
            "type": "pie"
           }
          ],
          "scatter": [
           {
            "fillpattern": {
             "fillmode": "overlay",
             "size": 10,
             "solidity": 0.2
            },
            "type": "scatter"
           }
          ],
          "scatter3d": [
           {
            "line": {
             "colorbar": {
              "outlinewidth": 0,
              "ticks": ""
             }
            },
            "marker": {
             "colorbar": {
              "outlinewidth": 0,
              "ticks": ""
             }
            },
            "type": "scatter3d"
           }
          ],
          "scattercarpet": [
           {
            "marker": {
             "colorbar": {
              "outlinewidth": 0,
              "ticks": ""
             }
            },
            "type": "scattercarpet"
           }
          ],
          "scattergeo": [
           {
            "marker": {
             "colorbar": {
              "outlinewidth": 0,
              "ticks": ""
             }
            },
            "type": "scattergeo"
           }
          ],
          "scattergl": [
           {
            "marker": {
             "colorbar": {
              "outlinewidth": 0,
              "ticks": ""
             }
            },
            "type": "scattergl"
           }
          ],
          "scattermapbox": [
           {
            "marker": {
             "colorbar": {
              "outlinewidth": 0,
              "ticks": ""
             }
            },
            "type": "scattermapbox"
           }
          ],
          "scatterpolar": [
           {
            "marker": {
             "colorbar": {
              "outlinewidth": 0,
              "ticks": ""
             }
            },
            "type": "scatterpolar"
           }
          ],
          "scatterpolargl": [
           {
            "marker": {
             "colorbar": {
              "outlinewidth": 0,
              "ticks": ""
             }
            },
            "type": "scatterpolargl"
           }
          ],
          "scatterternary": [
           {
            "marker": {
             "colorbar": {
              "outlinewidth": 0,
              "ticks": ""
             }
            },
            "type": "scatterternary"
           }
          ],
          "surface": [
           {
            "colorbar": {
             "outlinewidth": 0,
             "ticks": ""
            },
            "colorscale": [
             [
              0,
              "#0d0887"
             ],
             [
              0.1111111111111111,
              "#46039f"
             ],
             [
              0.2222222222222222,
              "#7201a8"
             ],
             [
              0.3333333333333333,
              "#9c179e"
             ],
             [
              0.4444444444444444,
              "#bd3786"
             ],
             [
              0.5555555555555556,
              "#d8576b"
             ],
             [
              0.6666666666666666,
              "#ed7953"
             ],
             [
              0.7777777777777778,
              "#fb9f3a"
             ],
             [
              0.8888888888888888,
              "#fdca26"
             ],
             [
              1,
              "#f0f921"
             ]
            ],
            "type": "surface"
           }
          ],
          "table": [
           {
            "cells": {
             "fill": {
              "color": "#EBF0F8"
             },
             "line": {
              "color": "white"
             }
            },
            "header": {
             "fill": {
              "color": "#C8D4E3"
             },
             "line": {
              "color": "white"
             }
            },
            "type": "table"
           }
          ]
         },
         "layout": {
          "annotationdefaults": {
           "arrowcolor": "#2a3f5f",
           "arrowhead": 0,
           "arrowwidth": 1
          },
          "autotypenumbers": "strict",
          "coloraxis": {
           "colorbar": {
            "outlinewidth": 0,
            "ticks": ""
           }
          },
          "colorscale": {
           "diverging": [
            [
             0,
             "#8e0152"
            ],
            [
             0.1,
             "#c51b7d"
            ],
            [
             0.2,
             "#de77ae"
            ],
            [
             0.3,
             "#f1b6da"
            ],
            [
             0.4,
             "#fde0ef"
            ],
            [
             0.5,
             "#f7f7f7"
            ],
            [
             0.6,
             "#e6f5d0"
            ],
            [
             0.7,
             "#b8e186"
            ],
            [
             0.8,
             "#7fbc41"
            ],
            [
             0.9,
             "#4d9221"
            ],
            [
             1,
             "#276419"
            ]
           ],
           "sequential": [
            [
             0,
             "#0d0887"
            ],
            [
             0.1111111111111111,
             "#46039f"
            ],
            [
             0.2222222222222222,
             "#7201a8"
            ],
            [
             0.3333333333333333,
             "#9c179e"
            ],
            [
             0.4444444444444444,
             "#bd3786"
            ],
            [
             0.5555555555555556,
             "#d8576b"
            ],
            [
             0.6666666666666666,
             "#ed7953"
            ],
            [
             0.7777777777777778,
             "#fb9f3a"
            ],
            [
             0.8888888888888888,
             "#fdca26"
            ],
            [
             1,
             "#f0f921"
            ]
           ],
           "sequentialminus": [
            [
             0,
             "#0d0887"
            ],
            [
             0.1111111111111111,
             "#46039f"
            ],
            [
             0.2222222222222222,
             "#7201a8"
            ],
            [
             0.3333333333333333,
             "#9c179e"
            ],
            [
             0.4444444444444444,
             "#bd3786"
            ],
            [
             0.5555555555555556,
             "#d8576b"
            ],
            [
             0.6666666666666666,
             "#ed7953"
            ],
            [
             0.7777777777777778,
             "#fb9f3a"
            ],
            [
             0.8888888888888888,
             "#fdca26"
            ],
            [
             1,
             "#f0f921"
            ]
           ]
          },
          "colorway": [
           "#636efa",
           "#EF553B",
           "#00cc96",
           "#ab63fa",
           "#FFA15A",
           "#19d3f3",
           "#FF6692",
           "#B6E880",
           "#FF97FF",
           "#FECB52"
          ],
          "font": {
           "color": "#2a3f5f"
          },
          "geo": {
           "bgcolor": "white",
           "lakecolor": "white",
           "landcolor": "#E5ECF6",
           "showlakes": true,
           "showland": true,
           "subunitcolor": "white"
          },
          "hoverlabel": {
           "align": "left"
          },
          "hovermode": "closest",
          "mapbox": {
           "style": "light"
          },
          "paper_bgcolor": "white",
          "plot_bgcolor": "#E5ECF6",
          "polar": {
           "angularaxis": {
            "gridcolor": "white",
            "linecolor": "white",
            "ticks": ""
           },
           "bgcolor": "#E5ECF6",
           "radialaxis": {
            "gridcolor": "white",
            "linecolor": "white",
            "ticks": ""
           }
          },
          "scene": {
           "xaxis": {
            "backgroundcolor": "#E5ECF6",
            "gridcolor": "white",
            "gridwidth": 2,
            "linecolor": "white",
            "showbackground": true,
            "ticks": "",
            "zerolinecolor": "white"
           },
           "yaxis": {
            "backgroundcolor": "#E5ECF6",
            "gridcolor": "white",
            "gridwidth": 2,
            "linecolor": "white",
            "showbackground": true,
            "ticks": "",
            "zerolinecolor": "white"
           },
           "zaxis": {
            "backgroundcolor": "#E5ECF6",
            "gridcolor": "white",
            "gridwidth": 2,
            "linecolor": "white",
            "showbackground": true,
            "ticks": "",
            "zerolinecolor": "white"
           }
          },
          "shapedefaults": {
           "line": {
            "color": "#2a3f5f"
           }
          },
          "ternary": {
           "aaxis": {
            "gridcolor": "white",
            "linecolor": "white",
            "ticks": ""
           },
           "baxis": {
            "gridcolor": "white",
            "linecolor": "white",
            "ticks": ""
           },
           "bgcolor": "#E5ECF6",
           "caxis": {
            "gridcolor": "white",
            "linecolor": "white",
            "ticks": ""
           }
          },
          "title": {
           "x": 0.05
          },
          "xaxis": {
           "automargin": true,
           "gridcolor": "white",
           "linecolor": "white",
           "ticks": "",
           "title": {
            "standoff": 15
           },
           "zerolinecolor": "white",
           "zerolinewidth": 2
          },
          "yaxis": {
           "automargin": true,
           "gridcolor": "white",
           "linecolor": "white",
           "ticks": "",
           "title": {
            "standoff": 15
           },
           "zerolinecolor": "white",
           "zerolinewidth": 2
          }
         }
        },
        "title": {
         "text": "Hyperparameter Importances"
        },
        "xaxis": {
         "title": {
          "text": "Hyperparameter Importance"
         }
        },
        "yaxis": {
         "title": {
          "text": "Hyperparameter"
         }
        }
       }
      }
     },
     "metadata": {},
     "output_type": "display_data"
    }
   ],
   "source": [
    "optuna.visualization.plot_param_importances(study)"
   ]
  },
  {
   "cell_type": "code",
   "execution_count": 9,
   "metadata": {},
   "outputs": [
    {
     "data": {
      "application/vnd.plotly.v1+json": {
       "config": {
        "plotlyServerURL": "https://plot.ly"
       },
       "data": [
        {
         "marker": {
          "color": [
           0,
           1,
           2,
           3,
           4,
           5,
           6,
           7,
           8,
           9,
           10,
           11,
           12,
           13,
           14,
           15,
           16,
           17,
           18,
           19
          ],
          "colorbar": {
           "title": {
            "text": "Trial"
           },
           "x": 1,
           "xpad": 40
          },
          "colorscale": [
           [
            0,
            "rgb(247,251,255)"
           ],
           [
            0.125,
            "rgb(222,235,247)"
           ],
           [
            0.25,
            "rgb(198,219,239)"
           ],
           [
            0.375,
            "rgb(158,202,225)"
           ],
           [
            0.5,
            "rgb(107,174,214)"
           ],
           [
            0.625,
            "rgb(66,146,198)"
           ],
           [
            0.75,
            "rgb(33,113,181)"
           ],
           [
            0.875,
            "rgb(8,81,156)"
           ],
           [
            1,
            "rgb(8,48,107)"
           ]
          ],
          "line": {
           "color": "Grey",
           "width": 0.5
          },
          "showscale": true
         },
         "mode": "markers",
         "name": "Feasible Trial",
         "showlegend": false,
         "type": "scatter",
         "x": [
          95,
          69,
          42,
          31,
          7,
          63,
          15,
          43,
          60,
          47,
          78,
          25,
          96,
          83,
          88,
          13,
          96,
          24,
          46,
          6
         ],
         "xaxis": "x",
         "y": [
          57.13817060849559,
          56.099419192521694,
          56.20191806882586,
          56.63243037343328,
          55.748657670083404,
          56.12924583020698,
          56.04497795238963,
          57.374293748298854,
          56.51018806842909,
          55.91502805773945,
          56.669585651385866,
          56.30894986092689,
          57.77390441646147,
          55.84809713814154,
          56.159127437743415,
          57.73099576827157,
          55.83270189591717,
          56.033495409752355,
          55.973849111048935,
          55.951702863267904
         ],
         "yaxis": "y"
        },
        {
         "marker": {
          "color": [
           0,
           1,
           2,
           3,
           4,
           5,
           6,
           7,
           8,
           9,
           10,
           11,
           12,
           13,
           14,
           15,
           16,
           17,
           18,
           19
          ],
          "colorbar": {
           "title": {
            "text": "Trial"
           },
           "x": 1,
           "xpad": 40
          },
          "colorscale": [
           [
            0,
            "rgb(247,251,255)"
           ],
           [
            0.125,
            "rgb(222,235,247)"
           ],
           [
            0.25,
            "rgb(198,219,239)"
           ],
           [
            0.375,
            "rgb(158,202,225)"
           ],
           [
            0.5,
            "rgb(107,174,214)"
           ],
           [
            0.625,
            "rgb(66,146,198)"
           ],
           [
            0.75,
            "rgb(33,113,181)"
           ],
           [
            0.875,
            "rgb(8,81,156)"
           ],
           [
            1,
            "rgb(8,48,107)"
           ]
          ],
          "line": {
           "color": "Grey",
           "width": 0.5
          },
          "showscale": false
         },
         "mode": "markers",
         "name": "Feasible Trial",
         "showlegend": false,
         "type": "scatter",
         "x": [
          23,
          6,
          1,
          18,
          9,
          4,
          13,
          25,
          4,
          5,
          20,
          16,
          28,
          7,
          5,
          28,
          8,
          6,
          4,
          11
         ],
         "xaxis": "x2",
         "y": [
          57.13817060849559,
          56.099419192521694,
          56.20191806882586,
          56.63243037343328,
          55.748657670083404,
          56.12924583020698,
          56.04497795238963,
          57.374293748298854,
          56.51018806842909,
          55.91502805773945,
          56.669585651385866,
          56.30894986092689,
          57.77390441646147,
          55.84809713814154,
          56.159127437743415,
          57.73099576827157,
          55.83270189591717,
          56.033495409752355,
          55.973849111048935,
          55.951702863267904
         ],
         "yaxis": "y2"
        },
        {
         "marker": {
          "color": [
           0,
           1,
           2,
           3,
           4,
           5,
           6,
           7,
           8,
           9,
           10,
           11,
           12,
           13,
           14,
           15,
           16,
           17,
           18,
           19
          ],
          "colorbar": {
           "title": {
            "text": "Trial"
           },
           "x": 1,
           "xpad": 40
          },
          "colorscale": [
           [
            0,
            "rgb(247,251,255)"
           ],
           [
            0.125,
            "rgb(222,235,247)"
           ],
           [
            0.25,
            "rgb(198,219,239)"
           ],
           [
            0.375,
            "rgb(158,202,225)"
           ],
           [
            0.5,
            "rgb(107,174,214)"
           ],
           [
            0.625,
            "rgb(66,146,198)"
           ],
           [
            0.75,
            "rgb(33,113,181)"
           ],
           [
            0.875,
            "rgb(8,81,156)"
           ],
           [
            1,
            "rgb(8,48,107)"
           ]
          ],
          "line": {
           "color": "Grey",
           "width": 0.5
          },
          "showscale": false
         },
         "mode": "markers",
         "name": "Feasible Trial",
         "showlegend": false,
         "type": "scatter",
         "x": [
          10,
          13,
          27,
          30,
          10,
          2,
          12,
          22,
          4,
          17,
          18,
          13,
          16,
          4,
          8,
          8,
          15,
          21,
          20,
          28
         ],
         "xaxis": "x3",
         "y": [
          57.13817060849559,
          56.099419192521694,
          56.20191806882586,
          56.63243037343328,
          55.748657670083404,
          56.12924583020698,
          56.04497795238963,
          57.374293748298854,
          56.51018806842909,
          55.91502805773945,
          56.669585651385866,
          56.30894986092689,
          57.77390441646147,
          55.84809713814154,
          56.159127437743415,
          57.73099576827157,
          55.83270189591717,
          56.033495409752355,
          55.973849111048935,
          55.951702863267904
         ],
         "yaxis": "y3"
        },
        {
         "marker": {
          "color": [
           0,
           1,
           2,
           3,
           4,
           5,
           6,
           7,
           8,
           9,
           10,
           11,
           12,
           13,
           14,
           15,
           16,
           17,
           18,
           19
          ],
          "colorbar": {
           "title": {
            "text": "Trial"
           },
           "x": 1,
           "xpad": 40
          },
          "colorscale": [
           [
            0,
            "rgb(247,251,255)"
           ],
           [
            0.125,
            "rgb(222,235,247)"
           ],
           [
            0.25,
            "rgb(198,219,239)"
           ],
           [
            0.375,
            "rgb(158,202,225)"
           ],
           [
            0.5,
            "rgb(107,174,214)"
           ],
           [
            0.625,
            "rgb(66,146,198)"
           ],
           [
            0.75,
            "rgb(33,113,181)"
           ],
           [
            0.875,
            "rgb(8,81,156)"
           ],
           [
            1,
            "rgb(8,48,107)"
           ]
          ],
          "line": {
           "color": "Grey",
           "width": 0.5
          },
          "showscale": false
         },
         "mode": "markers",
         "name": "Feasible Trial",
         "showlegend": false,
         "type": "scatter",
         "x": [
          520,
          225,
          620,
          886,
          846,
          824,
          943,
          871,
          123,
          832,
          591,
          182,
          486,
          822,
          468,
          919,
          618,
          973,
          846,
          88
         ],
         "xaxis": "x4",
         "y": [
          57.13817060849559,
          56.099419192521694,
          56.20191806882586,
          56.63243037343328,
          55.748657670083404,
          56.12924583020698,
          56.04497795238963,
          57.374293748298854,
          56.51018806842909,
          55.91502805773945,
          56.669585651385866,
          56.30894986092689,
          57.77390441646147,
          55.84809713814154,
          56.159127437743415,
          57.73099576827157,
          55.83270189591717,
          56.033495409752355,
          55.973849111048935,
          55.951702863267904
         ],
         "yaxis": "y4"
        }
       ],
       "layout": {
        "template": {
         "data": {
          "bar": [
           {
            "error_x": {
             "color": "#2a3f5f"
            },
            "error_y": {
             "color": "#2a3f5f"
            },
            "marker": {
             "line": {
              "color": "#E5ECF6",
              "width": 0.5
             },
             "pattern": {
              "fillmode": "overlay",
              "size": 10,
              "solidity": 0.2
             }
            },
            "type": "bar"
           }
          ],
          "barpolar": [
           {
            "marker": {
             "line": {
              "color": "#E5ECF6",
              "width": 0.5
             },
             "pattern": {
              "fillmode": "overlay",
              "size": 10,
              "solidity": 0.2
             }
            },
            "type": "barpolar"
           }
          ],
          "carpet": [
           {
            "aaxis": {
             "endlinecolor": "#2a3f5f",
             "gridcolor": "white",
             "linecolor": "white",
             "minorgridcolor": "white",
             "startlinecolor": "#2a3f5f"
            },
            "baxis": {
             "endlinecolor": "#2a3f5f",
             "gridcolor": "white",
             "linecolor": "white",
             "minorgridcolor": "white",
             "startlinecolor": "#2a3f5f"
            },
            "type": "carpet"
           }
          ],
          "choropleth": [
           {
            "colorbar": {
             "outlinewidth": 0,
             "ticks": ""
            },
            "type": "choropleth"
           }
          ],
          "contour": [
           {
            "colorbar": {
             "outlinewidth": 0,
             "ticks": ""
            },
            "colorscale": [
             [
              0,
              "#0d0887"
             ],
             [
              0.1111111111111111,
              "#46039f"
             ],
             [
              0.2222222222222222,
              "#7201a8"
             ],
             [
              0.3333333333333333,
              "#9c179e"
             ],
             [
              0.4444444444444444,
              "#bd3786"
             ],
             [
              0.5555555555555556,
              "#d8576b"
             ],
             [
              0.6666666666666666,
              "#ed7953"
             ],
             [
              0.7777777777777778,
              "#fb9f3a"
             ],
             [
              0.8888888888888888,
              "#fdca26"
             ],
             [
              1,
              "#f0f921"
             ]
            ],
            "type": "contour"
           }
          ],
          "contourcarpet": [
           {
            "colorbar": {
             "outlinewidth": 0,
             "ticks": ""
            },
            "type": "contourcarpet"
           }
          ],
          "heatmap": [
           {
            "colorbar": {
             "outlinewidth": 0,
             "ticks": ""
            },
            "colorscale": [
             [
              0,
              "#0d0887"
             ],
             [
              0.1111111111111111,
              "#46039f"
             ],
             [
              0.2222222222222222,
              "#7201a8"
             ],
             [
              0.3333333333333333,
              "#9c179e"
             ],
             [
              0.4444444444444444,
              "#bd3786"
             ],
             [
              0.5555555555555556,
              "#d8576b"
             ],
             [
              0.6666666666666666,
              "#ed7953"
             ],
             [
              0.7777777777777778,
              "#fb9f3a"
             ],
             [
              0.8888888888888888,
              "#fdca26"
             ],
             [
              1,
              "#f0f921"
             ]
            ],
            "type": "heatmap"
           }
          ],
          "heatmapgl": [
           {
            "colorbar": {
             "outlinewidth": 0,
             "ticks": ""
            },
            "colorscale": [
             [
              0,
              "#0d0887"
             ],
             [
              0.1111111111111111,
              "#46039f"
             ],
             [
              0.2222222222222222,
              "#7201a8"
             ],
             [
              0.3333333333333333,
              "#9c179e"
             ],
             [
              0.4444444444444444,
              "#bd3786"
             ],
             [
              0.5555555555555556,
              "#d8576b"
             ],
             [
              0.6666666666666666,
              "#ed7953"
             ],
             [
              0.7777777777777778,
              "#fb9f3a"
             ],
             [
              0.8888888888888888,
              "#fdca26"
             ],
             [
              1,
              "#f0f921"
             ]
            ],
            "type": "heatmapgl"
           }
          ],
          "histogram": [
           {
            "marker": {
             "pattern": {
              "fillmode": "overlay",
              "size": 10,
              "solidity": 0.2
             }
            },
            "type": "histogram"
           }
          ],
          "histogram2d": [
           {
            "colorbar": {
             "outlinewidth": 0,
             "ticks": ""
            },
            "colorscale": [
             [
              0,
              "#0d0887"
             ],
             [
              0.1111111111111111,
              "#46039f"
             ],
             [
              0.2222222222222222,
              "#7201a8"
             ],
             [
              0.3333333333333333,
              "#9c179e"
             ],
             [
              0.4444444444444444,
              "#bd3786"
             ],
             [
              0.5555555555555556,
              "#d8576b"
             ],
             [
              0.6666666666666666,
              "#ed7953"
             ],
             [
              0.7777777777777778,
              "#fb9f3a"
             ],
             [
              0.8888888888888888,
              "#fdca26"
             ],
             [
              1,
              "#f0f921"
             ]
            ],
            "type": "histogram2d"
           }
          ],
          "histogram2dcontour": [
           {
            "colorbar": {
             "outlinewidth": 0,
             "ticks": ""
            },
            "colorscale": [
             [
              0,
              "#0d0887"
             ],
             [
              0.1111111111111111,
              "#46039f"
             ],
             [
              0.2222222222222222,
              "#7201a8"
             ],
             [
              0.3333333333333333,
              "#9c179e"
             ],
             [
              0.4444444444444444,
              "#bd3786"
             ],
             [
              0.5555555555555556,
              "#d8576b"
             ],
             [
              0.6666666666666666,
              "#ed7953"
             ],
             [
              0.7777777777777778,
              "#fb9f3a"
             ],
             [
              0.8888888888888888,
              "#fdca26"
             ],
             [
              1,
              "#f0f921"
             ]
            ],
            "type": "histogram2dcontour"
           }
          ],
          "mesh3d": [
           {
            "colorbar": {
             "outlinewidth": 0,
             "ticks": ""
            },
            "type": "mesh3d"
           }
          ],
          "parcoords": [
           {
            "line": {
             "colorbar": {
              "outlinewidth": 0,
              "ticks": ""
             }
            },
            "type": "parcoords"
           }
          ],
          "pie": [
           {
            "automargin": true,
            "type": "pie"
           }
          ],
          "scatter": [
           {
            "fillpattern": {
             "fillmode": "overlay",
             "size": 10,
             "solidity": 0.2
            },
            "type": "scatter"
           }
          ],
          "scatter3d": [
           {
            "line": {
             "colorbar": {
              "outlinewidth": 0,
              "ticks": ""
             }
            },
            "marker": {
             "colorbar": {
              "outlinewidth": 0,
              "ticks": ""
             }
            },
            "type": "scatter3d"
           }
          ],
          "scattercarpet": [
           {
            "marker": {
             "colorbar": {
              "outlinewidth": 0,
              "ticks": ""
             }
            },
            "type": "scattercarpet"
           }
          ],
          "scattergeo": [
           {
            "marker": {
             "colorbar": {
              "outlinewidth": 0,
              "ticks": ""
             }
            },
            "type": "scattergeo"
           }
          ],
          "scattergl": [
           {
            "marker": {
             "colorbar": {
              "outlinewidth": 0,
              "ticks": ""
             }
            },
            "type": "scattergl"
           }
          ],
          "scattermapbox": [
           {
            "marker": {
             "colorbar": {
              "outlinewidth": 0,
              "ticks": ""
             }
            },
            "type": "scattermapbox"
           }
          ],
          "scatterpolar": [
           {
            "marker": {
             "colorbar": {
              "outlinewidth": 0,
              "ticks": ""
             }
            },
            "type": "scatterpolar"
           }
          ],
          "scatterpolargl": [
           {
            "marker": {
             "colorbar": {
              "outlinewidth": 0,
              "ticks": ""
             }
            },
            "type": "scatterpolargl"
           }
          ],
          "scatterternary": [
           {
            "marker": {
             "colorbar": {
              "outlinewidth": 0,
              "ticks": ""
             }
            },
            "type": "scatterternary"
           }
          ],
          "surface": [
           {
            "colorbar": {
             "outlinewidth": 0,
             "ticks": ""
            },
            "colorscale": [
             [
              0,
              "#0d0887"
             ],
             [
              0.1111111111111111,
              "#46039f"
             ],
             [
              0.2222222222222222,
              "#7201a8"
             ],
             [
              0.3333333333333333,
              "#9c179e"
             ],
             [
              0.4444444444444444,
              "#bd3786"
             ],
             [
              0.5555555555555556,
              "#d8576b"
             ],
             [
              0.6666666666666666,
              "#ed7953"
             ],
             [
              0.7777777777777778,
              "#fb9f3a"
             ],
             [
              0.8888888888888888,
              "#fdca26"
             ],
             [
              1,
              "#f0f921"
             ]
            ],
            "type": "surface"
           }
          ],
          "table": [
           {
            "cells": {
             "fill": {
              "color": "#EBF0F8"
             },
             "line": {
              "color": "white"
             }
            },
            "header": {
             "fill": {
              "color": "#C8D4E3"
             },
             "line": {
              "color": "white"
             }
            },
            "type": "table"
           }
          ]
         },
         "layout": {
          "annotationdefaults": {
           "arrowcolor": "#2a3f5f",
           "arrowhead": 0,
           "arrowwidth": 1
          },
          "autotypenumbers": "strict",
          "coloraxis": {
           "colorbar": {
            "outlinewidth": 0,
            "ticks": ""
           }
          },
          "colorscale": {
           "diverging": [
            [
             0,
             "#8e0152"
            ],
            [
             0.1,
             "#c51b7d"
            ],
            [
             0.2,
             "#de77ae"
            ],
            [
             0.3,
             "#f1b6da"
            ],
            [
             0.4,
             "#fde0ef"
            ],
            [
             0.5,
             "#f7f7f7"
            ],
            [
             0.6,
             "#e6f5d0"
            ],
            [
             0.7,
             "#b8e186"
            ],
            [
             0.8,
             "#7fbc41"
            ],
            [
             0.9,
             "#4d9221"
            ],
            [
             1,
             "#276419"
            ]
           ],
           "sequential": [
            [
             0,
             "#0d0887"
            ],
            [
             0.1111111111111111,
             "#46039f"
            ],
            [
             0.2222222222222222,
             "#7201a8"
            ],
            [
             0.3333333333333333,
             "#9c179e"
            ],
            [
             0.4444444444444444,
             "#bd3786"
            ],
            [
             0.5555555555555556,
             "#d8576b"
            ],
            [
             0.6666666666666666,
             "#ed7953"
            ],
            [
             0.7777777777777778,
             "#fb9f3a"
            ],
            [
             0.8888888888888888,
             "#fdca26"
            ],
            [
             1,
             "#f0f921"
            ]
           ],
           "sequentialminus": [
            [
             0,
             "#0d0887"
            ],
            [
             0.1111111111111111,
             "#46039f"
            ],
            [
             0.2222222222222222,
             "#7201a8"
            ],
            [
             0.3333333333333333,
             "#9c179e"
            ],
            [
             0.4444444444444444,
             "#bd3786"
            ],
            [
             0.5555555555555556,
             "#d8576b"
            ],
            [
             0.6666666666666666,
             "#ed7953"
            ],
            [
             0.7777777777777778,
             "#fb9f3a"
            ],
            [
             0.8888888888888888,
             "#fdca26"
            ],
            [
             1,
             "#f0f921"
            ]
           ]
          },
          "colorway": [
           "#636efa",
           "#EF553B",
           "#00cc96",
           "#ab63fa",
           "#FFA15A",
           "#19d3f3",
           "#FF6692",
           "#B6E880",
           "#FF97FF",
           "#FECB52"
          ],
          "font": {
           "color": "#2a3f5f"
          },
          "geo": {
           "bgcolor": "white",
           "lakecolor": "white",
           "landcolor": "#E5ECF6",
           "showlakes": true,
           "showland": true,
           "subunitcolor": "white"
          },
          "hoverlabel": {
           "align": "left"
          },
          "hovermode": "closest",
          "mapbox": {
           "style": "light"
          },
          "paper_bgcolor": "white",
          "plot_bgcolor": "#E5ECF6",
          "polar": {
           "angularaxis": {
            "gridcolor": "white",
            "linecolor": "white",
            "ticks": ""
           },
           "bgcolor": "#E5ECF6",
           "radialaxis": {
            "gridcolor": "white",
            "linecolor": "white",
            "ticks": ""
           }
          },
          "scene": {
           "xaxis": {
            "backgroundcolor": "#E5ECF6",
            "gridcolor": "white",
            "gridwidth": 2,
            "linecolor": "white",
            "showbackground": true,
            "ticks": "",
            "zerolinecolor": "white"
           },
           "yaxis": {
            "backgroundcolor": "#E5ECF6",
            "gridcolor": "white",
            "gridwidth": 2,
            "linecolor": "white",
            "showbackground": true,
            "ticks": "",
            "zerolinecolor": "white"
           },
           "zaxis": {
            "backgroundcolor": "#E5ECF6",
            "gridcolor": "white",
            "gridwidth": 2,
            "linecolor": "white",
            "showbackground": true,
            "ticks": "",
            "zerolinecolor": "white"
           }
          },
          "shapedefaults": {
           "line": {
            "color": "#2a3f5f"
           }
          },
          "ternary": {
           "aaxis": {
            "gridcolor": "white",
            "linecolor": "white",
            "ticks": ""
           },
           "baxis": {
            "gridcolor": "white",
            "linecolor": "white",
            "ticks": ""
           },
           "bgcolor": "#E5ECF6",
           "caxis": {
            "gridcolor": "white",
            "linecolor": "white",
            "ticks": ""
           }
          },
          "title": {
           "x": 0.05
          },
          "xaxis": {
           "automargin": true,
           "gridcolor": "white",
           "linecolor": "white",
           "ticks": "",
           "title": {
            "standoff": 15
           },
           "zerolinecolor": "white",
           "zerolinewidth": 2
          },
          "yaxis": {
           "automargin": true,
           "gridcolor": "white",
           "linecolor": "white",
           "ticks": "",
           "title": {
            "standoff": 15
           },
           "zerolinecolor": "white",
           "zerolinewidth": 2
          }
         }
        },
        "title": {
         "text": "Slice Plot"
        },
        "width": 1200,
        "xaxis": {
         "anchor": "y",
         "domain": [
          0,
          0.2125
         ],
         "title": {
          "text": "max_depth"
         }
        },
        "xaxis2": {
         "anchor": "y2",
         "domain": [
          0.2625,
          0.475
         ],
         "title": {
          "text": "min_samples_leaf"
         }
        },
        "xaxis3": {
         "anchor": "y3",
         "domain": [
          0.525,
          0.7375
         ],
         "title": {
          "text": "min_samples_split"
         }
        },
        "xaxis4": {
         "anchor": "y4",
         "domain": [
          0.7875,
          1
         ],
         "title": {
          "text": "n_estimators"
         }
        },
        "yaxis": {
         "anchor": "x",
         "domain": [
          0,
          1
         ],
         "title": {
          "text": "Objective Value"
         }
        },
        "yaxis2": {
         "anchor": "x2",
         "domain": [
          0,
          1
         ],
         "matches": "y",
         "showticklabels": false
        },
        "yaxis3": {
         "anchor": "x3",
         "domain": [
          0,
          1
         ],
         "matches": "y",
         "showticklabels": false
        },
        "yaxis4": {
         "anchor": "x4",
         "domain": [
          0,
          1
         ],
         "matches": "y",
         "showticklabels": false
        }
       }
      }
     },
     "metadata": {},
     "output_type": "display_data"
    }
   ],
   "source": [
    "optuna.visualization.plot_slice(study)"
   ]
  },
  {
   "cell_type": "code",
   "execution_count": 10,
   "metadata": {},
   "outputs": [
    {
     "data": {
      "application/vnd.plotly.v1+json": {
       "config": {
        "plotlyServerURL": "https://plot.ly"
       },
       "data": [
        {
         "dimensions": [
          {
           "label": "Objective Value",
           "range": [
            55.748657670083404,
            57.77390441646147
           ],
           "values": [
            57.13817060849559,
            56.099419192521694,
            56.20191806882586,
            56.63243037343328,
            55.748657670083404,
            56.12924583020698,
            56.04497795238963,
            57.374293748298854,
            56.51018806842909,
            55.91502805773945,
            56.669585651385866,
            56.30894986092689,
            57.77390441646147,
            55.84809713814154,
            56.159127437743415,
            57.73099576827157,
            55.83270189591717,
            56.033495409752355,
            55.973849111048935,
            55.951702863267904
           ]
          },
          {
           "label": "max_depth",
           "range": [
            6,
            96
           ],
           "values": [
            95,
            69,
            42,
            31,
            7,
            63,
            15,
            43,
            60,
            47,
            78,
            25,
            96,
            83,
            88,
            13,
            96,
            24,
            46,
            6
           ]
          },
          {
           "label": "min_samples_leaf",
           "range": [
            1,
            28
           ],
           "values": [
            23,
            6,
            1,
            18,
            9,
            4,
            13,
            25,
            4,
            5,
            20,
            16,
            28,
            7,
            5,
            28,
            8,
            6,
            4,
            11
           ]
          },
          {
           "label": "min_samples_split",
           "range": [
            2,
            30
           ],
           "values": [
            10,
            13,
            27,
            30,
            10,
            2,
            12,
            22,
            4,
            17,
            18,
            13,
            16,
            4,
            8,
            8,
            15,
            21,
            20,
            28
           ]
          },
          {
           "label": "n_estimators",
           "range": [
            88,
            973
           ],
           "values": [
            520,
            225,
            620,
            886,
            846,
            824,
            943,
            871,
            123,
            832,
            591,
            182,
            486,
            822,
            468,
            919,
            618,
            973,
            846,
            88
           ]
          }
         ],
         "labelangle": 30,
         "labelside": "bottom",
         "line": {
          "color": [
           57.13817060849559,
           56.099419192521694,
           56.20191806882586,
           56.63243037343328,
           55.748657670083404,
           56.12924583020698,
           56.04497795238963,
           57.374293748298854,
           56.51018806842909,
           55.91502805773945,
           56.669585651385866,
           56.30894986092689,
           57.77390441646147,
           55.84809713814154,
           56.159127437743415,
           57.73099576827157,
           55.83270189591717,
           56.033495409752355,
           55.973849111048935,
           55.951702863267904
          ],
          "colorbar": {
           "title": {
            "text": "Objective Value"
           }
          },
          "colorscale": [
           [
            0,
            "rgb(247,251,255)"
           ],
           [
            0.125,
            "rgb(222,235,247)"
           ],
           [
            0.25,
            "rgb(198,219,239)"
           ],
           [
            0.375,
            "rgb(158,202,225)"
           ],
           [
            0.5,
            "rgb(107,174,214)"
           ],
           [
            0.625,
            "rgb(66,146,198)"
           ],
           [
            0.75,
            "rgb(33,113,181)"
           ],
           [
            0.875,
            "rgb(8,81,156)"
           ],
           [
            1,
            "rgb(8,48,107)"
           ]
          ],
          "reversescale": true,
          "showscale": true
         },
         "type": "parcoords"
        }
       ],
       "layout": {
        "template": {
         "data": {
          "bar": [
           {
            "error_x": {
             "color": "#2a3f5f"
            },
            "error_y": {
             "color": "#2a3f5f"
            },
            "marker": {
             "line": {
              "color": "#E5ECF6",
              "width": 0.5
             },
             "pattern": {
              "fillmode": "overlay",
              "size": 10,
              "solidity": 0.2
             }
            },
            "type": "bar"
           }
          ],
          "barpolar": [
           {
            "marker": {
             "line": {
              "color": "#E5ECF6",
              "width": 0.5
             },
             "pattern": {
              "fillmode": "overlay",
              "size": 10,
              "solidity": 0.2
             }
            },
            "type": "barpolar"
           }
          ],
          "carpet": [
           {
            "aaxis": {
             "endlinecolor": "#2a3f5f",
             "gridcolor": "white",
             "linecolor": "white",
             "minorgridcolor": "white",
             "startlinecolor": "#2a3f5f"
            },
            "baxis": {
             "endlinecolor": "#2a3f5f",
             "gridcolor": "white",
             "linecolor": "white",
             "minorgridcolor": "white",
             "startlinecolor": "#2a3f5f"
            },
            "type": "carpet"
           }
          ],
          "choropleth": [
           {
            "colorbar": {
             "outlinewidth": 0,
             "ticks": ""
            },
            "type": "choropleth"
           }
          ],
          "contour": [
           {
            "colorbar": {
             "outlinewidth": 0,
             "ticks": ""
            },
            "colorscale": [
             [
              0,
              "#0d0887"
             ],
             [
              0.1111111111111111,
              "#46039f"
             ],
             [
              0.2222222222222222,
              "#7201a8"
             ],
             [
              0.3333333333333333,
              "#9c179e"
             ],
             [
              0.4444444444444444,
              "#bd3786"
             ],
             [
              0.5555555555555556,
              "#d8576b"
             ],
             [
              0.6666666666666666,
              "#ed7953"
             ],
             [
              0.7777777777777778,
              "#fb9f3a"
             ],
             [
              0.8888888888888888,
              "#fdca26"
             ],
             [
              1,
              "#f0f921"
             ]
            ],
            "type": "contour"
           }
          ],
          "contourcarpet": [
           {
            "colorbar": {
             "outlinewidth": 0,
             "ticks": ""
            },
            "type": "contourcarpet"
           }
          ],
          "heatmap": [
           {
            "colorbar": {
             "outlinewidth": 0,
             "ticks": ""
            },
            "colorscale": [
             [
              0,
              "#0d0887"
             ],
             [
              0.1111111111111111,
              "#46039f"
             ],
             [
              0.2222222222222222,
              "#7201a8"
             ],
             [
              0.3333333333333333,
              "#9c179e"
             ],
             [
              0.4444444444444444,
              "#bd3786"
             ],
             [
              0.5555555555555556,
              "#d8576b"
             ],
             [
              0.6666666666666666,
              "#ed7953"
             ],
             [
              0.7777777777777778,
              "#fb9f3a"
             ],
             [
              0.8888888888888888,
              "#fdca26"
             ],
             [
              1,
              "#f0f921"
             ]
            ],
            "type": "heatmap"
           }
          ],
          "heatmapgl": [
           {
            "colorbar": {
             "outlinewidth": 0,
             "ticks": ""
            },
            "colorscale": [
             [
              0,
              "#0d0887"
             ],
             [
              0.1111111111111111,
              "#46039f"
             ],
             [
              0.2222222222222222,
              "#7201a8"
             ],
             [
              0.3333333333333333,
              "#9c179e"
             ],
             [
              0.4444444444444444,
              "#bd3786"
             ],
             [
              0.5555555555555556,
              "#d8576b"
             ],
             [
              0.6666666666666666,
              "#ed7953"
             ],
             [
              0.7777777777777778,
              "#fb9f3a"
             ],
             [
              0.8888888888888888,
              "#fdca26"
             ],
             [
              1,
              "#f0f921"
             ]
            ],
            "type": "heatmapgl"
           }
          ],
          "histogram": [
           {
            "marker": {
             "pattern": {
              "fillmode": "overlay",
              "size": 10,
              "solidity": 0.2
             }
            },
            "type": "histogram"
           }
          ],
          "histogram2d": [
           {
            "colorbar": {
             "outlinewidth": 0,
             "ticks": ""
            },
            "colorscale": [
             [
              0,
              "#0d0887"
             ],
             [
              0.1111111111111111,
              "#46039f"
             ],
             [
              0.2222222222222222,
              "#7201a8"
             ],
             [
              0.3333333333333333,
              "#9c179e"
             ],
             [
              0.4444444444444444,
              "#bd3786"
             ],
             [
              0.5555555555555556,
              "#d8576b"
             ],
             [
              0.6666666666666666,
              "#ed7953"
             ],
             [
              0.7777777777777778,
              "#fb9f3a"
             ],
             [
              0.8888888888888888,
              "#fdca26"
             ],
             [
              1,
              "#f0f921"
             ]
            ],
            "type": "histogram2d"
           }
          ],
          "histogram2dcontour": [
           {
            "colorbar": {
             "outlinewidth": 0,
             "ticks": ""
            },
            "colorscale": [
             [
              0,
              "#0d0887"
             ],
             [
              0.1111111111111111,
              "#46039f"
             ],
             [
              0.2222222222222222,
              "#7201a8"
             ],
             [
              0.3333333333333333,
              "#9c179e"
             ],
             [
              0.4444444444444444,
              "#bd3786"
             ],
             [
              0.5555555555555556,
              "#d8576b"
             ],
             [
              0.6666666666666666,
              "#ed7953"
             ],
             [
              0.7777777777777778,
              "#fb9f3a"
             ],
             [
              0.8888888888888888,
              "#fdca26"
             ],
             [
              1,
              "#f0f921"
             ]
            ],
            "type": "histogram2dcontour"
           }
          ],
          "mesh3d": [
           {
            "colorbar": {
             "outlinewidth": 0,
             "ticks": ""
            },
            "type": "mesh3d"
           }
          ],
          "parcoords": [
           {
            "line": {
             "colorbar": {
              "outlinewidth": 0,
              "ticks": ""
             }
            },
            "type": "parcoords"
           }
          ],
          "pie": [
           {
            "automargin": true,
            "type": "pie"
           }
          ],
          "scatter": [
           {
            "fillpattern": {
             "fillmode": "overlay",
             "size": 10,
             "solidity": 0.2
            },
            "type": "scatter"
           }
          ],
          "scatter3d": [
           {
            "line": {
             "colorbar": {
              "outlinewidth": 0,
              "ticks": ""
             }
            },
            "marker": {
             "colorbar": {
              "outlinewidth": 0,
              "ticks": ""
             }
            },
            "type": "scatter3d"
           }
          ],
          "scattercarpet": [
           {
            "marker": {
             "colorbar": {
              "outlinewidth": 0,
              "ticks": ""
             }
            },
            "type": "scattercarpet"
           }
          ],
          "scattergeo": [
           {
            "marker": {
             "colorbar": {
              "outlinewidth": 0,
              "ticks": ""
             }
            },
            "type": "scattergeo"
           }
          ],
          "scattergl": [
           {
            "marker": {
             "colorbar": {
              "outlinewidth": 0,
              "ticks": ""
             }
            },
            "type": "scattergl"
           }
          ],
          "scattermapbox": [
           {
            "marker": {
             "colorbar": {
              "outlinewidth": 0,
              "ticks": ""
             }
            },
            "type": "scattermapbox"
           }
          ],
          "scatterpolar": [
           {
            "marker": {
             "colorbar": {
              "outlinewidth": 0,
              "ticks": ""
             }
            },
            "type": "scatterpolar"
           }
          ],
          "scatterpolargl": [
           {
            "marker": {
             "colorbar": {
              "outlinewidth": 0,
              "ticks": ""
             }
            },
            "type": "scatterpolargl"
           }
          ],
          "scatterternary": [
           {
            "marker": {
             "colorbar": {
              "outlinewidth": 0,
              "ticks": ""
             }
            },
            "type": "scatterternary"
           }
          ],
          "surface": [
           {
            "colorbar": {
             "outlinewidth": 0,
             "ticks": ""
            },
            "colorscale": [
             [
              0,
              "#0d0887"
             ],
             [
              0.1111111111111111,
              "#46039f"
             ],
             [
              0.2222222222222222,
              "#7201a8"
             ],
             [
              0.3333333333333333,
              "#9c179e"
             ],
             [
              0.4444444444444444,
              "#bd3786"
             ],
             [
              0.5555555555555556,
              "#d8576b"
             ],
             [
              0.6666666666666666,
              "#ed7953"
             ],
             [
              0.7777777777777778,
              "#fb9f3a"
             ],
             [
              0.8888888888888888,
              "#fdca26"
             ],
             [
              1,
              "#f0f921"
             ]
            ],
            "type": "surface"
           }
          ],
          "table": [
           {
            "cells": {
             "fill": {
              "color": "#EBF0F8"
             },
             "line": {
              "color": "white"
             }
            },
            "header": {
             "fill": {
              "color": "#C8D4E3"
             },
             "line": {
              "color": "white"
             }
            },
            "type": "table"
           }
          ]
         },
         "layout": {
          "annotationdefaults": {
           "arrowcolor": "#2a3f5f",
           "arrowhead": 0,
           "arrowwidth": 1
          },
          "autotypenumbers": "strict",
          "coloraxis": {
           "colorbar": {
            "outlinewidth": 0,
            "ticks": ""
           }
          },
          "colorscale": {
           "diverging": [
            [
             0,
             "#8e0152"
            ],
            [
             0.1,
             "#c51b7d"
            ],
            [
             0.2,
             "#de77ae"
            ],
            [
             0.3,
             "#f1b6da"
            ],
            [
             0.4,
             "#fde0ef"
            ],
            [
             0.5,
             "#f7f7f7"
            ],
            [
             0.6,
             "#e6f5d0"
            ],
            [
             0.7,
             "#b8e186"
            ],
            [
             0.8,
             "#7fbc41"
            ],
            [
             0.9,
             "#4d9221"
            ],
            [
             1,
             "#276419"
            ]
           ],
           "sequential": [
            [
             0,
             "#0d0887"
            ],
            [
             0.1111111111111111,
             "#46039f"
            ],
            [
             0.2222222222222222,
             "#7201a8"
            ],
            [
             0.3333333333333333,
             "#9c179e"
            ],
            [
             0.4444444444444444,
             "#bd3786"
            ],
            [
             0.5555555555555556,
             "#d8576b"
            ],
            [
             0.6666666666666666,
             "#ed7953"
            ],
            [
             0.7777777777777778,
             "#fb9f3a"
            ],
            [
             0.8888888888888888,
             "#fdca26"
            ],
            [
             1,
             "#f0f921"
            ]
           ],
           "sequentialminus": [
            [
             0,
             "#0d0887"
            ],
            [
             0.1111111111111111,
             "#46039f"
            ],
            [
             0.2222222222222222,
             "#7201a8"
            ],
            [
             0.3333333333333333,
             "#9c179e"
            ],
            [
             0.4444444444444444,
             "#bd3786"
            ],
            [
             0.5555555555555556,
             "#d8576b"
            ],
            [
             0.6666666666666666,
             "#ed7953"
            ],
            [
             0.7777777777777778,
             "#fb9f3a"
            ],
            [
             0.8888888888888888,
             "#fdca26"
            ],
            [
             1,
             "#f0f921"
            ]
           ]
          },
          "colorway": [
           "#636efa",
           "#EF553B",
           "#00cc96",
           "#ab63fa",
           "#FFA15A",
           "#19d3f3",
           "#FF6692",
           "#B6E880",
           "#FF97FF",
           "#FECB52"
          ],
          "font": {
           "color": "#2a3f5f"
          },
          "geo": {
           "bgcolor": "white",
           "lakecolor": "white",
           "landcolor": "#E5ECF6",
           "showlakes": true,
           "showland": true,
           "subunitcolor": "white"
          },
          "hoverlabel": {
           "align": "left"
          },
          "hovermode": "closest",
          "mapbox": {
           "style": "light"
          },
          "paper_bgcolor": "white",
          "plot_bgcolor": "#E5ECF6",
          "polar": {
           "angularaxis": {
            "gridcolor": "white",
            "linecolor": "white",
            "ticks": ""
           },
           "bgcolor": "#E5ECF6",
           "radialaxis": {
            "gridcolor": "white",
            "linecolor": "white",
            "ticks": ""
           }
          },
          "scene": {
           "xaxis": {
            "backgroundcolor": "#E5ECF6",
            "gridcolor": "white",
            "gridwidth": 2,
            "linecolor": "white",
            "showbackground": true,
            "ticks": "",
            "zerolinecolor": "white"
           },
           "yaxis": {
            "backgroundcolor": "#E5ECF6",
            "gridcolor": "white",
            "gridwidth": 2,
            "linecolor": "white",
            "showbackground": true,
            "ticks": "",
            "zerolinecolor": "white"
           },
           "zaxis": {
            "backgroundcolor": "#E5ECF6",
            "gridcolor": "white",
            "gridwidth": 2,
            "linecolor": "white",
            "showbackground": true,
            "ticks": "",
            "zerolinecolor": "white"
           }
          },
          "shapedefaults": {
           "line": {
            "color": "#2a3f5f"
           }
          },
          "ternary": {
           "aaxis": {
            "gridcolor": "white",
            "linecolor": "white",
            "ticks": ""
           },
           "baxis": {
            "gridcolor": "white",
            "linecolor": "white",
            "ticks": ""
           },
           "bgcolor": "#E5ECF6",
           "caxis": {
            "gridcolor": "white",
            "linecolor": "white",
            "ticks": ""
           }
          },
          "title": {
           "x": 0.05
          },
          "xaxis": {
           "automargin": true,
           "gridcolor": "white",
           "linecolor": "white",
           "ticks": "",
           "title": {
            "standoff": 15
           },
           "zerolinecolor": "white",
           "zerolinewidth": 2
          },
          "yaxis": {
           "automargin": true,
           "gridcolor": "white",
           "linecolor": "white",
           "ticks": "",
           "title": {
            "standoff": 15
           },
           "zerolinecolor": "white",
           "zerolinewidth": 2
          }
         }
        },
        "title": {
         "text": "Parallel Coordinate Plot"
        }
       }
      }
     },
     "metadata": {},
     "output_type": "display_data"
    }
   ],
   "source": [
    "optuna.visualization.plot_parallel_coordinate(study, params=['n_estimators',\n",
    "                                                             'max_depth','min_samples_leaf',\n",
    "                                                             'min_samples_split'])"
   ]
  },
  {
   "cell_type": "code",
   "execution_count": 14,
   "metadata": {},
   "outputs": [
    {
     "name": "stderr",
     "output_type": "stream",
     "text": [
      "C:\\Users\\hp\\AppData\\Local\\Temp\\ipykernel_6924\\3346311166.py:1: ExperimentalWarning:\n",
      "\n",
      "plot_rank is experimental (supported from v3.2.0). The interface can change in the future.\n",
      "\n"
     ]
    },
    {
     "data": {
      "application/vnd.plotly.v1+json": {
       "config": {
        "plotlyServerURL": "https://plot.ly"
       },
       "data": [
        {
         "hovertemplate": "%{hovertext}<extra></extra>",
         "hovertext": [
          "Trial #0<br>n_estimators: 520<br>max_depth: 95<br>min_samples_leaf: 23<br>min_samples_split: 10<br><b>Objective Value: 57.13817060849559</b>",
          "Trial #1<br>n_estimators: 225<br>max_depth: 69<br>min_samples_leaf: 6<br>min_samples_split: 13<br><b>Objective Value: 56.099419192521694</b>",
          "Trial #2<br>n_estimators: 620<br>max_depth: 42<br>min_samples_leaf: 1<br>min_samples_split: 27<br><b>Objective Value: 56.20191806882586</b>",
          "Trial #3<br>n_estimators: 886<br>max_depth: 31<br>min_samples_leaf: 18<br>min_samples_split: 30<br><b>Objective Value: 56.63243037343328</b>",
          "Trial #4<br>n_estimators: 846<br>max_depth: 7<br>min_samples_leaf: 9<br>min_samples_split: 10<br><b>Objective Value: 55.748657670083404</b>",
          "Trial #5<br>n_estimators: 824<br>max_depth: 63<br>min_samples_leaf: 4<br>min_samples_split: 2<br><b>Objective Value: 56.12924583020698</b>",
          "Trial #6<br>n_estimators: 943<br>max_depth: 15<br>min_samples_leaf: 13<br>min_samples_split: 12<br><b>Objective Value: 56.04497795238963</b>",
          "Trial #7<br>n_estimators: 871<br>max_depth: 43<br>min_samples_leaf: 25<br>min_samples_split: 22<br><b>Objective Value: 57.374293748298854</b>",
          "Trial #8<br>n_estimators: 123<br>max_depth: 60<br>min_samples_leaf: 4<br>min_samples_split: 4<br><b>Objective Value: 56.51018806842909</b>",
          "Trial #9<br>n_estimators: 832<br>max_depth: 47<br>min_samples_leaf: 5<br>min_samples_split: 17<br><b>Objective Value: 55.91502805773945</b>",
          "Trial #10<br>n_estimators: 591<br>max_depth: 78<br>min_samples_leaf: 20<br>min_samples_split: 18<br><b>Objective Value: 56.669585651385866</b>",
          "Trial #11<br>n_estimators: 182<br>max_depth: 25<br>min_samples_leaf: 16<br>min_samples_split: 13<br><b>Objective Value: 56.30894986092689</b>",
          "Trial #12<br>n_estimators: 486<br>max_depth: 96<br>min_samples_leaf: 28<br>min_samples_split: 16<br><b>Objective Value: 57.77390441646147</b>",
          "Trial #13<br>n_estimators: 822<br>max_depth: 83<br>min_samples_leaf: 7<br>min_samples_split: 4<br><b>Objective Value: 55.84809713814154</b>",
          "Trial #14<br>n_estimators: 468<br>max_depth: 88<br>min_samples_leaf: 5<br>min_samples_split: 8<br><b>Objective Value: 56.159127437743415</b>",
          "Trial #15<br>n_estimators: 919<br>max_depth: 13<br>min_samples_leaf: 28<br>min_samples_split: 8<br><b>Objective Value: 57.73099576827157</b>",
          "Trial #16<br>n_estimators: 618<br>max_depth: 96<br>min_samples_leaf: 8<br>min_samples_split: 15<br><b>Objective Value: 55.83270189591717</b>",
          "Trial #17<br>n_estimators: 973<br>max_depth: 24<br>min_samples_leaf: 6<br>min_samples_split: 21<br><b>Objective Value: 56.033495409752355</b>",
          "Trial #18<br>n_estimators: 846<br>max_depth: 46<br>min_samples_leaf: 4<br>min_samples_split: 20<br><b>Objective Value: 55.973849111048935</b>",
          "Trial #19<br>n_estimators: 88<br>max_depth: 6<br>min_samples_leaf: 11<br>min_samples_split: 28<br><b>Objective Value: 55.951702863267904</b>"
         ],
         "marker": {
          "color": [
           "rgb(232.0, 83.0, 55.0)",
           "rgb(231.0, 246.0, 236.0)",
           "rgb(254.0, 231.0, 154.0)",
           "rgb(250.0, 150.0, 86.0)",
           "rgb(49.0, 54.0, 149.0)",
           "rgb(247.0, 252.0, 206.0)",
           "rgb(207.0, 235.0, 243.0)",
           "rgb(217.0, 51.0, 40.0)",
           "rgb(253.0, 182.0, 104.0)",
           "rgb(96.0, 149.0, 197.0)",
           "rgb(245.0, 116.0, 70.0)",
           "rgb(254.0, 208.0, 129.0)",
           "rgb(165.0, 0.0, 38.0)",
           "rgb(71.0, 120.0, 182.0)",
           "rgb(255.0, 247.0, 179.0)",
           "rgb(191.0, 25.0, 39.0)",
           "rgb(60.0, 87.0, 165.0)",
           "rgb(179.0, 221.0, 235.0)",
           "rgb(151.0, 201.0, 224.0)",
           "rgb(122.0, 178.0, 212.0)"
          ],
          "line": {
           "color": "Grey",
           "width": 0.5
          }
         },
         "mode": "markers",
         "showlegend": false,
         "type": "scatter",
         "x": [
          520,
          225,
          620,
          886,
          846,
          824,
          943,
          871,
          123,
          832,
          591,
          182,
          486,
          822,
          468,
          919,
          618,
          973,
          846,
          88
         ],
         "xaxis": "x",
         "y": [
          520,
          225,
          620,
          886,
          846,
          824,
          943,
          871,
          123,
          832,
          591,
          182,
          486,
          822,
          468,
          919,
          618,
          973,
          846,
          88
         ],
         "yaxis": "y"
        },
        {
         "hovertemplate": "%{hovertext}<extra></extra>",
         "hovertext": [
          "Trial #0<br>n_estimators: 520<br>max_depth: 95<br>min_samples_leaf: 23<br>min_samples_split: 10<br><b>Objective Value: 57.13817060849559</b>",
          "Trial #1<br>n_estimators: 225<br>max_depth: 69<br>min_samples_leaf: 6<br>min_samples_split: 13<br><b>Objective Value: 56.099419192521694</b>",
          "Trial #2<br>n_estimators: 620<br>max_depth: 42<br>min_samples_leaf: 1<br>min_samples_split: 27<br><b>Objective Value: 56.20191806882586</b>",
          "Trial #3<br>n_estimators: 886<br>max_depth: 31<br>min_samples_leaf: 18<br>min_samples_split: 30<br><b>Objective Value: 56.63243037343328</b>",
          "Trial #4<br>n_estimators: 846<br>max_depth: 7<br>min_samples_leaf: 9<br>min_samples_split: 10<br><b>Objective Value: 55.748657670083404</b>",
          "Trial #5<br>n_estimators: 824<br>max_depth: 63<br>min_samples_leaf: 4<br>min_samples_split: 2<br><b>Objective Value: 56.12924583020698</b>",
          "Trial #6<br>n_estimators: 943<br>max_depth: 15<br>min_samples_leaf: 13<br>min_samples_split: 12<br><b>Objective Value: 56.04497795238963</b>",
          "Trial #7<br>n_estimators: 871<br>max_depth: 43<br>min_samples_leaf: 25<br>min_samples_split: 22<br><b>Objective Value: 57.374293748298854</b>",
          "Trial #8<br>n_estimators: 123<br>max_depth: 60<br>min_samples_leaf: 4<br>min_samples_split: 4<br><b>Objective Value: 56.51018806842909</b>",
          "Trial #9<br>n_estimators: 832<br>max_depth: 47<br>min_samples_leaf: 5<br>min_samples_split: 17<br><b>Objective Value: 55.91502805773945</b>",
          "Trial #10<br>n_estimators: 591<br>max_depth: 78<br>min_samples_leaf: 20<br>min_samples_split: 18<br><b>Objective Value: 56.669585651385866</b>",
          "Trial #11<br>n_estimators: 182<br>max_depth: 25<br>min_samples_leaf: 16<br>min_samples_split: 13<br><b>Objective Value: 56.30894986092689</b>",
          "Trial #12<br>n_estimators: 486<br>max_depth: 96<br>min_samples_leaf: 28<br>min_samples_split: 16<br><b>Objective Value: 57.77390441646147</b>",
          "Trial #13<br>n_estimators: 822<br>max_depth: 83<br>min_samples_leaf: 7<br>min_samples_split: 4<br><b>Objective Value: 55.84809713814154</b>",
          "Trial #14<br>n_estimators: 468<br>max_depth: 88<br>min_samples_leaf: 5<br>min_samples_split: 8<br><b>Objective Value: 56.159127437743415</b>",
          "Trial #15<br>n_estimators: 919<br>max_depth: 13<br>min_samples_leaf: 28<br>min_samples_split: 8<br><b>Objective Value: 57.73099576827157</b>",
          "Trial #16<br>n_estimators: 618<br>max_depth: 96<br>min_samples_leaf: 8<br>min_samples_split: 15<br><b>Objective Value: 55.83270189591717</b>",
          "Trial #17<br>n_estimators: 973<br>max_depth: 24<br>min_samples_leaf: 6<br>min_samples_split: 21<br><b>Objective Value: 56.033495409752355</b>",
          "Trial #18<br>n_estimators: 846<br>max_depth: 46<br>min_samples_leaf: 4<br>min_samples_split: 20<br><b>Objective Value: 55.973849111048935</b>",
          "Trial #19<br>n_estimators: 88<br>max_depth: 6<br>min_samples_leaf: 11<br>min_samples_split: 28<br><b>Objective Value: 55.951702863267904</b>"
         ],
         "marker": {
          "color": [
           "rgb(232.0, 83.0, 55.0)",
           "rgb(231.0, 246.0, 236.0)",
           "rgb(254.0, 231.0, 154.0)",
           "rgb(250.0, 150.0, 86.0)",
           "rgb(49.0, 54.0, 149.0)",
           "rgb(247.0, 252.0, 206.0)",
           "rgb(207.0, 235.0, 243.0)",
           "rgb(217.0, 51.0, 40.0)",
           "rgb(253.0, 182.0, 104.0)",
           "rgb(96.0, 149.0, 197.0)",
           "rgb(245.0, 116.0, 70.0)",
           "rgb(254.0, 208.0, 129.0)",
           "rgb(165.0, 0.0, 38.0)",
           "rgb(71.0, 120.0, 182.0)",
           "rgb(255.0, 247.0, 179.0)",
           "rgb(191.0, 25.0, 39.0)",
           "rgb(60.0, 87.0, 165.0)",
           "rgb(179.0, 221.0, 235.0)",
           "rgb(151.0, 201.0, 224.0)",
           "rgb(122.0, 178.0, 212.0)"
          ],
          "line": {
           "color": "Grey",
           "width": 0.5
          }
         },
         "mode": "markers",
         "showlegend": false,
         "type": "scatter",
         "x": [
          520,
          225,
          620,
          886,
          846,
          824,
          943,
          871,
          123,
          832,
          591,
          182,
          486,
          822,
          468,
          919,
          618,
          973,
          846,
          88
         ],
         "xaxis": "x5",
         "y": [
          95,
          69,
          42,
          31,
          7,
          63,
          15,
          43,
          60,
          47,
          78,
          25,
          96,
          83,
          88,
          13,
          96,
          24,
          46,
          6
         ],
         "yaxis": "y5"
        },
        {
         "hovertemplate": "%{hovertext}<extra></extra>",
         "hovertext": [
          "Trial #0<br>n_estimators: 520<br>max_depth: 95<br>min_samples_leaf: 23<br>min_samples_split: 10<br><b>Objective Value: 57.13817060849559</b>",
          "Trial #1<br>n_estimators: 225<br>max_depth: 69<br>min_samples_leaf: 6<br>min_samples_split: 13<br><b>Objective Value: 56.099419192521694</b>",
          "Trial #2<br>n_estimators: 620<br>max_depth: 42<br>min_samples_leaf: 1<br>min_samples_split: 27<br><b>Objective Value: 56.20191806882586</b>",
          "Trial #3<br>n_estimators: 886<br>max_depth: 31<br>min_samples_leaf: 18<br>min_samples_split: 30<br><b>Objective Value: 56.63243037343328</b>",
          "Trial #4<br>n_estimators: 846<br>max_depth: 7<br>min_samples_leaf: 9<br>min_samples_split: 10<br><b>Objective Value: 55.748657670083404</b>",
          "Trial #5<br>n_estimators: 824<br>max_depth: 63<br>min_samples_leaf: 4<br>min_samples_split: 2<br><b>Objective Value: 56.12924583020698</b>",
          "Trial #6<br>n_estimators: 943<br>max_depth: 15<br>min_samples_leaf: 13<br>min_samples_split: 12<br><b>Objective Value: 56.04497795238963</b>",
          "Trial #7<br>n_estimators: 871<br>max_depth: 43<br>min_samples_leaf: 25<br>min_samples_split: 22<br><b>Objective Value: 57.374293748298854</b>",
          "Trial #8<br>n_estimators: 123<br>max_depth: 60<br>min_samples_leaf: 4<br>min_samples_split: 4<br><b>Objective Value: 56.51018806842909</b>",
          "Trial #9<br>n_estimators: 832<br>max_depth: 47<br>min_samples_leaf: 5<br>min_samples_split: 17<br><b>Objective Value: 55.91502805773945</b>",
          "Trial #10<br>n_estimators: 591<br>max_depth: 78<br>min_samples_leaf: 20<br>min_samples_split: 18<br><b>Objective Value: 56.669585651385866</b>",
          "Trial #11<br>n_estimators: 182<br>max_depth: 25<br>min_samples_leaf: 16<br>min_samples_split: 13<br><b>Objective Value: 56.30894986092689</b>",
          "Trial #12<br>n_estimators: 486<br>max_depth: 96<br>min_samples_leaf: 28<br>min_samples_split: 16<br><b>Objective Value: 57.77390441646147</b>",
          "Trial #13<br>n_estimators: 822<br>max_depth: 83<br>min_samples_leaf: 7<br>min_samples_split: 4<br><b>Objective Value: 55.84809713814154</b>",
          "Trial #14<br>n_estimators: 468<br>max_depth: 88<br>min_samples_leaf: 5<br>min_samples_split: 8<br><b>Objective Value: 56.159127437743415</b>",
          "Trial #15<br>n_estimators: 919<br>max_depth: 13<br>min_samples_leaf: 28<br>min_samples_split: 8<br><b>Objective Value: 57.73099576827157</b>",
          "Trial #16<br>n_estimators: 618<br>max_depth: 96<br>min_samples_leaf: 8<br>min_samples_split: 15<br><b>Objective Value: 55.83270189591717</b>",
          "Trial #17<br>n_estimators: 973<br>max_depth: 24<br>min_samples_leaf: 6<br>min_samples_split: 21<br><b>Objective Value: 56.033495409752355</b>",
          "Trial #18<br>n_estimators: 846<br>max_depth: 46<br>min_samples_leaf: 4<br>min_samples_split: 20<br><b>Objective Value: 55.973849111048935</b>",
          "Trial #19<br>n_estimators: 88<br>max_depth: 6<br>min_samples_leaf: 11<br>min_samples_split: 28<br><b>Objective Value: 55.951702863267904</b>"
         ],
         "marker": {
          "color": [
           "rgb(232.0, 83.0, 55.0)",
           "rgb(231.0, 246.0, 236.0)",
           "rgb(254.0, 231.0, 154.0)",
           "rgb(250.0, 150.0, 86.0)",
           "rgb(49.0, 54.0, 149.0)",
           "rgb(247.0, 252.0, 206.0)",
           "rgb(207.0, 235.0, 243.0)",
           "rgb(217.0, 51.0, 40.0)",
           "rgb(253.0, 182.0, 104.0)",
           "rgb(96.0, 149.0, 197.0)",
           "rgb(245.0, 116.0, 70.0)",
           "rgb(254.0, 208.0, 129.0)",
           "rgb(165.0, 0.0, 38.0)",
           "rgb(71.0, 120.0, 182.0)",
           "rgb(255.0, 247.0, 179.0)",
           "rgb(191.0, 25.0, 39.0)",
           "rgb(60.0, 87.0, 165.0)",
           "rgb(179.0, 221.0, 235.0)",
           "rgb(151.0, 201.0, 224.0)",
           "rgb(122.0, 178.0, 212.0)"
          ],
          "line": {
           "color": "Grey",
           "width": 0.5
          }
         },
         "mode": "markers",
         "showlegend": false,
         "type": "scatter",
         "x": [
          520,
          225,
          620,
          886,
          846,
          824,
          943,
          871,
          123,
          832,
          591,
          182,
          486,
          822,
          468,
          919,
          618,
          973,
          846,
          88
         ],
         "xaxis": "x9",
         "y": [
          23,
          6,
          1,
          18,
          9,
          4,
          13,
          25,
          4,
          5,
          20,
          16,
          28,
          7,
          5,
          28,
          8,
          6,
          4,
          11
         ],
         "yaxis": "y9"
        },
        {
         "hovertemplate": "%{hovertext}<extra></extra>",
         "hovertext": [
          "Trial #0<br>n_estimators: 520<br>max_depth: 95<br>min_samples_leaf: 23<br>min_samples_split: 10<br><b>Objective Value: 57.13817060849559</b>",
          "Trial #1<br>n_estimators: 225<br>max_depth: 69<br>min_samples_leaf: 6<br>min_samples_split: 13<br><b>Objective Value: 56.099419192521694</b>",
          "Trial #2<br>n_estimators: 620<br>max_depth: 42<br>min_samples_leaf: 1<br>min_samples_split: 27<br><b>Objective Value: 56.20191806882586</b>",
          "Trial #3<br>n_estimators: 886<br>max_depth: 31<br>min_samples_leaf: 18<br>min_samples_split: 30<br><b>Objective Value: 56.63243037343328</b>",
          "Trial #4<br>n_estimators: 846<br>max_depth: 7<br>min_samples_leaf: 9<br>min_samples_split: 10<br><b>Objective Value: 55.748657670083404</b>",
          "Trial #5<br>n_estimators: 824<br>max_depth: 63<br>min_samples_leaf: 4<br>min_samples_split: 2<br><b>Objective Value: 56.12924583020698</b>",
          "Trial #6<br>n_estimators: 943<br>max_depth: 15<br>min_samples_leaf: 13<br>min_samples_split: 12<br><b>Objective Value: 56.04497795238963</b>",
          "Trial #7<br>n_estimators: 871<br>max_depth: 43<br>min_samples_leaf: 25<br>min_samples_split: 22<br><b>Objective Value: 57.374293748298854</b>",
          "Trial #8<br>n_estimators: 123<br>max_depth: 60<br>min_samples_leaf: 4<br>min_samples_split: 4<br><b>Objective Value: 56.51018806842909</b>",
          "Trial #9<br>n_estimators: 832<br>max_depth: 47<br>min_samples_leaf: 5<br>min_samples_split: 17<br><b>Objective Value: 55.91502805773945</b>",
          "Trial #10<br>n_estimators: 591<br>max_depth: 78<br>min_samples_leaf: 20<br>min_samples_split: 18<br><b>Objective Value: 56.669585651385866</b>",
          "Trial #11<br>n_estimators: 182<br>max_depth: 25<br>min_samples_leaf: 16<br>min_samples_split: 13<br><b>Objective Value: 56.30894986092689</b>",
          "Trial #12<br>n_estimators: 486<br>max_depth: 96<br>min_samples_leaf: 28<br>min_samples_split: 16<br><b>Objective Value: 57.77390441646147</b>",
          "Trial #13<br>n_estimators: 822<br>max_depth: 83<br>min_samples_leaf: 7<br>min_samples_split: 4<br><b>Objective Value: 55.84809713814154</b>",
          "Trial #14<br>n_estimators: 468<br>max_depth: 88<br>min_samples_leaf: 5<br>min_samples_split: 8<br><b>Objective Value: 56.159127437743415</b>",
          "Trial #15<br>n_estimators: 919<br>max_depth: 13<br>min_samples_leaf: 28<br>min_samples_split: 8<br><b>Objective Value: 57.73099576827157</b>",
          "Trial #16<br>n_estimators: 618<br>max_depth: 96<br>min_samples_leaf: 8<br>min_samples_split: 15<br><b>Objective Value: 55.83270189591717</b>",
          "Trial #17<br>n_estimators: 973<br>max_depth: 24<br>min_samples_leaf: 6<br>min_samples_split: 21<br><b>Objective Value: 56.033495409752355</b>",
          "Trial #18<br>n_estimators: 846<br>max_depth: 46<br>min_samples_leaf: 4<br>min_samples_split: 20<br><b>Objective Value: 55.973849111048935</b>",
          "Trial #19<br>n_estimators: 88<br>max_depth: 6<br>min_samples_leaf: 11<br>min_samples_split: 28<br><b>Objective Value: 55.951702863267904</b>"
         ],
         "marker": {
          "color": [
           "rgb(232.0, 83.0, 55.0)",
           "rgb(231.0, 246.0, 236.0)",
           "rgb(254.0, 231.0, 154.0)",
           "rgb(250.0, 150.0, 86.0)",
           "rgb(49.0, 54.0, 149.0)",
           "rgb(247.0, 252.0, 206.0)",
           "rgb(207.0, 235.0, 243.0)",
           "rgb(217.0, 51.0, 40.0)",
           "rgb(253.0, 182.0, 104.0)",
           "rgb(96.0, 149.0, 197.0)",
           "rgb(245.0, 116.0, 70.0)",
           "rgb(254.0, 208.0, 129.0)",
           "rgb(165.0, 0.0, 38.0)",
           "rgb(71.0, 120.0, 182.0)",
           "rgb(255.0, 247.0, 179.0)",
           "rgb(191.0, 25.0, 39.0)",
           "rgb(60.0, 87.0, 165.0)",
           "rgb(179.0, 221.0, 235.0)",
           "rgb(151.0, 201.0, 224.0)",
           "rgb(122.0, 178.0, 212.0)"
          ],
          "line": {
           "color": "Grey",
           "width": 0.5
          }
         },
         "mode": "markers",
         "showlegend": false,
         "type": "scatter",
         "x": [
          520,
          225,
          620,
          886,
          846,
          824,
          943,
          871,
          123,
          832,
          591,
          182,
          486,
          822,
          468,
          919,
          618,
          973,
          846,
          88
         ],
         "xaxis": "x13",
         "y": [
          10,
          13,
          27,
          30,
          10,
          2,
          12,
          22,
          4,
          17,
          18,
          13,
          16,
          4,
          8,
          8,
          15,
          21,
          20,
          28
         ],
         "yaxis": "y13"
        },
        {
         "hovertemplate": "%{hovertext}<extra></extra>",
         "hovertext": [
          "Trial #0<br>n_estimators: 520<br>max_depth: 95<br>min_samples_leaf: 23<br>min_samples_split: 10<br><b>Objective Value: 57.13817060849559</b>",
          "Trial #1<br>n_estimators: 225<br>max_depth: 69<br>min_samples_leaf: 6<br>min_samples_split: 13<br><b>Objective Value: 56.099419192521694</b>",
          "Trial #2<br>n_estimators: 620<br>max_depth: 42<br>min_samples_leaf: 1<br>min_samples_split: 27<br><b>Objective Value: 56.20191806882586</b>",
          "Trial #3<br>n_estimators: 886<br>max_depth: 31<br>min_samples_leaf: 18<br>min_samples_split: 30<br><b>Objective Value: 56.63243037343328</b>",
          "Trial #4<br>n_estimators: 846<br>max_depth: 7<br>min_samples_leaf: 9<br>min_samples_split: 10<br><b>Objective Value: 55.748657670083404</b>",
          "Trial #5<br>n_estimators: 824<br>max_depth: 63<br>min_samples_leaf: 4<br>min_samples_split: 2<br><b>Objective Value: 56.12924583020698</b>",
          "Trial #6<br>n_estimators: 943<br>max_depth: 15<br>min_samples_leaf: 13<br>min_samples_split: 12<br><b>Objective Value: 56.04497795238963</b>",
          "Trial #7<br>n_estimators: 871<br>max_depth: 43<br>min_samples_leaf: 25<br>min_samples_split: 22<br><b>Objective Value: 57.374293748298854</b>",
          "Trial #8<br>n_estimators: 123<br>max_depth: 60<br>min_samples_leaf: 4<br>min_samples_split: 4<br><b>Objective Value: 56.51018806842909</b>",
          "Trial #9<br>n_estimators: 832<br>max_depth: 47<br>min_samples_leaf: 5<br>min_samples_split: 17<br><b>Objective Value: 55.91502805773945</b>",
          "Trial #10<br>n_estimators: 591<br>max_depth: 78<br>min_samples_leaf: 20<br>min_samples_split: 18<br><b>Objective Value: 56.669585651385866</b>",
          "Trial #11<br>n_estimators: 182<br>max_depth: 25<br>min_samples_leaf: 16<br>min_samples_split: 13<br><b>Objective Value: 56.30894986092689</b>",
          "Trial #12<br>n_estimators: 486<br>max_depth: 96<br>min_samples_leaf: 28<br>min_samples_split: 16<br><b>Objective Value: 57.77390441646147</b>",
          "Trial #13<br>n_estimators: 822<br>max_depth: 83<br>min_samples_leaf: 7<br>min_samples_split: 4<br><b>Objective Value: 55.84809713814154</b>",
          "Trial #14<br>n_estimators: 468<br>max_depth: 88<br>min_samples_leaf: 5<br>min_samples_split: 8<br><b>Objective Value: 56.159127437743415</b>",
          "Trial #15<br>n_estimators: 919<br>max_depth: 13<br>min_samples_leaf: 28<br>min_samples_split: 8<br><b>Objective Value: 57.73099576827157</b>",
          "Trial #16<br>n_estimators: 618<br>max_depth: 96<br>min_samples_leaf: 8<br>min_samples_split: 15<br><b>Objective Value: 55.83270189591717</b>",
          "Trial #17<br>n_estimators: 973<br>max_depth: 24<br>min_samples_leaf: 6<br>min_samples_split: 21<br><b>Objective Value: 56.033495409752355</b>",
          "Trial #18<br>n_estimators: 846<br>max_depth: 46<br>min_samples_leaf: 4<br>min_samples_split: 20<br><b>Objective Value: 55.973849111048935</b>",
          "Trial #19<br>n_estimators: 88<br>max_depth: 6<br>min_samples_leaf: 11<br>min_samples_split: 28<br><b>Objective Value: 55.951702863267904</b>"
         ],
         "marker": {
          "color": [
           "rgb(232.0, 83.0, 55.0)",
           "rgb(231.0, 246.0, 236.0)",
           "rgb(254.0, 231.0, 154.0)",
           "rgb(250.0, 150.0, 86.0)",
           "rgb(49.0, 54.0, 149.0)",
           "rgb(247.0, 252.0, 206.0)",
           "rgb(207.0, 235.0, 243.0)",
           "rgb(217.0, 51.0, 40.0)",
           "rgb(253.0, 182.0, 104.0)",
           "rgb(96.0, 149.0, 197.0)",
           "rgb(245.0, 116.0, 70.0)",
           "rgb(254.0, 208.0, 129.0)",
           "rgb(165.0, 0.0, 38.0)",
           "rgb(71.0, 120.0, 182.0)",
           "rgb(255.0, 247.0, 179.0)",
           "rgb(191.0, 25.0, 39.0)",
           "rgb(60.0, 87.0, 165.0)",
           "rgb(179.0, 221.0, 235.0)",
           "rgb(151.0, 201.0, 224.0)",
           "rgb(122.0, 178.0, 212.0)"
          ],
          "line": {
           "color": "Grey",
           "width": 0.5
          }
         },
         "mode": "markers",
         "showlegend": false,
         "type": "scatter",
         "x": [
          95,
          69,
          42,
          31,
          7,
          63,
          15,
          43,
          60,
          47,
          78,
          25,
          96,
          83,
          88,
          13,
          96,
          24,
          46,
          6
         ],
         "xaxis": "x2",
         "y": [
          520,
          225,
          620,
          886,
          846,
          824,
          943,
          871,
          123,
          832,
          591,
          182,
          486,
          822,
          468,
          919,
          618,
          973,
          846,
          88
         ],
         "yaxis": "y2"
        },
        {
         "hovertemplate": "%{hovertext}<extra></extra>",
         "hovertext": [
          "Trial #0<br>n_estimators: 520<br>max_depth: 95<br>min_samples_leaf: 23<br>min_samples_split: 10<br><b>Objective Value: 57.13817060849559</b>",
          "Trial #1<br>n_estimators: 225<br>max_depth: 69<br>min_samples_leaf: 6<br>min_samples_split: 13<br><b>Objective Value: 56.099419192521694</b>",
          "Trial #2<br>n_estimators: 620<br>max_depth: 42<br>min_samples_leaf: 1<br>min_samples_split: 27<br><b>Objective Value: 56.20191806882586</b>",
          "Trial #3<br>n_estimators: 886<br>max_depth: 31<br>min_samples_leaf: 18<br>min_samples_split: 30<br><b>Objective Value: 56.63243037343328</b>",
          "Trial #4<br>n_estimators: 846<br>max_depth: 7<br>min_samples_leaf: 9<br>min_samples_split: 10<br><b>Objective Value: 55.748657670083404</b>",
          "Trial #5<br>n_estimators: 824<br>max_depth: 63<br>min_samples_leaf: 4<br>min_samples_split: 2<br><b>Objective Value: 56.12924583020698</b>",
          "Trial #6<br>n_estimators: 943<br>max_depth: 15<br>min_samples_leaf: 13<br>min_samples_split: 12<br><b>Objective Value: 56.04497795238963</b>",
          "Trial #7<br>n_estimators: 871<br>max_depth: 43<br>min_samples_leaf: 25<br>min_samples_split: 22<br><b>Objective Value: 57.374293748298854</b>",
          "Trial #8<br>n_estimators: 123<br>max_depth: 60<br>min_samples_leaf: 4<br>min_samples_split: 4<br><b>Objective Value: 56.51018806842909</b>",
          "Trial #9<br>n_estimators: 832<br>max_depth: 47<br>min_samples_leaf: 5<br>min_samples_split: 17<br><b>Objective Value: 55.91502805773945</b>",
          "Trial #10<br>n_estimators: 591<br>max_depth: 78<br>min_samples_leaf: 20<br>min_samples_split: 18<br><b>Objective Value: 56.669585651385866</b>",
          "Trial #11<br>n_estimators: 182<br>max_depth: 25<br>min_samples_leaf: 16<br>min_samples_split: 13<br><b>Objective Value: 56.30894986092689</b>",
          "Trial #12<br>n_estimators: 486<br>max_depth: 96<br>min_samples_leaf: 28<br>min_samples_split: 16<br><b>Objective Value: 57.77390441646147</b>",
          "Trial #13<br>n_estimators: 822<br>max_depth: 83<br>min_samples_leaf: 7<br>min_samples_split: 4<br><b>Objective Value: 55.84809713814154</b>",
          "Trial #14<br>n_estimators: 468<br>max_depth: 88<br>min_samples_leaf: 5<br>min_samples_split: 8<br><b>Objective Value: 56.159127437743415</b>",
          "Trial #15<br>n_estimators: 919<br>max_depth: 13<br>min_samples_leaf: 28<br>min_samples_split: 8<br><b>Objective Value: 57.73099576827157</b>",
          "Trial #16<br>n_estimators: 618<br>max_depth: 96<br>min_samples_leaf: 8<br>min_samples_split: 15<br><b>Objective Value: 55.83270189591717</b>",
          "Trial #17<br>n_estimators: 973<br>max_depth: 24<br>min_samples_leaf: 6<br>min_samples_split: 21<br><b>Objective Value: 56.033495409752355</b>",
          "Trial #18<br>n_estimators: 846<br>max_depth: 46<br>min_samples_leaf: 4<br>min_samples_split: 20<br><b>Objective Value: 55.973849111048935</b>",
          "Trial #19<br>n_estimators: 88<br>max_depth: 6<br>min_samples_leaf: 11<br>min_samples_split: 28<br><b>Objective Value: 55.951702863267904</b>"
         ],
         "marker": {
          "color": [
           "rgb(232.0, 83.0, 55.0)",
           "rgb(231.0, 246.0, 236.0)",
           "rgb(254.0, 231.0, 154.0)",
           "rgb(250.0, 150.0, 86.0)",
           "rgb(49.0, 54.0, 149.0)",
           "rgb(247.0, 252.0, 206.0)",
           "rgb(207.0, 235.0, 243.0)",
           "rgb(217.0, 51.0, 40.0)",
           "rgb(253.0, 182.0, 104.0)",
           "rgb(96.0, 149.0, 197.0)",
           "rgb(245.0, 116.0, 70.0)",
           "rgb(254.0, 208.0, 129.0)",
           "rgb(165.0, 0.0, 38.0)",
           "rgb(71.0, 120.0, 182.0)",
           "rgb(255.0, 247.0, 179.0)",
           "rgb(191.0, 25.0, 39.0)",
           "rgb(60.0, 87.0, 165.0)",
           "rgb(179.0, 221.0, 235.0)",
           "rgb(151.0, 201.0, 224.0)",
           "rgb(122.0, 178.0, 212.0)"
          ],
          "line": {
           "color": "Grey",
           "width": 0.5
          }
         },
         "mode": "markers",
         "showlegend": false,
         "type": "scatter",
         "x": [
          95,
          69,
          42,
          31,
          7,
          63,
          15,
          43,
          60,
          47,
          78,
          25,
          96,
          83,
          88,
          13,
          96,
          24,
          46,
          6
         ],
         "xaxis": "x6",
         "y": [
          95,
          69,
          42,
          31,
          7,
          63,
          15,
          43,
          60,
          47,
          78,
          25,
          96,
          83,
          88,
          13,
          96,
          24,
          46,
          6
         ],
         "yaxis": "y6"
        },
        {
         "hovertemplate": "%{hovertext}<extra></extra>",
         "hovertext": [
          "Trial #0<br>n_estimators: 520<br>max_depth: 95<br>min_samples_leaf: 23<br>min_samples_split: 10<br><b>Objective Value: 57.13817060849559</b>",
          "Trial #1<br>n_estimators: 225<br>max_depth: 69<br>min_samples_leaf: 6<br>min_samples_split: 13<br><b>Objective Value: 56.099419192521694</b>",
          "Trial #2<br>n_estimators: 620<br>max_depth: 42<br>min_samples_leaf: 1<br>min_samples_split: 27<br><b>Objective Value: 56.20191806882586</b>",
          "Trial #3<br>n_estimators: 886<br>max_depth: 31<br>min_samples_leaf: 18<br>min_samples_split: 30<br><b>Objective Value: 56.63243037343328</b>",
          "Trial #4<br>n_estimators: 846<br>max_depth: 7<br>min_samples_leaf: 9<br>min_samples_split: 10<br><b>Objective Value: 55.748657670083404</b>",
          "Trial #5<br>n_estimators: 824<br>max_depth: 63<br>min_samples_leaf: 4<br>min_samples_split: 2<br><b>Objective Value: 56.12924583020698</b>",
          "Trial #6<br>n_estimators: 943<br>max_depth: 15<br>min_samples_leaf: 13<br>min_samples_split: 12<br><b>Objective Value: 56.04497795238963</b>",
          "Trial #7<br>n_estimators: 871<br>max_depth: 43<br>min_samples_leaf: 25<br>min_samples_split: 22<br><b>Objective Value: 57.374293748298854</b>",
          "Trial #8<br>n_estimators: 123<br>max_depth: 60<br>min_samples_leaf: 4<br>min_samples_split: 4<br><b>Objective Value: 56.51018806842909</b>",
          "Trial #9<br>n_estimators: 832<br>max_depth: 47<br>min_samples_leaf: 5<br>min_samples_split: 17<br><b>Objective Value: 55.91502805773945</b>",
          "Trial #10<br>n_estimators: 591<br>max_depth: 78<br>min_samples_leaf: 20<br>min_samples_split: 18<br><b>Objective Value: 56.669585651385866</b>",
          "Trial #11<br>n_estimators: 182<br>max_depth: 25<br>min_samples_leaf: 16<br>min_samples_split: 13<br><b>Objective Value: 56.30894986092689</b>",
          "Trial #12<br>n_estimators: 486<br>max_depth: 96<br>min_samples_leaf: 28<br>min_samples_split: 16<br><b>Objective Value: 57.77390441646147</b>",
          "Trial #13<br>n_estimators: 822<br>max_depth: 83<br>min_samples_leaf: 7<br>min_samples_split: 4<br><b>Objective Value: 55.84809713814154</b>",
          "Trial #14<br>n_estimators: 468<br>max_depth: 88<br>min_samples_leaf: 5<br>min_samples_split: 8<br><b>Objective Value: 56.159127437743415</b>",
          "Trial #15<br>n_estimators: 919<br>max_depth: 13<br>min_samples_leaf: 28<br>min_samples_split: 8<br><b>Objective Value: 57.73099576827157</b>",
          "Trial #16<br>n_estimators: 618<br>max_depth: 96<br>min_samples_leaf: 8<br>min_samples_split: 15<br><b>Objective Value: 55.83270189591717</b>",
          "Trial #17<br>n_estimators: 973<br>max_depth: 24<br>min_samples_leaf: 6<br>min_samples_split: 21<br><b>Objective Value: 56.033495409752355</b>",
          "Trial #18<br>n_estimators: 846<br>max_depth: 46<br>min_samples_leaf: 4<br>min_samples_split: 20<br><b>Objective Value: 55.973849111048935</b>",
          "Trial #19<br>n_estimators: 88<br>max_depth: 6<br>min_samples_leaf: 11<br>min_samples_split: 28<br><b>Objective Value: 55.951702863267904</b>"
         ],
         "marker": {
          "color": [
           "rgb(232.0, 83.0, 55.0)",
           "rgb(231.0, 246.0, 236.0)",
           "rgb(254.0, 231.0, 154.0)",
           "rgb(250.0, 150.0, 86.0)",
           "rgb(49.0, 54.0, 149.0)",
           "rgb(247.0, 252.0, 206.0)",
           "rgb(207.0, 235.0, 243.0)",
           "rgb(217.0, 51.0, 40.0)",
           "rgb(253.0, 182.0, 104.0)",
           "rgb(96.0, 149.0, 197.0)",
           "rgb(245.0, 116.0, 70.0)",
           "rgb(254.0, 208.0, 129.0)",
           "rgb(165.0, 0.0, 38.0)",
           "rgb(71.0, 120.0, 182.0)",
           "rgb(255.0, 247.0, 179.0)",
           "rgb(191.0, 25.0, 39.0)",
           "rgb(60.0, 87.0, 165.0)",
           "rgb(179.0, 221.0, 235.0)",
           "rgb(151.0, 201.0, 224.0)",
           "rgb(122.0, 178.0, 212.0)"
          ],
          "line": {
           "color": "Grey",
           "width": 0.5
          }
         },
         "mode": "markers",
         "showlegend": false,
         "type": "scatter",
         "x": [
          95,
          69,
          42,
          31,
          7,
          63,
          15,
          43,
          60,
          47,
          78,
          25,
          96,
          83,
          88,
          13,
          96,
          24,
          46,
          6
         ],
         "xaxis": "x10",
         "y": [
          23,
          6,
          1,
          18,
          9,
          4,
          13,
          25,
          4,
          5,
          20,
          16,
          28,
          7,
          5,
          28,
          8,
          6,
          4,
          11
         ],
         "yaxis": "y10"
        },
        {
         "hovertemplate": "%{hovertext}<extra></extra>",
         "hovertext": [
          "Trial #0<br>n_estimators: 520<br>max_depth: 95<br>min_samples_leaf: 23<br>min_samples_split: 10<br><b>Objective Value: 57.13817060849559</b>",
          "Trial #1<br>n_estimators: 225<br>max_depth: 69<br>min_samples_leaf: 6<br>min_samples_split: 13<br><b>Objective Value: 56.099419192521694</b>",
          "Trial #2<br>n_estimators: 620<br>max_depth: 42<br>min_samples_leaf: 1<br>min_samples_split: 27<br><b>Objective Value: 56.20191806882586</b>",
          "Trial #3<br>n_estimators: 886<br>max_depth: 31<br>min_samples_leaf: 18<br>min_samples_split: 30<br><b>Objective Value: 56.63243037343328</b>",
          "Trial #4<br>n_estimators: 846<br>max_depth: 7<br>min_samples_leaf: 9<br>min_samples_split: 10<br><b>Objective Value: 55.748657670083404</b>",
          "Trial #5<br>n_estimators: 824<br>max_depth: 63<br>min_samples_leaf: 4<br>min_samples_split: 2<br><b>Objective Value: 56.12924583020698</b>",
          "Trial #6<br>n_estimators: 943<br>max_depth: 15<br>min_samples_leaf: 13<br>min_samples_split: 12<br><b>Objective Value: 56.04497795238963</b>",
          "Trial #7<br>n_estimators: 871<br>max_depth: 43<br>min_samples_leaf: 25<br>min_samples_split: 22<br><b>Objective Value: 57.374293748298854</b>",
          "Trial #8<br>n_estimators: 123<br>max_depth: 60<br>min_samples_leaf: 4<br>min_samples_split: 4<br><b>Objective Value: 56.51018806842909</b>",
          "Trial #9<br>n_estimators: 832<br>max_depth: 47<br>min_samples_leaf: 5<br>min_samples_split: 17<br><b>Objective Value: 55.91502805773945</b>",
          "Trial #10<br>n_estimators: 591<br>max_depth: 78<br>min_samples_leaf: 20<br>min_samples_split: 18<br><b>Objective Value: 56.669585651385866</b>",
          "Trial #11<br>n_estimators: 182<br>max_depth: 25<br>min_samples_leaf: 16<br>min_samples_split: 13<br><b>Objective Value: 56.30894986092689</b>",
          "Trial #12<br>n_estimators: 486<br>max_depth: 96<br>min_samples_leaf: 28<br>min_samples_split: 16<br><b>Objective Value: 57.77390441646147</b>",
          "Trial #13<br>n_estimators: 822<br>max_depth: 83<br>min_samples_leaf: 7<br>min_samples_split: 4<br><b>Objective Value: 55.84809713814154</b>",
          "Trial #14<br>n_estimators: 468<br>max_depth: 88<br>min_samples_leaf: 5<br>min_samples_split: 8<br><b>Objective Value: 56.159127437743415</b>",
          "Trial #15<br>n_estimators: 919<br>max_depth: 13<br>min_samples_leaf: 28<br>min_samples_split: 8<br><b>Objective Value: 57.73099576827157</b>",
          "Trial #16<br>n_estimators: 618<br>max_depth: 96<br>min_samples_leaf: 8<br>min_samples_split: 15<br><b>Objective Value: 55.83270189591717</b>",
          "Trial #17<br>n_estimators: 973<br>max_depth: 24<br>min_samples_leaf: 6<br>min_samples_split: 21<br><b>Objective Value: 56.033495409752355</b>",
          "Trial #18<br>n_estimators: 846<br>max_depth: 46<br>min_samples_leaf: 4<br>min_samples_split: 20<br><b>Objective Value: 55.973849111048935</b>",
          "Trial #19<br>n_estimators: 88<br>max_depth: 6<br>min_samples_leaf: 11<br>min_samples_split: 28<br><b>Objective Value: 55.951702863267904</b>"
         ],
         "marker": {
          "color": [
           "rgb(232.0, 83.0, 55.0)",
           "rgb(231.0, 246.0, 236.0)",
           "rgb(254.0, 231.0, 154.0)",
           "rgb(250.0, 150.0, 86.0)",
           "rgb(49.0, 54.0, 149.0)",
           "rgb(247.0, 252.0, 206.0)",
           "rgb(207.0, 235.0, 243.0)",
           "rgb(217.0, 51.0, 40.0)",
           "rgb(253.0, 182.0, 104.0)",
           "rgb(96.0, 149.0, 197.0)",
           "rgb(245.0, 116.0, 70.0)",
           "rgb(254.0, 208.0, 129.0)",
           "rgb(165.0, 0.0, 38.0)",
           "rgb(71.0, 120.0, 182.0)",
           "rgb(255.0, 247.0, 179.0)",
           "rgb(191.0, 25.0, 39.0)",
           "rgb(60.0, 87.0, 165.0)",
           "rgb(179.0, 221.0, 235.0)",
           "rgb(151.0, 201.0, 224.0)",
           "rgb(122.0, 178.0, 212.0)"
          ],
          "line": {
           "color": "Grey",
           "width": 0.5
          }
         },
         "mode": "markers",
         "showlegend": false,
         "type": "scatter",
         "x": [
          95,
          69,
          42,
          31,
          7,
          63,
          15,
          43,
          60,
          47,
          78,
          25,
          96,
          83,
          88,
          13,
          96,
          24,
          46,
          6
         ],
         "xaxis": "x14",
         "y": [
          10,
          13,
          27,
          30,
          10,
          2,
          12,
          22,
          4,
          17,
          18,
          13,
          16,
          4,
          8,
          8,
          15,
          21,
          20,
          28
         ],
         "yaxis": "y14"
        },
        {
         "hovertemplate": "%{hovertext}<extra></extra>",
         "hovertext": [
          "Trial #0<br>n_estimators: 520<br>max_depth: 95<br>min_samples_leaf: 23<br>min_samples_split: 10<br><b>Objective Value: 57.13817060849559</b>",
          "Trial #1<br>n_estimators: 225<br>max_depth: 69<br>min_samples_leaf: 6<br>min_samples_split: 13<br><b>Objective Value: 56.099419192521694</b>",
          "Trial #2<br>n_estimators: 620<br>max_depth: 42<br>min_samples_leaf: 1<br>min_samples_split: 27<br><b>Objective Value: 56.20191806882586</b>",
          "Trial #3<br>n_estimators: 886<br>max_depth: 31<br>min_samples_leaf: 18<br>min_samples_split: 30<br><b>Objective Value: 56.63243037343328</b>",
          "Trial #4<br>n_estimators: 846<br>max_depth: 7<br>min_samples_leaf: 9<br>min_samples_split: 10<br><b>Objective Value: 55.748657670083404</b>",
          "Trial #5<br>n_estimators: 824<br>max_depth: 63<br>min_samples_leaf: 4<br>min_samples_split: 2<br><b>Objective Value: 56.12924583020698</b>",
          "Trial #6<br>n_estimators: 943<br>max_depth: 15<br>min_samples_leaf: 13<br>min_samples_split: 12<br><b>Objective Value: 56.04497795238963</b>",
          "Trial #7<br>n_estimators: 871<br>max_depth: 43<br>min_samples_leaf: 25<br>min_samples_split: 22<br><b>Objective Value: 57.374293748298854</b>",
          "Trial #8<br>n_estimators: 123<br>max_depth: 60<br>min_samples_leaf: 4<br>min_samples_split: 4<br><b>Objective Value: 56.51018806842909</b>",
          "Trial #9<br>n_estimators: 832<br>max_depth: 47<br>min_samples_leaf: 5<br>min_samples_split: 17<br><b>Objective Value: 55.91502805773945</b>",
          "Trial #10<br>n_estimators: 591<br>max_depth: 78<br>min_samples_leaf: 20<br>min_samples_split: 18<br><b>Objective Value: 56.669585651385866</b>",
          "Trial #11<br>n_estimators: 182<br>max_depth: 25<br>min_samples_leaf: 16<br>min_samples_split: 13<br><b>Objective Value: 56.30894986092689</b>",
          "Trial #12<br>n_estimators: 486<br>max_depth: 96<br>min_samples_leaf: 28<br>min_samples_split: 16<br><b>Objective Value: 57.77390441646147</b>",
          "Trial #13<br>n_estimators: 822<br>max_depth: 83<br>min_samples_leaf: 7<br>min_samples_split: 4<br><b>Objective Value: 55.84809713814154</b>",
          "Trial #14<br>n_estimators: 468<br>max_depth: 88<br>min_samples_leaf: 5<br>min_samples_split: 8<br><b>Objective Value: 56.159127437743415</b>",
          "Trial #15<br>n_estimators: 919<br>max_depth: 13<br>min_samples_leaf: 28<br>min_samples_split: 8<br><b>Objective Value: 57.73099576827157</b>",
          "Trial #16<br>n_estimators: 618<br>max_depth: 96<br>min_samples_leaf: 8<br>min_samples_split: 15<br><b>Objective Value: 55.83270189591717</b>",
          "Trial #17<br>n_estimators: 973<br>max_depth: 24<br>min_samples_leaf: 6<br>min_samples_split: 21<br><b>Objective Value: 56.033495409752355</b>",
          "Trial #18<br>n_estimators: 846<br>max_depth: 46<br>min_samples_leaf: 4<br>min_samples_split: 20<br><b>Objective Value: 55.973849111048935</b>",
          "Trial #19<br>n_estimators: 88<br>max_depth: 6<br>min_samples_leaf: 11<br>min_samples_split: 28<br><b>Objective Value: 55.951702863267904</b>"
         ],
         "marker": {
          "color": [
           "rgb(232.0, 83.0, 55.0)",
           "rgb(231.0, 246.0, 236.0)",
           "rgb(254.0, 231.0, 154.0)",
           "rgb(250.0, 150.0, 86.0)",
           "rgb(49.0, 54.0, 149.0)",
           "rgb(247.0, 252.0, 206.0)",
           "rgb(207.0, 235.0, 243.0)",
           "rgb(217.0, 51.0, 40.0)",
           "rgb(253.0, 182.0, 104.0)",
           "rgb(96.0, 149.0, 197.0)",
           "rgb(245.0, 116.0, 70.0)",
           "rgb(254.0, 208.0, 129.0)",
           "rgb(165.0, 0.0, 38.0)",
           "rgb(71.0, 120.0, 182.0)",
           "rgb(255.0, 247.0, 179.0)",
           "rgb(191.0, 25.0, 39.0)",
           "rgb(60.0, 87.0, 165.0)",
           "rgb(179.0, 221.0, 235.0)",
           "rgb(151.0, 201.0, 224.0)",
           "rgb(122.0, 178.0, 212.0)"
          ],
          "line": {
           "color": "Grey",
           "width": 0.5
          }
         },
         "mode": "markers",
         "showlegend": false,
         "type": "scatter",
         "x": [
          23,
          6,
          1,
          18,
          9,
          4,
          13,
          25,
          4,
          5,
          20,
          16,
          28,
          7,
          5,
          28,
          8,
          6,
          4,
          11
         ],
         "xaxis": "x3",
         "y": [
          520,
          225,
          620,
          886,
          846,
          824,
          943,
          871,
          123,
          832,
          591,
          182,
          486,
          822,
          468,
          919,
          618,
          973,
          846,
          88
         ],
         "yaxis": "y3"
        },
        {
         "hovertemplate": "%{hovertext}<extra></extra>",
         "hovertext": [
          "Trial #0<br>n_estimators: 520<br>max_depth: 95<br>min_samples_leaf: 23<br>min_samples_split: 10<br><b>Objective Value: 57.13817060849559</b>",
          "Trial #1<br>n_estimators: 225<br>max_depth: 69<br>min_samples_leaf: 6<br>min_samples_split: 13<br><b>Objective Value: 56.099419192521694</b>",
          "Trial #2<br>n_estimators: 620<br>max_depth: 42<br>min_samples_leaf: 1<br>min_samples_split: 27<br><b>Objective Value: 56.20191806882586</b>",
          "Trial #3<br>n_estimators: 886<br>max_depth: 31<br>min_samples_leaf: 18<br>min_samples_split: 30<br><b>Objective Value: 56.63243037343328</b>",
          "Trial #4<br>n_estimators: 846<br>max_depth: 7<br>min_samples_leaf: 9<br>min_samples_split: 10<br><b>Objective Value: 55.748657670083404</b>",
          "Trial #5<br>n_estimators: 824<br>max_depth: 63<br>min_samples_leaf: 4<br>min_samples_split: 2<br><b>Objective Value: 56.12924583020698</b>",
          "Trial #6<br>n_estimators: 943<br>max_depth: 15<br>min_samples_leaf: 13<br>min_samples_split: 12<br><b>Objective Value: 56.04497795238963</b>",
          "Trial #7<br>n_estimators: 871<br>max_depth: 43<br>min_samples_leaf: 25<br>min_samples_split: 22<br><b>Objective Value: 57.374293748298854</b>",
          "Trial #8<br>n_estimators: 123<br>max_depth: 60<br>min_samples_leaf: 4<br>min_samples_split: 4<br><b>Objective Value: 56.51018806842909</b>",
          "Trial #9<br>n_estimators: 832<br>max_depth: 47<br>min_samples_leaf: 5<br>min_samples_split: 17<br><b>Objective Value: 55.91502805773945</b>",
          "Trial #10<br>n_estimators: 591<br>max_depth: 78<br>min_samples_leaf: 20<br>min_samples_split: 18<br><b>Objective Value: 56.669585651385866</b>",
          "Trial #11<br>n_estimators: 182<br>max_depth: 25<br>min_samples_leaf: 16<br>min_samples_split: 13<br><b>Objective Value: 56.30894986092689</b>",
          "Trial #12<br>n_estimators: 486<br>max_depth: 96<br>min_samples_leaf: 28<br>min_samples_split: 16<br><b>Objective Value: 57.77390441646147</b>",
          "Trial #13<br>n_estimators: 822<br>max_depth: 83<br>min_samples_leaf: 7<br>min_samples_split: 4<br><b>Objective Value: 55.84809713814154</b>",
          "Trial #14<br>n_estimators: 468<br>max_depth: 88<br>min_samples_leaf: 5<br>min_samples_split: 8<br><b>Objective Value: 56.159127437743415</b>",
          "Trial #15<br>n_estimators: 919<br>max_depth: 13<br>min_samples_leaf: 28<br>min_samples_split: 8<br><b>Objective Value: 57.73099576827157</b>",
          "Trial #16<br>n_estimators: 618<br>max_depth: 96<br>min_samples_leaf: 8<br>min_samples_split: 15<br><b>Objective Value: 55.83270189591717</b>",
          "Trial #17<br>n_estimators: 973<br>max_depth: 24<br>min_samples_leaf: 6<br>min_samples_split: 21<br><b>Objective Value: 56.033495409752355</b>",
          "Trial #18<br>n_estimators: 846<br>max_depth: 46<br>min_samples_leaf: 4<br>min_samples_split: 20<br><b>Objective Value: 55.973849111048935</b>",
          "Trial #19<br>n_estimators: 88<br>max_depth: 6<br>min_samples_leaf: 11<br>min_samples_split: 28<br><b>Objective Value: 55.951702863267904</b>"
         ],
         "marker": {
          "color": [
           "rgb(232.0, 83.0, 55.0)",
           "rgb(231.0, 246.0, 236.0)",
           "rgb(254.0, 231.0, 154.0)",
           "rgb(250.0, 150.0, 86.0)",
           "rgb(49.0, 54.0, 149.0)",
           "rgb(247.0, 252.0, 206.0)",
           "rgb(207.0, 235.0, 243.0)",
           "rgb(217.0, 51.0, 40.0)",
           "rgb(253.0, 182.0, 104.0)",
           "rgb(96.0, 149.0, 197.0)",
           "rgb(245.0, 116.0, 70.0)",
           "rgb(254.0, 208.0, 129.0)",
           "rgb(165.0, 0.0, 38.0)",
           "rgb(71.0, 120.0, 182.0)",
           "rgb(255.0, 247.0, 179.0)",
           "rgb(191.0, 25.0, 39.0)",
           "rgb(60.0, 87.0, 165.0)",
           "rgb(179.0, 221.0, 235.0)",
           "rgb(151.0, 201.0, 224.0)",
           "rgb(122.0, 178.0, 212.0)"
          ],
          "line": {
           "color": "Grey",
           "width": 0.5
          }
         },
         "mode": "markers",
         "showlegend": false,
         "type": "scatter",
         "x": [
          23,
          6,
          1,
          18,
          9,
          4,
          13,
          25,
          4,
          5,
          20,
          16,
          28,
          7,
          5,
          28,
          8,
          6,
          4,
          11
         ],
         "xaxis": "x7",
         "y": [
          95,
          69,
          42,
          31,
          7,
          63,
          15,
          43,
          60,
          47,
          78,
          25,
          96,
          83,
          88,
          13,
          96,
          24,
          46,
          6
         ],
         "yaxis": "y7"
        },
        {
         "hovertemplate": "%{hovertext}<extra></extra>",
         "hovertext": [
          "Trial #0<br>n_estimators: 520<br>max_depth: 95<br>min_samples_leaf: 23<br>min_samples_split: 10<br><b>Objective Value: 57.13817060849559</b>",
          "Trial #1<br>n_estimators: 225<br>max_depth: 69<br>min_samples_leaf: 6<br>min_samples_split: 13<br><b>Objective Value: 56.099419192521694</b>",
          "Trial #2<br>n_estimators: 620<br>max_depth: 42<br>min_samples_leaf: 1<br>min_samples_split: 27<br><b>Objective Value: 56.20191806882586</b>",
          "Trial #3<br>n_estimators: 886<br>max_depth: 31<br>min_samples_leaf: 18<br>min_samples_split: 30<br><b>Objective Value: 56.63243037343328</b>",
          "Trial #4<br>n_estimators: 846<br>max_depth: 7<br>min_samples_leaf: 9<br>min_samples_split: 10<br><b>Objective Value: 55.748657670083404</b>",
          "Trial #5<br>n_estimators: 824<br>max_depth: 63<br>min_samples_leaf: 4<br>min_samples_split: 2<br><b>Objective Value: 56.12924583020698</b>",
          "Trial #6<br>n_estimators: 943<br>max_depth: 15<br>min_samples_leaf: 13<br>min_samples_split: 12<br><b>Objective Value: 56.04497795238963</b>",
          "Trial #7<br>n_estimators: 871<br>max_depth: 43<br>min_samples_leaf: 25<br>min_samples_split: 22<br><b>Objective Value: 57.374293748298854</b>",
          "Trial #8<br>n_estimators: 123<br>max_depth: 60<br>min_samples_leaf: 4<br>min_samples_split: 4<br><b>Objective Value: 56.51018806842909</b>",
          "Trial #9<br>n_estimators: 832<br>max_depth: 47<br>min_samples_leaf: 5<br>min_samples_split: 17<br><b>Objective Value: 55.91502805773945</b>",
          "Trial #10<br>n_estimators: 591<br>max_depth: 78<br>min_samples_leaf: 20<br>min_samples_split: 18<br><b>Objective Value: 56.669585651385866</b>",
          "Trial #11<br>n_estimators: 182<br>max_depth: 25<br>min_samples_leaf: 16<br>min_samples_split: 13<br><b>Objective Value: 56.30894986092689</b>",
          "Trial #12<br>n_estimators: 486<br>max_depth: 96<br>min_samples_leaf: 28<br>min_samples_split: 16<br><b>Objective Value: 57.77390441646147</b>",
          "Trial #13<br>n_estimators: 822<br>max_depth: 83<br>min_samples_leaf: 7<br>min_samples_split: 4<br><b>Objective Value: 55.84809713814154</b>",
          "Trial #14<br>n_estimators: 468<br>max_depth: 88<br>min_samples_leaf: 5<br>min_samples_split: 8<br><b>Objective Value: 56.159127437743415</b>",
          "Trial #15<br>n_estimators: 919<br>max_depth: 13<br>min_samples_leaf: 28<br>min_samples_split: 8<br><b>Objective Value: 57.73099576827157</b>",
          "Trial #16<br>n_estimators: 618<br>max_depth: 96<br>min_samples_leaf: 8<br>min_samples_split: 15<br><b>Objective Value: 55.83270189591717</b>",
          "Trial #17<br>n_estimators: 973<br>max_depth: 24<br>min_samples_leaf: 6<br>min_samples_split: 21<br><b>Objective Value: 56.033495409752355</b>",
          "Trial #18<br>n_estimators: 846<br>max_depth: 46<br>min_samples_leaf: 4<br>min_samples_split: 20<br><b>Objective Value: 55.973849111048935</b>",
          "Trial #19<br>n_estimators: 88<br>max_depth: 6<br>min_samples_leaf: 11<br>min_samples_split: 28<br><b>Objective Value: 55.951702863267904</b>"
         ],
         "marker": {
          "color": [
           "rgb(232.0, 83.0, 55.0)",
           "rgb(231.0, 246.0, 236.0)",
           "rgb(254.0, 231.0, 154.0)",
           "rgb(250.0, 150.0, 86.0)",
           "rgb(49.0, 54.0, 149.0)",
           "rgb(247.0, 252.0, 206.0)",
           "rgb(207.0, 235.0, 243.0)",
           "rgb(217.0, 51.0, 40.0)",
           "rgb(253.0, 182.0, 104.0)",
           "rgb(96.0, 149.0, 197.0)",
           "rgb(245.0, 116.0, 70.0)",
           "rgb(254.0, 208.0, 129.0)",
           "rgb(165.0, 0.0, 38.0)",
           "rgb(71.0, 120.0, 182.0)",
           "rgb(255.0, 247.0, 179.0)",
           "rgb(191.0, 25.0, 39.0)",
           "rgb(60.0, 87.0, 165.0)",
           "rgb(179.0, 221.0, 235.0)",
           "rgb(151.0, 201.0, 224.0)",
           "rgb(122.0, 178.0, 212.0)"
          ],
          "line": {
           "color": "Grey",
           "width": 0.5
          }
         },
         "mode": "markers",
         "showlegend": false,
         "type": "scatter",
         "x": [
          23,
          6,
          1,
          18,
          9,
          4,
          13,
          25,
          4,
          5,
          20,
          16,
          28,
          7,
          5,
          28,
          8,
          6,
          4,
          11
         ],
         "xaxis": "x11",
         "y": [
          23,
          6,
          1,
          18,
          9,
          4,
          13,
          25,
          4,
          5,
          20,
          16,
          28,
          7,
          5,
          28,
          8,
          6,
          4,
          11
         ],
         "yaxis": "y11"
        },
        {
         "hovertemplate": "%{hovertext}<extra></extra>",
         "hovertext": [
          "Trial #0<br>n_estimators: 520<br>max_depth: 95<br>min_samples_leaf: 23<br>min_samples_split: 10<br><b>Objective Value: 57.13817060849559</b>",
          "Trial #1<br>n_estimators: 225<br>max_depth: 69<br>min_samples_leaf: 6<br>min_samples_split: 13<br><b>Objective Value: 56.099419192521694</b>",
          "Trial #2<br>n_estimators: 620<br>max_depth: 42<br>min_samples_leaf: 1<br>min_samples_split: 27<br><b>Objective Value: 56.20191806882586</b>",
          "Trial #3<br>n_estimators: 886<br>max_depth: 31<br>min_samples_leaf: 18<br>min_samples_split: 30<br><b>Objective Value: 56.63243037343328</b>",
          "Trial #4<br>n_estimators: 846<br>max_depth: 7<br>min_samples_leaf: 9<br>min_samples_split: 10<br><b>Objective Value: 55.748657670083404</b>",
          "Trial #5<br>n_estimators: 824<br>max_depth: 63<br>min_samples_leaf: 4<br>min_samples_split: 2<br><b>Objective Value: 56.12924583020698</b>",
          "Trial #6<br>n_estimators: 943<br>max_depth: 15<br>min_samples_leaf: 13<br>min_samples_split: 12<br><b>Objective Value: 56.04497795238963</b>",
          "Trial #7<br>n_estimators: 871<br>max_depth: 43<br>min_samples_leaf: 25<br>min_samples_split: 22<br><b>Objective Value: 57.374293748298854</b>",
          "Trial #8<br>n_estimators: 123<br>max_depth: 60<br>min_samples_leaf: 4<br>min_samples_split: 4<br><b>Objective Value: 56.51018806842909</b>",
          "Trial #9<br>n_estimators: 832<br>max_depth: 47<br>min_samples_leaf: 5<br>min_samples_split: 17<br><b>Objective Value: 55.91502805773945</b>",
          "Trial #10<br>n_estimators: 591<br>max_depth: 78<br>min_samples_leaf: 20<br>min_samples_split: 18<br><b>Objective Value: 56.669585651385866</b>",
          "Trial #11<br>n_estimators: 182<br>max_depth: 25<br>min_samples_leaf: 16<br>min_samples_split: 13<br><b>Objective Value: 56.30894986092689</b>",
          "Trial #12<br>n_estimators: 486<br>max_depth: 96<br>min_samples_leaf: 28<br>min_samples_split: 16<br><b>Objective Value: 57.77390441646147</b>",
          "Trial #13<br>n_estimators: 822<br>max_depth: 83<br>min_samples_leaf: 7<br>min_samples_split: 4<br><b>Objective Value: 55.84809713814154</b>",
          "Trial #14<br>n_estimators: 468<br>max_depth: 88<br>min_samples_leaf: 5<br>min_samples_split: 8<br><b>Objective Value: 56.159127437743415</b>",
          "Trial #15<br>n_estimators: 919<br>max_depth: 13<br>min_samples_leaf: 28<br>min_samples_split: 8<br><b>Objective Value: 57.73099576827157</b>",
          "Trial #16<br>n_estimators: 618<br>max_depth: 96<br>min_samples_leaf: 8<br>min_samples_split: 15<br><b>Objective Value: 55.83270189591717</b>",
          "Trial #17<br>n_estimators: 973<br>max_depth: 24<br>min_samples_leaf: 6<br>min_samples_split: 21<br><b>Objective Value: 56.033495409752355</b>",
          "Trial #18<br>n_estimators: 846<br>max_depth: 46<br>min_samples_leaf: 4<br>min_samples_split: 20<br><b>Objective Value: 55.973849111048935</b>",
          "Trial #19<br>n_estimators: 88<br>max_depth: 6<br>min_samples_leaf: 11<br>min_samples_split: 28<br><b>Objective Value: 55.951702863267904</b>"
         ],
         "marker": {
          "color": [
           "rgb(232.0, 83.0, 55.0)",
           "rgb(231.0, 246.0, 236.0)",
           "rgb(254.0, 231.0, 154.0)",
           "rgb(250.0, 150.0, 86.0)",
           "rgb(49.0, 54.0, 149.0)",
           "rgb(247.0, 252.0, 206.0)",
           "rgb(207.0, 235.0, 243.0)",
           "rgb(217.0, 51.0, 40.0)",
           "rgb(253.0, 182.0, 104.0)",
           "rgb(96.0, 149.0, 197.0)",
           "rgb(245.0, 116.0, 70.0)",
           "rgb(254.0, 208.0, 129.0)",
           "rgb(165.0, 0.0, 38.0)",
           "rgb(71.0, 120.0, 182.0)",
           "rgb(255.0, 247.0, 179.0)",
           "rgb(191.0, 25.0, 39.0)",
           "rgb(60.0, 87.0, 165.0)",
           "rgb(179.0, 221.0, 235.0)",
           "rgb(151.0, 201.0, 224.0)",
           "rgb(122.0, 178.0, 212.0)"
          ],
          "line": {
           "color": "Grey",
           "width": 0.5
          }
         },
         "mode": "markers",
         "showlegend": false,
         "type": "scatter",
         "x": [
          23,
          6,
          1,
          18,
          9,
          4,
          13,
          25,
          4,
          5,
          20,
          16,
          28,
          7,
          5,
          28,
          8,
          6,
          4,
          11
         ],
         "xaxis": "x15",
         "y": [
          10,
          13,
          27,
          30,
          10,
          2,
          12,
          22,
          4,
          17,
          18,
          13,
          16,
          4,
          8,
          8,
          15,
          21,
          20,
          28
         ],
         "yaxis": "y15"
        },
        {
         "hovertemplate": "%{hovertext}<extra></extra>",
         "hovertext": [
          "Trial #0<br>n_estimators: 520<br>max_depth: 95<br>min_samples_leaf: 23<br>min_samples_split: 10<br><b>Objective Value: 57.13817060849559</b>",
          "Trial #1<br>n_estimators: 225<br>max_depth: 69<br>min_samples_leaf: 6<br>min_samples_split: 13<br><b>Objective Value: 56.099419192521694</b>",
          "Trial #2<br>n_estimators: 620<br>max_depth: 42<br>min_samples_leaf: 1<br>min_samples_split: 27<br><b>Objective Value: 56.20191806882586</b>",
          "Trial #3<br>n_estimators: 886<br>max_depth: 31<br>min_samples_leaf: 18<br>min_samples_split: 30<br><b>Objective Value: 56.63243037343328</b>",
          "Trial #4<br>n_estimators: 846<br>max_depth: 7<br>min_samples_leaf: 9<br>min_samples_split: 10<br><b>Objective Value: 55.748657670083404</b>",
          "Trial #5<br>n_estimators: 824<br>max_depth: 63<br>min_samples_leaf: 4<br>min_samples_split: 2<br><b>Objective Value: 56.12924583020698</b>",
          "Trial #6<br>n_estimators: 943<br>max_depth: 15<br>min_samples_leaf: 13<br>min_samples_split: 12<br><b>Objective Value: 56.04497795238963</b>",
          "Trial #7<br>n_estimators: 871<br>max_depth: 43<br>min_samples_leaf: 25<br>min_samples_split: 22<br><b>Objective Value: 57.374293748298854</b>",
          "Trial #8<br>n_estimators: 123<br>max_depth: 60<br>min_samples_leaf: 4<br>min_samples_split: 4<br><b>Objective Value: 56.51018806842909</b>",
          "Trial #9<br>n_estimators: 832<br>max_depth: 47<br>min_samples_leaf: 5<br>min_samples_split: 17<br><b>Objective Value: 55.91502805773945</b>",
          "Trial #10<br>n_estimators: 591<br>max_depth: 78<br>min_samples_leaf: 20<br>min_samples_split: 18<br><b>Objective Value: 56.669585651385866</b>",
          "Trial #11<br>n_estimators: 182<br>max_depth: 25<br>min_samples_leaf: 16<br>min_samples_split: 13<br><b>Objective Value: 56.30894986092689</b>",
          "Trial #12<br>n_estimators: 486<br>max_depth: 96<br>min_samples_leaf: 28<br>min_samples_split: 16<br><b>Objective Value: 57.77390441646147</b>",
          "Trial #13<br>n_estimators: 822<br>max_depth: 83<br>min_samples_leaf: 7<br>min_samples_split: 4<br><b>Objective Value: 55.84809713814154</b>",
          "Trial #14<br>n_estimators: 468<br>max_depth: 88<br>min_samples_leaf: 5<br>min_samples_split: 8<br><b>Objective Value: 56.159127437743415</b>",
          "Trial #15<br>n_estimators: 919<br>max_depth: 13<br>min_samples_leaf: 28<br>min_samples_split: 8<br><b>Objective Value: 57.73099576827157</b>",
          "Trial #16<br>n_estimators: 618<br>max_depth: 96<br>min_samples_leaf: 8<br>min_samples_split: 15<br><b>Objective Value: 55.83270189591717</b>",
          "Trial #17<br>n_estimators: 973<br>max_depth: 24<br>min_samples_leaf: 6<br>min_samples_split: 21<br><b>Objective Value: 56.033495409752355</b>",
          "Trial #18<br>n_estimators: 846<br>max_depth: 46<br>min_samples_leaf: 4<br>min_samples_split: 20<br><b>Objective Value: 55.973849111048935</b>",
          "Trial #19<br>n_estimators: 88<br>max_depth: 6<br>min_samples_leaf: 11<br>min_samples_split: 28<br><b>Objective Value: 55.951702863267904</b>"
         ],
         "marker": {
          "color": [
           "rgb(232.0, 83.0, 55.0)",
           "rgb(231.0, 246.0, 236.0)",
           "rgb(254.0, 231.0, 154.0)",
           "rgb(250.0, 150.0, 86.0)",
           "rgb(49.0, 54.0, 149.0)",
           "rgb(247.0, 252.0, 206.0)",
           "rgb(207.0, 235.0, 243.0)",
           "rgb(217.0, 51.0, 40.0)",
           "rgb(253.0, 182.0, 104.0)",
           "rgb(96.0, 149.0, 197.0)",
           "rgb(245.0, 116.0, 70.0)",
           "rgb(254.0, 208.0, 129.0)",
           "rgb(165.0, 0.0, 38.0)",
           "rgb(71.0, 120.0, 182.0)",
           "rgb(255.0, 247.0, 179.0)",
           "rgb(191.0, 25.0, 39.0)",
           "rgb(60.0, 87.0, 165.0)",
           "rgb(179.0, 221.0, 235.0)",
           "rgb(151.0, 201.0, 224.0)",
           "rgb(122.0, 178.0, 212.0)"
          ],
          "line": {
           "color": "Grey",
           "width": 0.5
          }
         },
         "mode": "markers",
         "showlegend": false,
         "type": "scatter",
         "x": [
          10,
          13,
          27,
          30,
          10,
          2,
          12,
          22,
          4,
          17,
          18,
          13,
          16,
          4,
          8,
          8,
          15,
          21,
          20,
          28
         ],
         "xaxis": "x4",
         "y": [
          520,
          225,
          620,
          886,
          846,
          824,
          943,
          871,
          123,
          832,
          591,
          182,
          486,
          822,
          468,
          919,
          618,
          973,
          846,
          88
         ],
         "yaxis": "y4"
        },
        {
         "hovertemplate": "%{hovertext}<extra></extra>",
         "hovertext": [
          "Trial #0<br>n_estimators: 520<br>max_depth: 95<br>min_samples_leaf: 23<br>min_samples_split: 10<br><b>Objective Value: 57.13817060849559</b>",
          "Trial #1<br>n_estimators: 225<br>max_depth: 69<br>min_samples_leaf: 6<br>min_samples_split: 13<br><b>Objective Value: 56.099419192521694</b>",
          "Trial #2<br>n_estimators: 620<br>max_depth: 42<br>min_samples_leaf: 1<br>min_samples_split: 27<br><b>Objective Value: 56.20191806882586</b>",
          "Trial #3<br>n_estimators: 886<br>max_depth: 31<br>min_samples_leaf: 18<br>min_samples_split: 30<br><b>Objective Value: 56.63243037343328</b>",
          "Trial #4<br>n_estimators: 846<br>max_depth: 7<br>min_samples_leaf: 9<br>min_samples_split: 10<br><b>Objective Value: 55.748657670083404</b>",
          "Trial #5<br>n_estimators: 824<br>max_depth: 63<br>min_samples_leaf: 4<br>min_samples_split: 2<br><b>Objective Value: 56.12924583020698</b>",
          "Trial #6<br>n_estimators: 943<br>max_depth: 15<br>min_samples_leaf: 13<br>min_samples_split: 12<br><b>Objective Value: 56.04497795238963</b>",
          "Trial #7<br>n_estimators: 871<br>max_depth: 43<br>min_samples_leaf: 25<br>min_samples_split: 22<br><b>Objective Value: 57.374293748298854</b>",
          "Trial #8<br>n_estimators: 123<br>max_depth: 60<br>min_samples_leaf: 4<br>min_samples_split: 4<br><b>Objective Value: 56.51018806842909</b>",
          "Trial #9<br>n_estimators: 832<br>max_depth: 47<br>min_samples_leaf: 5<br>min_samples_split: 17<br><b>Objective Value: 55.91502805773945</b>",
          "Trial #10<br>n_estimators: 591<br>max_depth: 78<br>min_samples_leaf: 20<br>min_samples_split: 18<br><b>Objective Value: 56.669585651385866</b>",
          "Trial #11<br>n_estimators: 182<br>max_depth: 25<br>min_samples_leaf: 16<br>min_samples_split: 13<br><b>Objective Value: 56.30894986092689</b>",
          "Trial #12<br>n_estimators: 486<br>max_depth: 96<br>min_samples_leaf: 28<br>min_samples_split: 16<br><b>Objective Value: 57.77390441646147</b>",
          "Trial #13<br>n_estimators: 822<br>max_depth: 83<br>min_samples_leaf: 7<br>min_samples_split: 4<br><b>Objective Value: 55.84809713814154</b>",
          "Trial #14<br>n_estimators: 468<br>max_depth: 88<br>min_samples_leaf: 5<br>min_samples_split: 8<br><b>Objective Value: 56.159127437743415</b>",
          "Trial #15<br>n_estimators: 919<br>max_depth: 13<br>min_samples_leaf: 28<br>min_samples_split: 8<br><b>Objective Value: 57.73099576827157</b>",
          "Trial #16<br>n_estimators: 618<br>max_depth: 96<br>min_samples_leaf: 8<br>min_samples_split: 15<br><b>Objective Value: 55.83270189591717</b>",
          "Trial #17<br>n_estimators: 973<br>max_depth: 24<br>min_samples_leaf: 6<br>min_samples_split: 21<br><b>Objective Value: 56.033495409752355</b>",
          "Trial #18<br>n_estimators: 846<br>max_depth: 46<br>min_samples_leaf: 4<br>min_samples_split: 20<br><b>Objective Value: 55.973849111048935</b>",
          "Trial #19<br>n_estimators: 88<br>max_depth: 6<br>min_samples_leaf: 11<br>min_samples_split: 28<br><b>Objective Value: 55.951702863267904</b>"
         ],
         "marker": {
          "color": [
           "rgb(232.0, 83.0, 55.0)",
           "rgb(231.0, 246.0, 236.0)",
           "rgb(254.0, 231.0, 154.0)",
           "rgb(250.0, 150.0, 86.0)",
           "rgb(49.0, 54.0, 149.0)",
           "rgb(247.0, 252.0, 206.0)",
           "rgb(207.0, 235.0, 243.0)",
           "rgb(217.0, 51.0, 40.0)",
           "rgb(253.0, 182.0, 104.0)",
           "rgb(96.0, 149.0, 197.0)",
           "rgb(245.0, 116.0, 70.0)",
           "rgb(254.0, 208.0, 129.0)",
           "rgb(165.0, 0.0, 38.0)",
           "rgb(71.0, 120.0, 182.0)",
           "rgb(255.0, 247.0, 179.0)",
           "rgb(191.0, 25.0, 39.0)",
           "rgb(60.0, 87.0, 165.0)",
           "rgb(179.0, 221.0, 235.0)",
           "rgb(151.0, 201.0, 224.0)",
           "rgb(122.0, 178.0, 212.0)"
          ],
          "line": {
           "color": "Grey",
           "width": 0.5
          }
         },
         "mode": "markers",
         "showlegend": false,
         "type": "scatter",
         "x": [
          10,
          13,
          27,
          30,
          10,
          2,
          12,
          22,
          4,
          17,
          18,
          13,
          16,
          4,
          8,
          8,
          15,
          21,
          20,
          28
         ],
         "xaxis": "x8",
         "y": [
          95,
          69,
          42,
          31,
          7,
          63,
          15,
          43,
          60,
          47,
          78,
          25,
          96,
          83,
          88,
          13,
          96,
          24,
          46,
          6
         ],
         "yaxis": "y8"
        },
        {
         "hovertemplate": "%{hovertext}<extra></extra>",
         "hovertext": [
          "Trial #0<br>n_estimators: 520<br>max_depth: 95<br>min_samples_leaf: 23<br>min_samples_split: 10<br><b>Objective Value: 57.13817060849559</b>",
          "Trial #1<br>n_estimators: 225<br>max_depth: 69<br>min_samples_leaf: 6<br>min_samples_split: 13<br><b>Objective Value: 56.099419192521694</b>",
          "Trial #2<br>n_estimators: 620<br>max_depth: 42<br>min_samples_leaf: 1<br>min_samples_split: 27<br><b>Objective Value: 56.20191806882586</b>",
          "Trial #3<br>n_estimators: 886<br>max_depth: 31<br>min_samples_leaf: 18<br>min_samples_split: 30<br><b>Objective Value: 56.63243037343328</b>",
          "Trial #4<br>n_estimators: 846<br>max_depth: 7<br>min_samples_leaf: 9<br>min_samples_split: 10<br><b>Objective Value: 55.748657670083404</b>",
          "Trial #5<br>n_estimators: 824<br>max_depth: 63<br>min_samples_leaf: 4<br>min_samples_split: 2<br><b>Objective Value: 56.12924583020698</b>",
          "Trial #6<br>n_estimators: 943<br>max_depth: 15<br>min_samples_leaf: 13<br>min_samples_split: 12<br><b>Objective Value: 56.04497795238963</b>",
          "Trial #7<br>n_estimators: 871<br>max_depth: 43<br>min_samples_leaf: 25<br>min_samples_split: 22<br><b>Objective Value: 57.374293748298854</b>",
          "Trial #8<br>n_estimators: 123<br>max_depth: 60<br>min_samples_leaf: 4<br>min_samples_split: 4<br><b>Objective Value: 56.51018806842909</b>",
          "Trial #9<br>n_estimators: 832<br>max_depth: 47<br>min_samples_leaf: 5<br>min_samples_split: 17<br><b>Objective Value: 55.91502805773945</b>",
          "Trial #10<br>n_estimators: 591<br>max_depth: 78<br>min_samples_leaf: 20<br>min_samples_split: 18<br><b>Objective Value: 56.669585651385866</b>",
          "Trial #11<br>n_estimators: 182<br>max_depth: 25<br>min_samples_leaf: 16<br>min_samples_split: 13<br><b>Objective Value: 56.30894986092689</b>",
          "Trial #12<br>n_estimators: 486<br>max_depth: 96<br>min_samples_leaf: 28<br>min_samples_split: 16<br><b>Objective Value: 57.77390441646147</b>",
          "Trial #13<br>n_estimators: 822<br>max_depth: 83<br>min_samples_leaf: 7<br>min_samples_split: 4<br><b>Objective Value: 55.84809713814154</b>",
          "Trial #14<br>n_estimators: 468<br>max_depth: 88<br>min_samples_leaf: 5<br>min_samples_split: 8<br><b>Objective Value: 56.159127437743415</b>",
          "Trial #15<br>n_estimators: 919<br>max_depth: 13<br>min_samples_leaf: 28<br>min_samples_split: 8<br><b>Objective Value: 57.73099576827157</b>",
          "Trial #16<br>n_estimators: 618<br>max_depth: 96<br>min_samples_leaf: 8<br>min_samples_split: 15<br><b>Objective Value: 55.83270189591717</b>",
          "Trial #17<br>n_estimators: 973<br>max_depth: 24<br>min_samples_leaf: 6<br>min_samples_split: 21<br><b>Objective Value: 56.033495409752355</b>",
          "Trial #18<br>n_estimators: 846<br>max_depth: 46<br>min_samples_leaf: 4<br>min_samples_split: 20<br><b>Objective Value: 55.973849111048935</b>",
          "Trial #19<br>n_estimators: 88<br>max_depth: 6<br>min_samples_leaf: 11<br>min_samples_split: 28<br><b>Objective Value: 55.951702863267904</b>"
         ],
         "marker": {
          "color": [
           "rgb(232.0, 83.0, 55.0)",
           "rgb(231.0, 246.0, 236.0)",
           "rgb(254.0, 231.0, 154.0)",
           "rgb(250.0, 150.0, 86.0)",
           "rgb(49.0, 54.0, 149.0)",
           "rgb(247.0, 252.0, 206.0)",
           "rgb(207.0, 235.0, 243.0)",
           "rgb(217.0, 51.0, 40.0)",
           "rgb(253.0, 182.0, 104.0)",
           "rgb(96.0, 149.0, 197.0)",
           "rgb(245.0, 116.0, 70.0)",
           "rgb(254.0, 208.0, 129.0)",
           "rgb(165.0, 0.0, 38.0)",
           "rgb(71.0, 120.0, 182.0)",
           "rgb(255.0, 247.0, 179.0)",
           "rgb(191.0, 25.0, 39.0)",
           "rgb(60.0, 87.0, 165.0)",
           "rgb(179.0, 221.0, 235.0)",
           "rgb(151.0, 201.0, 224.0)",
           "rgb(122.0, 178.0, 212.0)"
          ],
          "line": {
           "color": "Grey",
           "width": 0.5
          }
         },
         "mode": "markers",
         "showlegend": false,
         "type": "scatter",
         "x": [
          10,
          13,
          27,
          30,
          10,
          2,
          12,
          22,
          4,
          17,
          18,
          13,
          16,
          4,
          8,
          8,
          15,
          21,
          20,
          28
         ],
         "xaxis": "x12",
         "y": [
          23,
          6,
          1,
          18,
          9,
          4,
          13,
          25,
          4,
          5,
          20,
          16,
          28,
          7,
          5,
          28,
          8,
          6,
          4,
          11
         ],
         "yaxis": "y12"
        },
        {
         "hovertemplate": "%{hovertext}<extra></extra>",
         "hovertext": [
          "Trial #0<br>n_estimators: 520<br>max_depth: 95<br>min_samples_leaf: 23<br>min_samples_split: 10<br><b>Objective Value: 57.13817060849559</b>",
          "Trial #1<br>n_estimators: 225<br>max_depth: 69<br>min_samples_leaf: 6<br>min_samples_split: 13<br><b>Objective Value: 56.099419192521694</b>",
          "Trial #2<br>n_estimators: 620<br>max_depth: 42<br>min_samples_leaf: 1<br>min_samples_split: 27<br><b>Objective Value: 56.20191806882586</b>",
          "Trial #3<br>n_estimators: 886<br>max_depth: 31<br>min_samples_leaf: 18<br>min_samples_split: 30<br><b>Objective Value: 56.63243037343328</b>",
          "Trial #4<br>n_estimators: 846<br>max_depth: 7<br>min_samples_leaf: 9<br>min_samples_split: 10<br><b>Objective Value: 55.748657670083404</b>",
          "Trial #5<br>n_estimators: 824<br>max_depth: 63<br>min_samples_leaf: 4<br>min_samples_split: 2<br><b>Objective Value: 56.12924583020698</b>",
          "Trial #6<br>n_estimators: 943<br>max_depth: 15<br>min_samples_leaf: 13<br>min_samples_split: 12<br><b>Objective Value: 56.04497795238963</b>",
          "Trial #7<br>n_estimators: 871<br>max_depth: 43<br>min_samples_leaf: 25<br>min_samples_split: 22<br><b>Objective Value: 57.374293748298854</b>",
          "Trial #8<br>n_estimators: 123<br>max_depth: 60<br>min_samples_leaf: 4<br>min_samples_split: 4<br><b>Objective Value: 56.51018806842909</b>",
          "Trial #9<br>n_estimators: 832<br>max_depth: 47<br>min_samples_leaf: 5<br>min_samples_split: 17<br><b>Objective Value: 55.91502805773945</b>",
          "Trial #10<br>n_estimators: 591<br>max_depth: 78<br>min_samples_leaf: 20<br>min_samples_split: 18<br><b>Objective Value: 56.669585651385866</b>",
          "Trial #11<br>n_estimators: 182<br>max_depth: 25<br>min_samples_leaf: 16<br>min_samples_split: 13<br><b>Objective Value: 56.30894986092689</b>",
          "Trial #12<br>n_estimators: 486<br>max_depth: 96<br>min_samples_leaf: 28<br>min_samples_split: 16<br><b>Objective Value: 57.77390441646147</b>",
          "Trial #13<br>n_estimators: 822<br>max_depth: 83<br>min_samples_leaf: 7<br>min_samples_split: 4<br><b>Objective Value: 55.84809713814154</b>",
          "Trial #14<br>n_estimators: 468<br>max_depth: 88<br>min_samples_leaf: 5<br>min_samples_split: 8<br><b>Objective Value: 56.159127437743415</b>",
          "Trial #15<br>n_estimators: 919<br>max_depth: 13<br>min_samples_leaf: 28<br>min_samples_split: 8<br><b>Objective Value: 57.73099576827157</b>",
          "Trial #16<br>n_estimators: 618<br>max_depth: 96<br>min_samples_leaf: 8<br>min_samples_split: 15<br><b>Objective Value: 55.83270189591717</b>",
          "Trial #17<br>n_estimators: 973<br>max_depth: 24<br>min_samples_leaf: 6<br>min_samples_split: 21<br><b>Objective Value: 56.033495409752355</b>",
          "Trial #18<br>n_estimators: 846<br>max_depth: 46<br>min_samples_leaf: 4<br>min_samples_split: 20<br><b>Objective Value: 55.973849111048935</b>",
          "Trial #19<br>n_estimators: 88<br>max_depth: 6<br>min_samples_leaf: 11<br>min_samples_split: 28<br><b>Objective Value: 55.951702863267904</b>"
         ],
         "marker": {
          "color": [
           "rgb(232.0, 83.0, 55.0)",
           "rgb(231.0, 246.0, 236.0)",
           "rgb(254.0, 231.0, 154.0)",
           "rgb(250.0, 150.0, 86.0)",
           "rgb(49.0, 54.0, 149.0)",
           "rgb(247.0, 252.0, 206.0)",
           "rgb(207.0, 235.0, 243.0)",
           "rgb(217.0, 51.0, 40.0)",
           "rgb(253.0, 182.0, 104.0)",
           "rgb(96.0, 149.0, 197.0)",
           "rgb(245.0, 116.0, 70.0)",
           "rgb(254.0, 208.0, 129.0)",
           "rgb(165.0, 0.0, 38.0)",
           "rgb(71.0, 120.0, 182.0)",
           "rgb(255.0, 247.0, 179.0)",
           "rgb(191.0, 25.0, 39.0)",
           "rgb(60.0, 87.0, 165.0)",
           "rgb(179.0, 221.0, 235.0)",
           "rgb(151.0, 201.0, 224.0)",
           "rgb(122.0, 178.0, 212.0)"
          ],
          "line": {
           "color": "Grey",
           "width": 0.5
          }
         },
         "mode": "markers",
         "showlegend": false,
         "type": "scatter",
         "x": [
          10,
          13,
          27,
          30,
          10,
          2,
          12,
          22,
          4,
          17,
          18,
          13,
          16,
          4,
          8,
          8,
          15,
          21,
          20,
          28
         ],
         "xaxis": "x16",
         "y": [
          10,
          13,
          27,
          30,
          10,
          2,
          12,
          22,
          4,
          17,
          18,
          13,
          16,
          4,
          8,
          8,
          15,
          21,
          20,
          28
         ],
         "yaxis": "y16"
        },
        {
         "hoverinfo": "none",
         "marker": {
          "cmax": 1,
          "cmin": 0,
          "colorbar": {
           "thickness": 10,
           "ticktext": [
            "min. (55.7487)",
            "25% (55.9683)",
            "50% (56.1442)",
            "75% (56.6417)",
            "max. (57.7739)"
           ],
           "tickvals": [
            0,
            0.25,
            0.5,
            0.75,
            1
           ]
          },
          "colorscale": [
           [
            0,
            "rgb(49,54,149)"
           ],
           [
            0.1,
            "rgb(69,117,180)"
           ],
           [
            0.2,
            "rgb(116,173,209)"
           ],
           [
            0.3,
            "rgb(171,217,233)"
           ],
           [
            0.4,
            "rgb(224,243,248)"
           ],
           [
            0.5,
            "rgb(255,255,191)"
           ],
           [
            0.6,
            "rgb(254,224,144)"
           ],
           [
            0.7,
            "rgb(253,174,97)"
           ],
           [
            0.8,
            "rgb(244,109,67)"
           ],
           [
            0.9,
            "rgb(215,48,39)"
           ],
           [
            1,
            "rgb(165,0,38)"
           ]
          ],
          "showscale": true
         },
         "mode": "markers",
         "showlegend": false,
         "type": "scatter",
         "x": [
          null
         ],
         "y": [
          null
         ]
        }
       ],
       "layout": {
        "autosize": false,
        "height": 1000,
        "template": {
         "data": {
          "bar": [
           {
            "error_x": {
             "color": "#2a3f5f"
            },
            "error_y": {
             "color": "#2a3f5f"
            },
            "marker": {
             "line": {
              "color": "#E5ECF6",
              "width": 0.5
             },
             "pattern": {
              "fillmode": "overlay",
              "size": 10,
              "solidity": 0.2
             }
            },
            "type": "bar"
           }
          ],
          "barpolar": [
           {
            "marker": {
             "line": {
              "color": "#E5ECF6",
              "width": 0.5
             },
             "pattern": {
              "fillmode": "overlay",
              "size": 10,
              "solidity": 0.2
             }
            },
            "type": "barpolar"
           }
          ],
          "carpet": [
           {
            "aaxis": {
             "endlinecolor": "#2a3f5f",
             "gridcolor": "white",
             "linecolor": "white",
             "minorgridcolor": "white",
             "startlinecolor": "#2a3f5f"
            },
            "baxis": {
             "endlinecolor": "#2a3f5f",
             "gridcolor": "white",
             "linecolor": "white",
             "minorgridcolor": "white",
             "startlinecolor": "#2a3f5f"
            },
            "type": "carpet"
           }
          ],
          "choropleth": [
           {
            "colorbar": {
             "outlinewidth": 0,
             "ticks": ""
            },
            "type": "choropleth"
           }
          ],
          "contour": [
           {
            "colorbar": {
             "outlinewidth": 0,
             "ticks": ""
            },
            "colorscale": [
             [
              0,
              "#0d0887"
             ],
             [
              0.1111111111111111,
              "#46039f"
             ],
             [
              0.2222222222222222,
              "#7201a8"
             ],
             [
              0.3333333333333333,
              "#9c179e"
             ],
             [
              0.4444444444444444,
              "#bd3786"
             ],
             [
              0.5555555555555556,
              "#d8576b"
             ],
             [
              0.6666666666666666,
              "#ed7953"
             ],
             [
              0.7777777777777778,
              "#fb9f3a"
             ],
             [
              0.8888888888888888,
              "#fdca26"
             ],
             [
              1,
              "#f0f921"
             ]
            ],
            "type": "contour"
           }
          ],
          "contourcarpet": [
           {
            "colorbar": {
             "outlinewidth": 0,
             "ticks": ""
            },
            "type": "contourcarpet"
           }
          ],
          "heatmap": [
           {
            "colorbar": {
             "outlinewidth": 0,
             "ticks": ""
            },
            "colorscale": [
             [
              0,
              "#0d0887"
             ],
             [
              0.1111111111111111,
              "#46039f"
             ],
             [
              0.2222222222222222,
              "#7201a8"
             ],
             [
              0.3333333333333333,
              "#9c179e"
             ],
             [
              0.4444444444444444,
              "#bd3786"
             ],
             [
              0.5555555555555556,
              "#d8576b"
             ],
             [
              0.6666666666666666,
              "#ed7953"
             ],
             [
              0.7777777777777778,
              "#fb9f3a"
             ],
             [
              0.8888888888888888,
              "#fdca26"
             ],
             [
              1,
              "#f0f921"
             ]
            ],
            "type": "heatmap"
           }
          ],
          "heatmapgl": [
           {
            "colorbar": {
             "outlinewidth": 0,
             "ticks": ""
            },
            "colorscale": [
             [
              0,
              "#0d0887"
             ],
             [
              0.1111111111111111,
              "#46039f"
             ],
             [
              0.2222222222222222,
              "#7201a8"
             ],
             [
              0.3333333333333333,
              "#9c179e"
             ],
             [
              0.4444444444444444,
              "#bd3786"
             ],
             [
              0.5555555555555556,
              "#d8576b"
             ],
             [
              0.6666666666666666,
              "#ed7953"
             ],
             [
              0.7777777777777778,
              "#fb9f3a"
             ],
             [
              0.8888888888888888,
              "#fdca26"
             ],
             [
              1,
              "#f0f921"
             ]
            ],
            "type": "heatmapgl"
           }
          ],
          "histogram": [
           {
            "marker": {
             "pattern": {
              "fillmode": "overlay",
              "size": 10,
              "solidity": 0.2
             }
            },
            "type": "histogram"
           }
          ],
          "histogram2d": [
           {
            "colorbar": {
             "outlinewidth": 0,
             "ticks": ""
            },
            "colorscale": [
             [
              0,
              "#0d0887"
             ],
             [
              0.1111111111111111,
              "#46039f"
             ],
             [
              0.2222222222222222,
              "#7201a8"
             ],
             [
              0.3333333333333333,
              "#9c179e"
             ],
             [
              0.4444444444444444,
              "#bd3786"
             ],
             [
              0.5555555555555556,
              "#d8576b"
             ],
             [
              0.6666666666666666,
              "#ed7953"
             ],
             [
              0.7777777777777778,
              "#fb9f3a"
             ],
             [
              0.8888888888888888,
              "#fdca26"
             ],
             [
              1,
              "#f0f921"
             ]
            ],
            "type": "histogram2d"
           }
          ],
          "histogram2dcontour": [
           {
            "colorbar": {
             "outlinewidth": 0,
             "ticks": ""
            },
            "colorscale": [
             [
              0,
              "#0d0887"
             ],
             [
              0.1111111111111111,
              "#46039f"
             ],
             [
              0.2222222222222222,
              "#7201a8"
             ],
             [
              0.3333333333333333,
              "#9c179e"
             ],
             [
              0.4444444444444444,
              "#bd3786"
             ],
             [
              0.5555555555555556,
              "#d8576b"
             ],
             [
              0.6666666666666666,
              "#ed7953"
             ],
             [
              0.7777777777777778,
              "#fb9f3a"
             ],
             [
              0.8888888888888888,
              "#fdca26"
             ],
             [
              1,
              "#f0f921"
             ]
            ],
            "type": "histogram2dcontour"
           }
          ],
          "mesh3d": [
           {
            "colorbar": {
             "outlinewidth": 0,
             "ticks": ""
            },
            "type": "mesh3d"
           }
          ],
          "parcoords": [
           {
            "line": {
             "colorbar": {
              "outlinewidth": 0,
              "ticks": ""
             }
            },
            "type": "parcoords"
           }
          ],
          "pie": [
           {
            "automargin": true,
            "type": "pie"
           }
          ],
          "scatter": [
           {
            "fillpattern": {
             "fillmode": "overlay",
             "size": 10,
             "solidity": 0.2
            },
            "type": "scatter"
           }
          ],
          "scatter3d": [
           {
            "line": {
             "colorbar": {
              "outlinewidth": 0,
              "ticks": ""
             }
            },
            "marker": {
             "colorbar": {
              "outlinewidth": 0,
              "ticks": ""
             }
            },
            "type": "scatter3d"
           }
          ],
          "scattercarpet": [
           {
            "marker": {
             "colorbar": {
              "outlinewidth": 0,
              "ticks": ""
             }
            },
            "type": "scattercarpet"
           }
          ],
          "scattergeo": [
           {
            "marker": {
             "colorbar": {
              "outlinewidth": 0,
              "ticks": ""
             }
            },
            "type": "scattergeo"
           }
          ],
          "scattergl": [
           {
            "marker": {
             "colorbar": {
              "outlinewidth": 0,
              "ticks": ""
             }
            },
            "type": "scattergl"
           }
          ],
          "scattermapbox": [
           {
            "marker": {
             "colorbar": {
              "outlinewidth": 0,
              "ticks": ""
             }
            },
            "type": "scattermapbox"
           }
          ],
          "scatterpolar": [
           {
            "marker": {
             "colorbar": {
              "outlinewidth": 0,
              "ticks": ""
             }
            },
            "type": "scatterpolar"
           }
          ],
          "scatterpolargl": [
           {
            "marker": {
             "colorbar": {
              "outlinewidth": 0,
              "ticks": ""
             }
            },
            "type": "scatterpolargl"
           }
          ],
          "scatterternary": [
           {
            "marker": {
             "colorbar": {
              "outlinewidth": 0,
              "ticks": ""
             }
            },
            "type": "scatterternary"
           }
          ],
          "surface": [
           {
            "colorbar": {
             "outlinewidth": 0,
             "ticks": ""
            },
            "colorscale": [
             [
              0,
              "#0d0887"
             ],
             [
              0.1111111111111111,
              "#46039f"
             ],
             [
              0.2222222222222222,
              "#7201a8"
             ],
             [
              0.3333333333333333,
              "#9c179e"
             ],
             [
              0.4444444444444444,
              "#bd3786"
             ],
             [
              0.5555555555555556,
              "#d8576b"
             ],
             [
              0.6666666666666666,
              "#ed7953"
             ],
             [
              0.7777777777777778,
              "#fb9f3a"
             ],
             [
              0.8888888888888888,
              "#fdca26"
             ],
             [
              1,
              "#f0f921"
             ]
            ],
            "type": "surface"
           }
          ],
          "table": [
           {
            "cells": {
             "fill": {
              "color": "#EBF0F8"
             },
             "line": {
              "color": "white"
             }
            },
            "header": {
             "fill": {
              "color": "#C8D4E3"
             },
             "line": {
              "color": "white"
             }
            },
            "type": "table"
           }
          ]
         },
         "layout": {
          "annotationdefaults": {
           "arrowcolor": "#2a3f5f",
           "arrowhead": 0,
           "arrowwidth": 1
          },
          "autotypenumbers": "strict",
          "coloraxis": {
           "colorbar": {
            "outlinewidth": 0,
            "ticks": ""
           }
          },
          "colorscale": {
           "diverging": [
            [
             0,
             "#8e0152"
            ],
            [
             0.1,
             "#c51b7d"
            ],
            [
             0.2,
             "#de77ae"
            ],
            [
             0.3,
             "#f1b6da"
            ],
            [
             0.4,
             "#fde0ef"
            ],
            [
             0.5,
             "#f7f7f7"
            ],
            [
             0.6,
             "#e6f5d0"
            ],
            [
             0.7,
             "#b8e186"
            ],
            [
             0.8,
             "#7fbc41"
            ],
            [
             0.9,
             "#4d9221"
            ],
            [
             1,
             "#276419"
            ]
           ],
           "sequential": [
            [
             0,
             "#0d0887"
            ],
            [
             0.1111111111111111,
             "#46039f"
            ],
            [
             0.2222222222222222,
             "#7201a8"
            ],
            [
             0.3333333333333333,
             "#9c179e"
            ],
            [
             0.4444444444444444,
             "#bd3786"
            ],
            [
             0.5555555555555556,
             "#d8576b"
            ],
            [
             0.6666666666666666,
             "#ed7953"
            ],
            [
             0.7777777777777778,
             "#fb9f3a"
            ],
            [
             0.8888888888888888,
             "#fdca26"
            ],
            [
             1,
             "#f0f921"
            ]
           ],
           "sequentialminus": [
            [
             0,
             "#0d0887"
            ],
            [
             0.1111111111111111,
             "#46039f"
            ],
            [
             0.2222222222222222,
             "#7201a8"
            ],
            [
             0.3333333333333333,
             "#9c179e"
            ],
            [
             0.4444444444444444,
             "#bd3786"
            ],
            [
             0.5555555555555556,
             "#d8576b"
            ],
            [
             0.6666666666666666,
             "#ed7953"
            ],
            [
             0.7777777777777778,
             "#fb9f3a"
            ],
            [
             0.8888888888888888,
             "#fdca26"
            ],
            [
             1,
             "#f0f921"
            ]
           ]
          },
          "colorway": [
           "#636efa",
           "#EF553B",
           "#00cc96",
           "#ab63fa",
           "#FFA15A",
           "#19d3f3",
           "#FF6692",
           "#B6E880",
           "#FF97FF",
           "#FECB52"
          ],
          "font": {
           "color": "#2a3f5f"
          },
          "geo": {
           "bgcolor": "white",
           "lakecolor": "white",
           "landcolor": "#E5ECF6",
           "showlakes": true,
           "showland": true,
           "subunitcolor": "white"
          },
          "hoverlabel": {
           "align": "left"
          },
          "hovermode": "closest",
          "mapbox": {
           "style": "light"
          },
          "paper_bgcolor": "white",
          "plot_bgcolor": "#E5ECF6",
          "polar": {
           "angularaxis": {
            "gridcolor": "white",
            "linecolor": "white",
            "ticks": ""
           },
           "bgcolor": "#E5ECF6",
           "radialaxis": {
            "gridcolor": "white",
            "linecolor": "white",
            "ticks": ""
           }
          },
          "scene": {
           "xaxis": {
            "backgroundcolor": "#E5ECF6",
            "gridcolor": "white",
            "gridwidth": 2,
            "linecolor": "white",
            "showbackground": true,
            "ticks": "",
            "zerolinecolor": "white"
           },
           "yaxis": {
            "backgroundcolor": "#E5ECF6",
            "gridcolor": "white",
            "gridwidth": 2,
            "linecolor": "white",
            "showbackground": true,
            "ticks": "",
            "zerolinecolor": "white"
           },
           "zaxis": {
            "backgroundcolor": "#E5ECF6",
            "gridcolor": "white",
            "gridwidth": 2,
            "linecolor": "white",
            "showbackground": true,
            "ticks": "",
            "zerolinecolor": "white"
           }
          },
          "shapedefaults": {
           "line": {
            "color": "#2a3f5f"
           }
          },
          "ternary": {
           "aaxis": {
            "gridcolor": "white",
            "linecolor": "white",
            "ticks": ""
           },
           "baxis": {
            "gridcolor": "white",
            "linecolor": "white",
            "ticks": ""
           },
           "bgcolor": "#E5ECF6",
           "caxis": {
            "gridcolor": "white",
            "linecolor": "white",
            "ticks": ""
           }
          },
          "title": {
           "x": 0.05
          },
          "xaxis": {
           "automargin": true,
           "gridcolor": "white",
           "linecolor": "white",
           "ticks": "",
           "title": {
            "standoff": 15
           },
           "zerolinecolor": "white",
           "zerolinewidth": 2
          },
          "yaxis": {
           "automargin": true,
           "gridcolor": "white",
           "linecolor": "white",
           "ticks": "",
           "title": {
            "standoff": 15
           },
           "zerolinecolor": "white",
           "zerolinewidth": 2
          }
         }
        },
        "title": {
         "text": "Rank (Objective Value)"
        },
        "width": 1000,
        "xaxis": {
         "anchor": "y",
         "domain": [
          0,
          0.235
         ],
         "matches": "x13",
         "range": [
          43.75,
          1017.25
         ],
         "showticklabels": false
        },
        "xaxis10": {
         "anchor": "y10",
         "domain": [
          0.255,
          0.49
         ],
         "matches": "x14",
         "range": [
          1.5,
          100.5
         ],
         "showticklabels": false
        },
        "xaxis11": {
         "anchor": "y11",
         "domain": [
          0.51,
          0.745
         ],
         "matches": "x15",
         "range": [
          -0.3500000000000001,
          29.35
         ],
         "showticklabels": false
        },
        "xaxis12": {
         "anchor": "y12",
         "domain": [
          0.7649999999999999,
          0.9999999999999999
         ],
         "matches": "x16",
         "range": [
          0.5999999999999999,
          31.4
         ],
         "showticklabels": false
        },
        "xaxis13": {
         "anchor": "y13",
         "domain": [
          0,
          0.235
         ],
         "range": [
          43.75,
          1017.25
         ],
         "title": {
          "text": "n_estimators"
         }
        },
        "xaxis14": {
         "anchor": "y14",
         "domain": [
          0.255,
          0.49
         ],
         "range": [
          1.5,
          100.5
         ],
         "title": {
          "text": "max_depth"
         }
        },
        "xaxis15": {
         "anchor": "y15",
         "domain": [
          0.51,
          0.745
         ],
         "range": [
          -0.3500000000000001,
          29.35
         ],
         "title": {
          "text": "min_samples_leaf"
         }
        },
        "xaxis16": {
         "anchor": "y16",
         "domain": [
          0.7649999999999999,
          0.9999999999999999
         ],
         "range": [
          0.5999999999999999,
          31.4
         ],
         "title": {
          "text": "min_samples_split"
         }
        },
        "xaxis2": {
         "anchor": "y2",
         "domain": [
          0.255,
          0.49
         ],
         "matches": "x14",
         "range": [
          1.5,
          100.5
         ],
         "showticklabels": false
        },
        "xaxis3": {
         "anchor": "y3",
         "domain": [
          0.51,
          0.745
         ],
         "matches": "x15",
         "range": [
          -0.3500000000000001,
          29.35
         ],
         "showticklabels": false
        },
        "xaxis4": {
         "anchor": "y4",
         "domain": [
          0.7649999999999999,
          0.9999999999999999
         ],
         "matches": "x16",
         "range": [
          0.5999999999999999,
          31.4
         ],
         "showticklabels": false
        },
        "xaxis5": {
         "anchor": "y5",
         "domain": [
          0,
          0.235
         ],
         "matches": "x13",
         "range": [
          43.75,
          1017.25
         ],
         "showticklabels": false
        },
        "xaxis6": {
         "anchor": "y6",
         "domain": [
          0.255,
          0.49
         ],
         "matches": "x14",
         "range": [
          1.5,
          100.5
         ],
         "showticklabels": false
        },
        "xaxis7": {
         "anchor": "y7",
         "domain": [
          0.51,
          0.745
         ],
         "matches": "x15",
         "range": [
          -0.3500000000000001,
          29.35
         ],
         "showticklabels": false
        },
        "xaxis8": {
         "anchor": "y8",
         "domain": [
          0.7649999999999999,
          0.9999999999999999
         ],
         "matches": "x16",
         "range": [
          0.5999999999999999,
          31.4
         ],
         "showticklabels": false
        },
        "xaxis9": {
         "anchor": "y9",
         "domain": [
          0,
          0.235
         ],
         "matches": "x13",
         "range": [
          43.75,
          1017.25
         ],
         "showticklabels": false
        },
        "yaxis": {
         "anchor": "x",
         "domain": [
          0.7649999999999999,
          0.9999999999999999
         ],
         "range": [
          43.75,
          1017.25
         ],
         "title": {
          "text": "n_estimators"
         }
        },
        "yaxis10": {
         "anchor": "x10",
         "domain": [
          0.255,
          0.49
         ],
         "matches": "y9",
         "range": [
          -0.3500000000000001,
          29.35
         ],
         "showticklabels": false
        },
        "yaxis11": {
         "anchor": "x11",
         "domain": [
          0.255,
          0.49
         ],
         "matches": "y9",
         "range": [
          -0.3500000000000001,
          29.35
         ],
         "showticklabels": false
        },
        "yaxis12": {
         "anchor": "x12",
         "domain": [
          0.255,
          0.49
         ],
         "matches": "y9",
         "range": [
          -0.3500000000000001,
          29.35
         ],
         "showticklabels": false
        },
        "yaxis13": {
         "anchor": "x13",
         "domain": [
          0,
          0.235
         ],
         "range": [
          0.5999999999999999,
          31.4
         ],
         "title": {
          "text": "min_samples_split"
         }
        },
        "yaxis14": {
         "anchor": "x14",
         "domain": [
          0,
          0.235
         ],
         "matches": "y13",
         "range": [
          0.5999999999999999,
          31.4
         ],
         "showticklabels": false
        },
        "yaxis15": {
         "anchor": "x15",
         "domain": [
          0,
          0.235
         ],
         "matches": "y13",
         "range": [
          0.5999999999999999,
          31.4
         ],
         "showticklabels": false
        },
        "yaxis16": {
         "anchor": "x16",
         "domain": [
          0,
          0.235
         ],
         "matches": "y13",
         "range": [
          0.5999999999999999,
          31.4
         ],
         "showticklabels": false
        },
        "yaxis2": {
         "anchor": "x2",
         "domain": [
          0.7649999999999999,
          0.9999999999999999
         ],
         "matches": "y",
         "range": [
          43.75,
          1017.25
         ],
         "showticklabels": false
        },
        "yaxis3": {
         "anchor": "x3",
         "domain": [
          0.7649999999999999,
          0.9999999999999999
         ],
         "matches": "y",
         "range": [
          43.75,
          1017.25
         ],
         "showticklabels": false
        },
        "yaxis4": {
         "anchor": "x4",
         "domain": [
          0.7649999999999999,
          0.9999999999999999
         ],
         "matches": "y",
         "range": [
          43.75,
          1017.25
         ],
         "showticklabels": false
        },
        "yaxis5": {
         "anchor": "x5",
         "domain": [
          0.51,
          0.745
         ],
         "range": [
          1.5,
          100.5
         ],
         "title": {
          "text": "max_depth"
         }
        },
        "yaxis6": {
         "anchor": "x6",
         "domain": [
          0.51,
          0.745
         ],
         "matches": "y5",
         "range": [
          1.5,
          100.5
         ],
         "showticklabels": false
        },
        "yaxis7": {
         "anchor": "x7",
         "domain": [
          0.51,
          0.745
         ],
         "matches": "y5",
         "range": [
          1.5,
          100.5
         ],
         "showticklabels": false
        },
        "yaxis8": {
         "anchor": "x8",
         "domain": [
          0.51,
          0.745
         ],
         "matches": "y5",
         "range": [
          1.5,
          100.5
         ],
         "showticklabels": false
        },
        "yaxis9": {
         "anchor": "x9",
         "domain": [
          0.255,
          0.49
         ],
         "range": [
          -0.3500000000000001,
          29.35
         ],
         "title": {
          "text": "min_samples_leaf"
         }
        }
       }
      }
     },
     "metadata": {},
     "output_type": "display_data"
    }
   ],
   "source": [
    "fig = optuna.visualization.plot_rank(study, params=['n_estimators','max_depth','min_samples_leaf',\n",
    "                                                             'min_samples_split'])\n",
    "fig.update_layout(\n",
    "    autosize=False,\n",
    "    width=1000,\n",
    "    height=1000)\n",
    "\n",
    "fig.show()"
   ]
  },
  {
   "cell_type": "code",
   "execution_count": null,
   "metadata": {},
   "outputs": [],
   "source": []
  }
 ],
 "metadata": {
  "kernelspec": {
   "display_name": "base",
   "language": "python",
   "name": "python3"
  },
  "language_info": {
   "codemirror_mode": {
    "name": "ipython",
    "version": 3
   },
   "file_extension": ".py",
   "mimetype": "text/x-python",
   "name": "python",
   "nbconvert_exporter": "python",
   "pygments_lexer": "ipython3",
   "version": "3.11.4"
  }
 },
 "nbformat": 4,
 "nbformat_minor": 2
}
