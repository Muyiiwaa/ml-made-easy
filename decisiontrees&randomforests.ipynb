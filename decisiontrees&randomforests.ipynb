{
 "cells": [
  {
   "cell_type": "markdown",
   "metadata": {},
   "source": [
    "## Decision Trees and RandomForest"
   ]
  },
  {
   "cell_type": "code",
   "execution_count": 1,
   "metadata": {},
   "outputs": [],
   "source": [
    "import pandas as pd\n",
    "import numpy as np \n",
    "\n",
    "import seaborn as sns\n",
    "import matplotlib.pyplot as plt\n",
    "\n",
    "\n",
    "from sklearn.tree import DecisionTreeClassifier\n",
    "from sklearn.tree import DecisionTreeRegressor\n",
    "from sklearn.ensemble import RandomForestClassifier\n",
    "from sklearn.ensemble import RandomForestRegressor\n",
    "\n",
    "\n",
    "from sklearn.metrics import accuracy_score\n",
    "from sklearn.metrics import precision_score\n",
    "from sklearn.metrics import recall_score\n",
    "from sklearn.metrics import f1_score\n",
    "from sklearn.metrics import mean_squared_error"
   ]
  },
  {
   "cell_type": "code",
   "execution_count": 2,
   "metadata": {},
   "outputs": [],
   "source": [
    "train = pd.read_csv('weather_train.csv')\n",
    "test = pd.read_csv('weather_test.csv')"
   ]
  },
  {
   "cell_type": "code",
   "execution_count": 4,
   "metadata": {},
   "outputs": [],
   "source": [
    "X_train = train.drop(columns=['Date', 'RainTomorrow'])\n",
    "X_test = test.drop(columns=['Date', 'RainTomorrow'])\n",
    "\n",
    "y_train = train['RainTomorrow']\n",
    "y_test = test['RainTomorrow']"
   ]
  },
  {
   "cell_type": "code",
   "execution_count": 3,
   "metadata": {},
   "outputs": [],
   "source": [
    "from sklearn.preprocessing import StandardScaler\n",
    "scaler = StandardScaler()\n",
    "\n",
    "def scale(x):\n",
    "    numeric_cols = list(x.describe().columns)\n",
    "    scaler.fit(x[numeric_cols])\n",
    "    scaled_num = scaler.transform(x[numeric_cols])\n",
    "    return scaled_num"
   ]
  },
  {
   "cell_type": "code",
   "execution_count": 5,
   "metadata": {},
   "outputs": [],
   "source": [
    "X_train = scale(X_train)\n",
    "X_test = scale(X_test)"
   ]
  },
  {
   "cell_type": "code",
   "execution_count": 28,
   "metadata": {},
   "outputs": [],
   "source": [
    "decision_classifier = DecisionTreeClassifier(random_state=23, max_depth= 6)\n",
    "\n",
    "model = decision_classifier.fit(X_train,y_train)\n",
    "\n",
    "test_pred = model.predict(X_test)\n",
    "train_pred = model.predict(X_train)"
   ]
  },
  {
   "cell_type": "code",
   "execution_count": 29,
   "metadata": {},
   "outputs": [],
   "source": [
    "test_score = accuracy_score(y_true = y_test, y_pred=test_pred)\n",
    "train_score = accuracy_score(y_true=y_train, y_pred=train_pred)"
   ]
  },
  {
   "cell_type": "code",
   "execution_count": 30,
   "metadata": {},
   "outputs": [
    {
     "name": "stdout",
     "output_type": "stream",
     "text": [
      "0.8309296983846067\n",
      "0.844545553938925\n"
     ]
    }
   ],
   "source": [
    "print(test_score)\n",
    "print(train_score)"
   ]
  },
  {
   "cell_type": "code",
   "execution_count": 34,
   "metadata": {},
   "outputs": [
    {
     "name": "stdout",
     "output_type": "stream",
     "text": [
      "test precision: 0.8522483940042827\n",
      "train precision: 0.8644726283443916\n",
      "test recall: 0.9461937800203775\n",
      "train recall: 0.9501462806006109\n",
      "test f1_score: 0.8967673702119833\n",
      "train f1_score: 0.9052869982270775\n"
     ]
    }
   ],
   "source": [
    "# advance metrics \n",
    "\n",
    "print(f'test precision: {precision_score(y_true = y_test, y_pred=test_pred, pos_label=\"No\")}')\n",
    "print(f'train precision: {precision_score(y_true = y_train, y_pred=train_pred, pos_label=\"No\")}')\n",
    "\n",
    "print(f'test recall: {recall_score(y_true = y_test, y_pred=test_pred, pos_label=\"No\")}')\n",
    "print(f'train recall: {recall_score(y_true = y_train, y_pred=train_pred, pos_label=\"No\")}')\n",
    "\n",
    "print(f'test f1_score: {f1_score(y_true = y_test, y_pred=test_pred, pos_label=\"No\")}')\n",
    "print(f'train f1_score: {f1_score(y_true = y_train, y_pred=train_pred, pos_label=\"No\")}')"
   ]
  },
  {
   "cell_type": "code",
   "execution_count": 35,
   "metadata": {},
   "outputs": [
    {
     "data": {
      "text/plain": [
       "array([[19502,  1109],\n",
       "       [ 3381,  2565]], dtype=int64)"
      ]
     },
     "execution_count": 35,
     "metadata": {},
     "output_type": "execute_result"
    }
   ],
   "source": [
    "from sklearn.metrics import confusion_matrix\n",
    "\n",
    "confusion_matrix(y_true=y_test, y_pred=test_pred)"
   ]
  },
  {
   "cell_type": "code",
   "execution_count": null,
   "metadata": {},
   "outputs": [],
   "source": []
  }
 ],
 "metadata": {
  "kernelspec": {
   "display_name": "base",
   "language": "python",
   "name": "python3"
  },
  "language_info": {
   "codemirror_mode": {
    "name": "ipython",
    "version": 3
   },
   "file_extension": ".py",
   "mimetype": "text/x-python",
   "name": "python",
   "nbconvert_exporter": "python",
   "pygments_lexer": "ipython3",
   "version": "3.11.4"
  }
 },
 "nbformat": 4,
 "nbformat_minor": 2
}
