{
 "cells": [
  {
   "cell_type": "markdown",
   "metadata": {},
   "source": [
    "### Introduction to Machine Learning"
   ]
  },
  {
   "cell_type": "code",
   "execution_count": 2,
   "metadata": {},
   "outputs": [
    {
     "name": "stdout",
     "output_type": "stream",
     "text": [
      "Hi wale, you scored 50\n",
      "You passed!\n",
      "NEXT!\n",
      "Hi tomi, you scored 98\n",
      "You won a schorlarship\n",
      "NEXT!\n",
      "Hi kemi, you scored 45\n",
      "You passed!\n",
      "NEXT!\n",
      "Hi segun, you scored 35\n",
      "You failed!\n",
      "NEXT!\n"
     ]
    }
   ],
   "source": [
    "# rule based learning\n",
    "\n",
    "scores = {'segun': 35,\n",
    "          'wale': 50,\n",
    "          'tola': 65,\n",
    "          'tomi': 98,\n",
    "          'kemi': 45}\n",
    "while True:\n",
    "    name = input('Enter your name: ')\n",
    "    if name.lower() in scores.keys():\n",
    "        print(f'Hi {name}, you scored {scores[name]}')\n",
    "        if scores[name] < 40:\n",
    "            print('You failed!')\n",
    "        elif scores[name] < 65:\n",
    "            print('You passed!')\n",
    "        else:\n",
    "            print('You won a schorlarship')\n",
    "        print('NEXT!')\n",
    "    else:\n",
    "        break\n",
    "\n",
    "\n",
    "\n",
    "\n",
    "\n"
   ]
  },
  {
   "cell_type": "markdown",
   "metadata": {},
   "source": [
    "### MACHINE LEARNING\n",
    "\n",
    "This approach involves setting up models or algorithms that allows the machine to learn from historical data. We train our historical dataset on the model and we fit the model on the dataset as best as possible then use this newly created model to predict the outcome of future events that it has never seen based on the patterns that it has learnt from the historical dataset\n",
    "\n",
    "\n",
    "1. #### SUPERVISED LEARNING \n",
    "\n",
    "This is the type of machine learning algorithms that trains a model on a dataset with the purpose of predicting a  response variable. These response variables usually exist in the form of dependent variables.\n",
    "\n",
    "#### Classes of Supervised learning algorithms\n",
    "\n",
    "* #### Regression\n",
    "This type of supervised learning algorithm learns from the dataset to predict a continuous outcome/response variable. Example of these algorithms include linear regression, decision tree regression, xgboost regression etc\n",
    "\n",
    "\n",
    "* #### Classification\n",
    "This type of supervised learning algorithm learns from the dataset to predict a categorical outcome/response variable. Example of these algorithms include logistic regression, decision tree classifier, xgboost classifier etc\n",
    "\n",
    "\n",
    "2. #### Unsupervised Learning\n",
    "In this type of machine learning, the model isi trained to learn from dataset without a target variable. The algorithm is structured in a way that the model learns pattern from the dataset without seeing a dependent variable.\n",
    "Example includes K means clustering, Heirachical clustering etc\n",
    "\n",
    "\n",
    "3. #### Reinforcement Learning\n",
    "\n",
    "\n"
   ]
  },
  {
   "cell_type": "markdown",
   "metadata": {},
   "source": []
  }
 ],
 "metadata": {
  "kernelspec": {
   "display_name": "base",
   "language": "python",
   "name": "python3"
  },
  "language_info": {
   "codemirror_mode": {
    "name": "ipython",
    "version": 3
   },
   "file_extension": ".py",
   "mimetype": "text/x-python",
   "name": "python",
   "nbconvert_exporter": "python",
   "pygments_lexer": "ipython3",
   "version": "3.11.4"
  }
 },
 "nbformat": 4,
 "nbformat_minor": 2
}
